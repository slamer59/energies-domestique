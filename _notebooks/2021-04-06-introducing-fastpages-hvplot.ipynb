{
 "cells": [
  {
   "cell_type": "markdown",
   "metadata": {},
   "source": [
    "# Introducing fastpages with hvplot\n",
    "> An easy to use blogging platform with extra features for <a href=\"https://jupyter.org/\">Jupyter Notebooks</a>.\n",
    "\n",
    "- toc: true \n",
    "- badges: true\n",
    "- comments: false\n",
    "- sticky_rank: 1\n",
    "- author: Thomas PEdot\n",
    "- categories: [fastpages, jupyter, bokeh, hvplot]"
   ]
  },
  {
   "cell_type": "markdown",
   "metadata": {},
   "source": [
    "### Code Folding"
   ]
  },
  {
   "cell_type": "markdown",
   "metadata": {},
   "source": [
    "put a `#collapse-hide` flag at the top of any cell if you want to **hide** that cell by default, but give the reader the option to show it:"
   ]
  },
  {
   "cell_type": "code",
   "execution_count": 1,
   "metadata": {},
   "outputs": [
    {
     "name": "stdout",
     "output_type": "stream",
     "text": [
      "Collecting holoviews[recommended]\n",
      "  Downloading holoviews-1.14.2-py2.py3-none-any.whl (4.3 MB)\n",
      "\u001b[K     |████████████████████████████████| 4.3 MB 4.1 MB/s eta 0:00:01     |████████████▎                   | 1.6 MB 2.1 MB/s eta 0:00:02\n",
      "\u001b[?25hRequirement already satisfied: notebook in /usr/local/lib/python3.8/dist-packages (from holoviews[recommended]) (6.1.6)\n",
      "Requirement already satisfied: ipython>=5.4.0 in /usr/local/lib/python3.8/dist-packages (from holoviews[recommended]) (7.19.0)\n",
      "Collecting panel\n",
      "  Downloading panel-0.11.1-py2.py3-none-any.whl (8.8 MB)\n",
      "\u001b[K     |████████████████████████████████| 8.8 MB 6.4 MB/s eta 0:00:01\n",
      "\u001b[?25hRequirement already satisfied: requests in /usr/lib/python3/dist-packages (from panel) (2.22.0)\n",
      "Collecting bokeh>=1.1.0\n",
      "  Downloading bokeh-2.3.0.tar.gz (10.6 MB)\n",
      "\u001b[K     |████████████████████████████████| 10.6 MB 7.2 MB/s eta 0:00:01\n",
      "\u001b[?25hRequirement already satisfied: Jinja2>=2.7 in /usr/local/lib/python3.8/dist-packages (from bokeh>=1.1.0->holoviews[recommended]) (2.11.2)\n",
      "Requirement already satisfied: PyYAML>=3.10 in /usr/local/lib/python3.8/dist-packages (from bokeh>=1.1.0->holoviews[recommended]) (5.3.1)\n",
      "Requirement already satisfied: packaging>=16.8 in /usr/local/lib/python3.8/dist-packages (from bokeh>=1.1.0->holoviews[recommended]) (20.8)\n",
      "Requirement already satisfied: python-dateutil>=2.1 in /usr/local/lib/python3.8/dist-packages (from bokeh>=1.1.0->holoviews[recommended]) (2.8.1)\n",
      "Requirement already satisfied: tornado>=5.1 in /usr/local/lib/python3.8/dist-packages (from bokeh>=1.1.0->holoviews[recommended]) (6.1)\n",
      "Requirement already satisfied: traitlets>=4.2 in /usr/local/lib/python3.8/dist-packages (from ipython>=5.4.0->holoviews[recommended]) (5.0.5)\n",
      "Requirement already satisfied: decorator in /usr/local/lib/python3.8/dist-packages (from ipython>=5.4.0->holoviews[recommended]) (4.4.2)\n",
      "Requirement already satisfied: pexpect>4.3 in /usr/local/lib/python3.8/dist-packages (from ipython>=5.4.0->holoviews[recommended]) (4.8.0)\n",
      "Requirement already satisfied: pygments in /usr/local/lib/python3.8/dist-packages (from ipython>=5.4.0->holoviews[recommended]) (2.7.3)\n",
      "Requirement already satisfied: setuptools>=18.5 in /usr/lib/python3/dist-packages (from ipython>=5.4.0->holoviews[recommended]) (45.2.0)\n",
      "Requirement already satisfied: jedi>=0.10 in /usr/local/lib/python3.8/dist-packages (from ipython>=5.4.0->holoviews[recommended]) (0.18.0)\n",
      "Requirement already satisfied: pickleshare in /usr/local/lib/python3.8/dist-packages (from ipython>=5.4.0->holoviews[recommended]) (0.7.5)\n",
      "Requirement already satisfied: prompt-toolkit!=3.0.0,!=3.0.1,<3.1.0,>=2.0.0 in /usr/local/lib/python3.8/dist-packages (from ipython>=5.4.0->holoviews[recommended]) (3.0.8)\n",
      "Requirement already satisfied: backcall in /usr/local/lib/python3.8/dist-packages (from ipython>=5.4.0->holoviews[recommended]) (0.2.0)\n",
      "Requirement already satisfied: parso<0.9.0,>=0.8.0 in /usr/local/lib/python3.8/dist-packages (from jedi>=0.10->ipython>=5.4.0->holoviews[recommended]) (0.8.1)\n",
      "Requirement already satisfied: MarkupSafe>=0.23 in /usr/local/lib/python3.8/dist-packages (from Jinja2>=2.7->bokeh>=1.1.0->holoviews[recommended]) (1.1.1)\n",
      "Collecting matplotlib>=2.2\n",
      "  Downloading matplotlib-3.4.1-cp38-cp38-manylinux1_x86_64.whl (10.3 MB)\n",
      "\u001b[K     |████████████████████████████████| 10.3 MB 9.0 MB/s eta 0:00:01\n",
      "\u001b[?25hRequirement already satisfied: pyparsing>=2.2.1 in /usr/local/lib/python3.8/dist-packages (from matplotlib>=2.2->holoviews[recommended]) (2.4.7)\n",
      "Collecting cycler>=0.10\n",
      "  Downloading cycler-0.10.0-py2.py3-none-any.whl (6.5 kB)\n",
      "Requirement already satisfied: six in /usr/lib/python3/dist-packages (from cycler>=0.10->matplotlib>=2.2->holoviews[recommended]) (1.14.0)\n",
      "Collecting kiwisolver>=1.0.1\n",
      "  Downloading kiwisolver-1.3.1-cp38-cp38-manylinux1_x86_64.whl (1.2 MB)\n",
      "\u001b[K     |████████████████████████████████| 1.2 MB 8.3 MB/s eta 0:00:01\n",
      "\u001b[?25hCollecting numpy>=1.0\n",
      "  Downloading numpy-1.20.2-cp38-cp38-manylinux2010_x86_64.whl (15.4 MB)\n",
      "\u001b[K     |████████████████████████████████| 15.4 MB 8.8 MB/s eta 0:00:01\n",
      "\u001b[?25hCollecting param<2.0,>=1.9.3\n",
      "  Downloading param-1.10.1-py2.py3-none-any.whl (76 kB)\n",
      "\u001b[K     |████████████████████████████████| 76 kB 3.6 MB/s  eta 0:00:01\n",
      "\u001b[?25hRequirement already satisfied: ptyprocess>=0.5 in /usr/local/lib/python3.8/dist-packages (from pexpect>4.3->ipython>=5.4.0->holoviews[recommended]) (0.7.0)\n",
      "Collecting pillow>=7.1.0\n",
      "  Downloading Pillow-8.2.0-cp38-cp38-manylinux1_x86_64.whl (3.0 MB)\n",
      "\u001b[K     |████████████████████████████████| 3.0 MB 9.2 MB/s eta 0:00:01\n",
      "\u001b[?25hRequirement already satisfied: wcwidth in /usr/local/lib/python3.8/dist-packages (from prompt-toolkit!=3.0.0,!=3.0.1,<3.1.0,>=2.0.0->ipython>=5.4.0->holoviews[recommended]) (0.2.5)\n",
      "Collecting pyct>=0.4.4\n",
      "  Downloading pyct-0.4.8-py2.py3-none-any.whl (15 kB)\n",
      "Collecting pyviz-comms>=0.7.3\n",
      "  Downloading pyviz_comms-2.0.1-py2.py3-none-any.whl (240 kB)\n",
      "\u001b[K     |████████████████████████████████| 240 kB 8.8 MB/s eta 0:00:01\n",
      "\u001b[?25hRequirement already satisfied: ipython-genutils in /usr/local/lib/python3.8/dist-packages (from traitlets>=4.2->ipython>=5.4.0->holoviews[recommended]) (0.2.0)\n",
      "Collecting typing_extensions>=3.7.4\n",
      "  Downloading typing_extensions-3.7.4.3-py3-none-any.whl (22 kB)\n",
      "Collecting hvplot\n",
      "  Downloading hvplot-0.7.1-py2.py3-none-any.whl (3.1 MB)\n",
      "\u001b[K     |████████████████████████████████| 3.1 MB 10.2 MB/s eta 0:00:01\n",
      "\u001b[?25hCollecting colorcet\n",
      "  Downloading colorcet-2.0.6-py2.py3-none-any.whl (1.6 MB)\n",
      "\u001b[K     |████████████████████████████████| 1.6 MB 6.3 MB/s eta 0:00:01\n",
      "\u001b[?25hCollecting pandas\n",
      "  Downloading pandas-1.2.3-cp38-cp38-manylinux1_x86_64.whl (9.7 MB)\n",
      "\u001b[K     |████████████████████████████████| 9.7 MB 11.8 MB/s eta 0:00:01\n",
      "\u001b[?25hCollecting pytz>=2017.3\n",
      "  Downloading pytz-2021.1-py2.py3-none-any.whl (510 kB)\n",
      "\u001b[K     |████████████████████████████████| 510 kB 9.6 MB/s eta 0:00:01\n",
      "\u001b[?25hCollecting markdown\n",
      "  Downloading Markdown-3.3.4-py3-none-any.whl (97 kB)\n",
      "\u001b[K     |████████████████████████████████| 97 kB 5.2 MB/s eta 0:00:011\n",
      "\u001b[?25hRequirement already satisfied: argon2-cffi in /usr/local/lib/python3.8/dist-packages (from notebook->holoviews[recommended]) (20.1.0)\n",
      "Requirement already satisfied: nbconvert in /usr/local/lib/python3.8/dist-packages (from notebook->holoviews[recommended]) (5.6.1)\n",
      "Requirement already satisfied: jupyter-client>=5.3.4 in /usr/local/lib/python3.8/dist-packages (from notebook->holoviews[recommended]) (6.1.7)\n",
      "Requirement already satisfied: Send2Trash in /usr/local/lib/python3.8/dist-packages (from notebook->holoviews[recommended]) (1.5.0)\n",
      "Requirement already satisfied: terminado>=0.8.3 in /usr/local/lib/python3.8/dist-packages (from notebook->holoviews[recommended]) (0.9.1)\n",
      "Requirement already satisfied: jupyter-core>=4.6.1 in /usr/local/lib/python3.8/dist-packages (from notebook->holoviews[recommended]) (4.7.0)\n",
      "Requirement already satisfied: nbformat in /usr/local/lib/python3.8/dist-packages (from notebook->holoviews[recommended]) (5.0.8)\n",
      "Requirement already satisfied: prometheus-client in /usr/local/lib/python3.8/dist-packages (from notebook->holoviews[recommended]) (0.9.0)\n",
      "Requirement already satisfied: pyzmq>=17 in /usr/local/lib/python3.8/dist-packages (from notebook->holoviews[recommended]) (20.0.0)\n",
      "Requirement already satisfied: ipykernel in /usr/local/lib/python3.8/dist-packages (from notebook->holoviews[recommended]) (5.4.2)\n",
      "Requirement already satisfied: cffi>=1.0.0 in /usr/local/lib/python3.8/dist-packages (from argon2-cffi->notebook->holoviews[recommended]) (1.14.4)\n",
      "Requirement already satisfied: pycparser in /usr/local/lib/python3.8/dist-packages (from cffi>=1.0.0->argon2-cffi->notebook->holoviews[recommended]) (2.20)\n",
      "Requirement already satisfied: defusedxml in /usr/local/lib/python3.8/dist-packages (from nbconvert->notebook->holoviews[recommended]) (0.6.0)\n",
      "Requirement already satisfied: mistune<2,>=0.8.1 in /usr/local/lib/python3.8/dist-packages (from nbconvert->notebook->holoviews[recommended]) (0.8.4)\n",
      "Requirement already satisfied: bleach in /usr/local/lib/python3.8/dist-packages (from nbconvert->notebook->holoviews[recommended]) (3.2.1)\n",
      "Requirement already satisfied: entrypoints>=0.2.2 in /usr/local/lib/python3.8/dist-packages (from nbconvert->notebook->holoviews[recommended]) (0.3)\n",
      "Requirement already satisfied: pandocfilters>=1.4.1 in /usr/local/lib/python3.8/dist-packages (from nbconvert->notebook->holoviews[recommended]) (1.4.3)\n",
      "Requirement already satisfied: testpath in /usr/local/lib/python3.8/dist-packages (from nbconvert->notebook->holoviews[recommended]) (0.4.4)\n"
     ]
    },
    {
     "name": "stdout",
     "output_type": "stream",
     "text": [
      "Requirement already satisfied: jsonschema!=2.5.0,>=2.4 in /usr/local/lib/python3.8/dist-packages (from nbformat->notebook->holoviews[recommended]) (3.2.0)\n",
      "Requirement already satisfied: attrs>=17.4.0 in /usr/local/lib/python3.8/dist-packages (from jsonschema!=2.5.0,>=2.4->nbformat->notebook->holoviews[recommended]) (20.3.0)\n",
      "Requirement already satisfied: pyrsistent>=0.14.0 in /usr/local/lib/python3.8/dist-packages (from jsonschema!=2.5.0,>=2.4->nbformat->notebook->holoviews[recommended]) (0.17.3)\n",
      "Requirement already satisfied: webencodings in /usr/local/lib/python3.8/dist-packages (from bleach->nbconvert->notebook->holoviews[recommended]) (0.5.1)\n",
      "Collecting tqdm\n",
      "  Downloading tqdm-4.60.0-py2.py3-none-any.whl (75 kB)\n",
      "\u001b[K     |████████████████████████████████| 75 kB 4.3 MB/s  eta 0:00:01\n",
      "\u001b[?25hBuilding wheels for collected packages: bokeh\n",
      "  Building wheel for bokeh (setup.py) ... \u001b[?25ldone\n",
      "\u001b[?25h  Created wheel for bokeh: filename=bokeh-2.3.0-py3-none-any.whl size=11292268 sha256=f11391723797c7889bd45c42a912f0bf1b2e342b4bb12b6e2ec73a9b86ea2a73\n",
      "  Stored in directory: /root/.cache/pip/wheels/a6/5a/6d/9308e75e41789a5bd832c2ba839e38608f8356f8d4cf7dd7f3\n",
      "Successfully built bokeh\n",
      "Installing collected packages: typing-extensions, pillow, param, numpy, tqdm, pyviz-comms, pytz, pyct, markdown, bokeh, panel, pandas, kiwisolver, cycler, colorcet, matplotlib, holoviews, hvplot\n",
      "Successfully installed bokeh-2.3.0 colorcet-2.0.6 cycler-0.10.0 holoviews-1.14.2 hvplot-0.7.1 kiwisolver-1.3.1 markdown-3.3.4 matplotlib-3.4.1 numpy-1.20.2 pandas-1.2.3 panel-0.11.1 param-1.10.1 pillow-8.2.0 pyct-0.4.8 pytz-2021.1 pyviz-comms-2.0.1 tqdm-4.60.0 typing-extensions-3.7.4.3\n",
      "\u001b[33mWARNING: You are using pip version 20.3.3; however, version 21.0.1 is available.\n",
      "You should consider upgrading via the '/usr/bin/python -m pip install --upgrade pip' command.\u001b[0m\n"
     ]
    }
   ],
   "source": [
    "#hide\n",
    "!pip install pandas \"holoviews[recommended]\" hvplot panel"
   ]
  },
  {
   "cell_type": "code",
   "execution_count": 9,
   "metadata": {},
   "outputs": [],
   "source": [
    "#collapse-hide\n",
    "import hvplot.pandas  # noqa"
   ]
  },
  {
   "cell_type": "markdown",
   "metadata": {},
   "source": [
    "put a `#collapse-show` flag at the top of any cell if you want to **show** that cell by default, but give the reader the option to hide it:"
   ]
  },
  {
   "cell_type": "code",
   "execution_count": 10,
   "metadata": {},
   "outputs": [
    {
     "data": {
      "text/html": [
       "<div>\n",
       "<style scoped>\n",
       "    .dataframe tbody tr th:only-of-type {\n",
       "        vertical-align: middle;\n",
       "    }\n",
       "\n",
       "    .dataframe tbody tr th {\n",
       "        vertical-align: top;\n",
       "    }\n",
       "\n",
       "    .dataframe thead th {\n",
       "        text-align: right;\n",
       "    }\n",
       "</style>\n",
       "<table border=\"1\" class=\"dataframe\">\n",
       "  <thead>\n",
       "    <tr style=\"text-align: right;\">\n",
       "      <th></th>\n",
       "      <th>Name</th>\n",
       "      <th>Country</th>\n",
       "      <th>Medal</th>\n",
       "      <th>Time</th>\n",
       "      <th>Year</th>\n",
       "    </tr>\n",
       "  </thead>\n",
       "  <tbody>\n",
       "    <tr>\n",
       "      <th>0</th>\n",
       "      <td>Usain Bolt</td>\n",
       "      <td>JAM</td>\n",
       "      <td>GOLD</td>\n",
       "      <td>9.63</td>\n",
       "      <td>2012</td>\n",
       "    </tr>\n",
       "    <tr>\n",
       "      <th>1</th>\n",
       "      <td>Yohan Blake</td>\n",
       "      <td>JAM</td>\n",
       "      <td>SILVER</td>\n",
       "      <td>9.75</td>\n",
       "      <td>2012</td>\n",
       "    </tr>\n",
       "    <tr>\n",
       "      <th>2</th>\n",
       "      <td>Justin Gatlin</td>\n",
       "      <td>USA</td>\n",
       "      <td>BRONZE</td>\n",
       "      <td>9.79</td>\n",
       "      <td>2012</td>\n",
       "    </tr>\n",
       "    <tr>\n",
       "      <th>3</th>\n",
       "      <td>Usain Bolt</td>\n",
       "      <td>JAM</td>\n",
       "      <td>GOLD</td>\n",
       "      <td>9.69</td>\n",
       "      <td>2008</td>\n",
       "    </tr>\n",
       "    <tr>\n",
       "      <th>4</th>\n",
       "      <td>Richard Thompson</td>\n",
       "      <td>TRI</td>\n",
       "      <td>SILVER</td>\n",
       "      <td>9.89</td>\n",
       "      <td>2008</td>\n",
       "    </tr>\n",
       "  </tbody>\n",
       "</table>\n",
       "</div>"
      ],
      "text/plain": [
       "               Name Country   Medal  Time  Year\n",
       "0        Usain Bolt     JAM    GOLD  9.63  2012\n",
       "1       Yohan Blake     JAM  SILVER  9.75  2012\n",
       "2     Justin Gatlin     USA  BRONZE  9.79  2012\n",
       "3        Usain Bolt     JAM    GOLD  9.69  2008\n",
       "4  Richard Thompson     TRI  SILVER  9.89  2008"
      ]
     },
     "execution_count": 10,
     "metadata": {},
     "output_type": "execute_result"
    }
   ],
   "source": [
    "#collapse-show\n",
    "from bokeh.sampledata.sprint import sprint as df\n",
    "\n",
    "df.head()"
   ]
  },
  {
   "cell_type": "markdown",
   "metadata": {},
   "source": [
    "If you want to completely hide cells (not just collapse them), [read these instructions](https://github.com/fastai/fastpages#hide-inputoutput-cells)."
   ]
  },
  {
   "cell_type": "code",
   "execution_count": 11,
   "metadata": {},
   "outputs": [
    {
     "data": {},
     "metadata": {},
     "output_type": "display_data"
    },
    {
     "data": {
      "application/vnd.holoviews_exec.v0+json": "",
      "text/html": [
       "<div id='2633'>\n",
       "\n",
       "\n",
       "\n",
       "\n",
       "\n",
       "  <div class=\"bk-root\" id=\"f0691aac-44cc-46ab-800c-a0c548ec5582\" data-root-id=\"2633\"></div>\n",
       "</div>\n",
       "<script type=\"application/javascript\">(function(root) {\n",
       "  function embed_document(root) {\n",
       "    var docs_json = {\"361d6622-ad13-4df1-9ba0-a48d3c5b346f\":{\"defs\":[{\"extends\":null,\"module\":null,\"name\":\"DataModel\",\"overrides\":[],\"properties\":[]}],\"roots\":{\"references\":[{\"attributes\":{\"factors\":[\"GOLD\",\"SILVER\",\"BRONZE\"],\"tags\":[[[\"Medal\",\"Medal\",null]]]},\"id\":\"2635\",\"type\":\"FactorRange\"},{\"attributes\":{\"source\":{\"id\":\"2672\"}},\"id\":\"2677\",\"type\":\"CDSView\"},{\"attributes\":{\"line_alpha\":{\"value\":1.0},\"line_cap\":{\"value\":\"butt\"},\"line_color\":{\"value\":\"black\"},\"line_dash\":{\"value\":[]},\"line_dash_offset\":{\"value\":0},\"line_join\":{\"value\":\"bevel\"},\"line_width\":{\"value\":1},\"x0\":{\"field\":\"x0\"},\"x1\":{\"field\":\"x1\"},\"y0\":{\"field\":\"y0\"},\"y1\":{\"field\":\"y1\"}},\"id\":\"2685\",\"type\":\"Segment\"},{\"attributes\":{},\"id\":\"2739\",\"type\":\"Selection\"},{\"attributes\":{\"line_alpha\":{\"value\":1.0},\"line_cap\":{\"value\":\"butt\"},\"line_color\":{\"value\":\"black\"},\"line_dash\":{\"value\":[]},\"line_dash_offset\":{\"value\":0},\"line_join\":{\"value\":\"bevel\"},\"line_width\":{\"value\":1},\"x0\":{\"field\":\"x0\"},\"x1\":{\"field\":\"x1\"},\"y0\":{\"field\":\"y0\"},\"y1\":{\"field\":\"y1\"}},\"id\":\"2699\",\"type\":\"Segment\"},{\"attributes\":{},\"id\":\"2714\",\"type\":\"AllLabels\"},{\"attributes\":{\"line_alpha\":{\"value\":1.0},\"line_cap\":{\"value\":\"butt\"},\"line_color\":{\"value\":\"black\"},\"line_dash\":{\"value\":[]},\"line_dash_offset\":{\"value\":0},\"line_join\":{\"value\":\"bevel\"},\"line_width\":{\"value\":1},\"x0\":{\"field\":\"x0\"},\"x1\":{\"field\":\"x1\"},\"y0\":{\"field\":\"y0\"},\"y1\":{\"field\":\"y1\"}},\"id\":\"2692\",\"type\":\"Segment\"},{\"attributes\":{},\"id\":\"2716\",\"type\":\"CategoricalTickFormatter\"},{\"attributes\":{},\"id\":\"2740\",\"type\":\"UnionRenderers\"},{\"attributes\":{\"bottom\":{\"field\":\"bottom\"},\"fill_alpha\":{\"value\":0.1},\"fill_color\":{\"value\":\"#30a2da\"},\"line_alpha\":{\"value\":0.1},\"top\":{\"field\":\"top\"},\"width\":{\"value\":0.7},\"x\":{\"field\":\"index\"}},\"id\":\"2703\",\"type\":\"VBar\"},{\"attributes\":{\"data\":{\"Time\":{\"__ndarray__\":\"ZmZmZmZmKEAzMzMzMzMpQDMzMzMzMylA\",\"dtype\":\"float64\",\"order\":\"little\",\"shape\":[3]},\"index\":[\"SILVER\",\"BRONZE\",\"BRONZE\"]},\"selected\":{\"id\":\"2727\"},\"selection_policy\":{\"id\":\"2728\"}},\"id\":\"2665\",\"type\":\"ColumnDataSource\"},{\"attributes\":{},\"id\":\"2655\",\"type\":\"WheelZoomTool\"},{\"attributes\":{\"source\":{\"id\":\"2686\"}},\"id\":\"2691\",\"type\":\"CDSView\"},{\"attributes\":{\"overlay\":{\"id\":\"2658\"}},\"id\":\"2656\",\"type\":\"BoxZoomTool\"},{\"attributes\":{\"data\":{\"bottom\":{\"__ndarray__\":\"zczMzMyMJEDNzMzMzIwkQM3MzMzMzCRA\",\"dtype\":\"float64\",\"order\":\"little\",\"shape\":[3]},\"index\":[\"GOLD\",\"SILVER\",\"BRONZE\"],\"top\":{\"__ndarray__\":\"CtejcD3qI0BSuB6F6xEkQKRwPQrXIyRA\",\"dtype\":\"float64\",\"order\":\"little\",\"shape\":[3]}},\"selected\":{\"id\":\"2739\"},\"selection_policy\":{\"id\":\"2740\"}},\"id\":\"2707\",\"type\":\"ColumnDataSource\"},{\"attributes\":{\"active_multi\":null,\"tools\":[{\"id\":\"2653\"},{\"id\":\"2654\"},{\"id\":\"2655\"},{\"id\":\"2656\"},{\"id\":\"2657\"}]},\"id\":\"2659\",\"type\":\"Toolbar\"},{\"attributes\":{\"line_alpha\":{\"value\":1.0},\"line_cap\":{\"value\":\"butt\"},\"line_color\":{\"value\":\"black\"},\"line_dash\":{\"value\":[]},\"line_dash_offset\":{\"value\":0},\"line_join\":{\"value\":\"bevel\"},\"line_width\":{\"value\":1},\"x0\":{\"field\":\"x0\"},\"x1\":{\"field\":\"x1\"},\"y0\":{\"field\":\"y0\"},\"y1\":{\"field\":\"y1\"}},\"id\":\"2678\",\"type\":\"Segment\"},{\"attributes\":{},\"id\":\"2653\",\"type\":\"SaveTool\"},{\"attributes\":{\"data_source\":{\"id\":\"2700\"},\"glyph\":{\"id\":\"2702\"},\"hover_glyph\":null,\"muted_glyph\":null,\"nonselection_glyph\":{\"id\":\"2703\"},\"selection_glyph\":{\"id\":\"2706\"},\"view\":{\"id\":\"2705\"}},\"id\":\"2704\",\"type\":\"GlyphRenderer\"},{\"attributes\":{},\"id\":\"2650\",\"type\":\"BasicTicker\"},{\"attributes\":{\"data\":{\"x0\":[[\"GOLD\",-0.2],[\"SILVER\",-0.2],[\"BRONZE\",-0.2]],\"x1\":[[\"GOLD\",0.2],[\"SILVER\",0.2],[\"BRONZE\",0.2]],\"y0\":[9.63,9.75,9.79],\"y1\":[9.63,9.75,9.79]},\"selected\":{\"id\":\"2733\"},\"selection_policy\":{\"id\":\"2734\"}},\"id\":\"2686\",\"type\":\"ColumnDataSource\"},{\"attributes\":{},\"id\":\"2727\",\"type\":\"Selection\"},{\"attributes\":{\"source\":{\"id\":\"2679\"}},\"id\":\"2684\",\"type\":\"CDSView\"},{\"attributes\":{\"axis\":{\"id\":\"2649\"},\"dimension\":1,\"grid_line_color\":null,\"ticker\":null},\"id\":\"2652\",\"type\":\"Grid\"},{\"attributes\":{},\"id\":\"2728\",\"type\":\"UnionRenderers\"},{\"attributes\":{\"source\":{\"id\":\"2700\"}},\"id\":\"2705\",\"type\":\"CDSView\"},{\"attributes\":{},\"id\":\"2657\",\"type\":\"ResetTool\"},{\"attributes\":{\"data\":{\"bottom\":{\"__ndarray__\":\"mpmZmZmZJUDNzMzMzMwlQM3MzMzMzCVA\",\"dtype\":\"float64\",\"order\":\"little\",\"shape\":[3]},\"index\":[\"GOLD\",\"SILVER\",\"BRONZE\"],\"top\":{\"__ndarray__\":\"zczMzMyMJEDNzMzMzIwkQM3MzMzMzCRA\",\"dtype\":\"float64\",\"order\":\"little\",\"shape\":[3]}},\"selected\":{\"id\":\"2737\"},\"selection_policy\":{\"id\":\"2738\"}},\"id\":\"2700\",\"type\":\"ColumnDataSource\"},{\"attributes\":{},\"id\":\"2654\",\"type\":\"PanTool\"},{\"attributes\":{\"data_source\":{\"id\":\"2693\"},\"glyph\":{\"id\":\"2695\"},\"hover_glyph\":null,\"muted_glyph\":null,\"nonselection_glyph\":{\"id\":\"2696\"},\"selection_glyph\":{\"id\":\"2699\"},\"view\":{\"id\":\"2698\"}},\"id\":\"2697\",\"type\":\"GlyphRenderer\"},{\"attributes\":{\"data_source\":{\"id\":\"2672\"},\"glyph\":{\"id\":\"2674\"},\"hover_glyph\":null,\"muted_glyph\":null,\"nonselection_glyph\":{\"id\":\"2675\"},\"selection_glyph\":{\"id\":\"2678\"},\"view\":{\"id\":\"2677\"}},\"id\":\"2676\",\"type\":\"GlyphRenderer\"},{\"attributes\":{},\"id\":\"2717\",\"type\":\"BasicTickFormatter\"},{\"attributes\":{\"x0\":{\"field\":\"x0\"},\"x1\":{\"field\":\"x1\"},\"y0\":{\"field\":\"y0\"},\"y1\":{\"field\":\"y1\"}},\"id\":\"2695\",\"type\":\"Segment\"},{\"attributes\":{\"below\":[{\"id\":\"2646\"}],\"center\":[{\"id\":\"2648\"},{\"id\":\"2652\"}],\"left\":[{\"id\":\"2649\"}],\"margin\":[5,5,5,5],\"min_border_bottom\":10,\"min_border_left\":10,\"min_border_right\":10,\"min_border_top\":10,\"renderers\":[{\"id\":\"2669\"},{\"id\":\"2676\"},{\"id\":\"2683\"},{\"id\":\"2690\"},{\"id\":\"2697\"},{\"id\":\"2704\"},{\"id\":\"2711\"}],\"sizing_mode\":\"fixed\",\"title\":{\"id\":\"2638\"},\"toolbar\":{\"id\":\"2659\"},\"width\":500,\"x_range\":{\"id\":\"2635\"},\"x_scale\":{\"id\":\"2642\"},\"y_range\":{\"id\":\"2636\"},\"y_scale\":{\"id\":\"2644\"}},\"id\":\"2637\",\"subtype\":\"Figure\",\"type\":\"Plot\"},{\"attributes\":{\"data\":{\"x0\":[[\"GOLD\",-0.2],[\"SILVER\",-0.2],[\"BRONZE\",-0.2]],\"x1\":[[\"GOLD\",0.2],[\"SILVER\",0.2],[\"BRONZE\",0.2]],\"y0\":[12.0,11.3,11.3],\"y1\":[12.0,11.3,11.3]},\"selected\":{\"id\":\"2735\"},\"selection_policy\":{\"id\":\"2736\"}},\"id\":\"2693\",\"type\":\"ColumnDataSource\"},{\"attributes\":{},\"id\":\"2718\",\"type\":\"AllLabels\"},{\"attributes\":{\"children\":[{\"id\":\"2634\"},{\"id\":\"2637\"},{\"id\":\"2764\"}],\"margin\":[0,0,0,0],\"name\":\"Row04373\",\"tags\":[\"embedded\"]},\"id\":\"2633\",\"type\":\"Row\"},{\"attributes\":{\"data_source\":{\"id\":\"2665\"},\"glyph\":{\"id\":\"2667\"},\"hover_glyph\":null,\"muted_glyph\":null,\"nonselection_glyph\":{\"id\":\"2668\"},\"selection_glyph\":{\"id\":\"2671\"},\"view\":{\"id\":\"2670\"}},\"id\":\"2669\",\"type\":\"GlyphRenderer\"},{\"attributes\":{\"text_color\":\"black\",\"text_font_size\":\"12pt\"},\"id\":\"2638\",\"type\":\"Title\"},{\"attributes\":{\"bottom\":{\"field\":\"bottom\"},\"fill_alpha\":{\"value\":1.0},\"fill_color\":{\"value\":\"#30a2da\"},\"hatch_alpha\":{\"value\":1.0},\"hatch_color\":{\"value\":\"black\"},\"hatch_scale\":{\"value\":12.0},\"hatch_weight\":{\"value\":1.0},\"line_alpha\":{\"value\":1.0},\"line_cap\":{\"value\":\"butt\"},\"line_color\":{\"value\":\"black\"},\"line_dash\":{\"value\":[]},\"line_dash_offset\":{\"value\":0},\"line_join\":{\"value\":\"bevel\"},\"line_width\":{\"value\":1},\"top\":{\"field\":\"top\"},\"width\":{\"value\":0.7},\"x\":{\"field\":\"index\"}},\"id\":\"2713\",\"type\":\"VBar\"},{\"attributes\":{\"margin\":[5,5,5,5],\"name\":\"HSpacer04377\",\"sizing_mode\":\"stretch_width\"},\"id\":\"2634\",\"type\":\"Spacer\"},{\"attributes\":{},\"id\":\"2647\",\"type\":\"CategoricalTicker\"},{\"attributes\":{},\"id\":\"2731\",\"type\":\"Selection\"},{\"attributes\":{},\"id\":\"2644\",\"type\":\"LinearScale\"},{\"attributes\":{},\"id\":\"2732\",\"type\":\"UnionRenderers\"},{\"attributes\":{},\"id\":\"2642\",\"type\":\"CategoricalScale\"},{\"attributes\":{\"axis\":{\"id\":\"2646\"},\"grid_line_color\":null,\"ticker\":null},\"id\":\"2648\",\"type\":\"Grid\"},{\"attributes\":{\"axis_label\":\"Time\",\"formatter\":{\"id\":\"2717\"},\"major_label_policy\":{\"id\":\"2718\"},\"ticker\":{\"id\":\"2650\"}},\"id\":\"2649\",\"type\":\"LinearAxis\"},{\"attributes\":{\"axis_label\":\"Medal\",\"formatter\":{\"id\":\"2716\"},\"major_label_policy\":{\"id\":\"2714\"},\"ticker\":{\"id\":\"2647\"}},\"id\":\"2646\",\"type\":\"CategoricalAxis\"},{\"attributes\":{\"end\":12.8475,\"reset_end\":12.8475,\"reset_start\":9.3825,\"start\":9.3825,\"tags\":[[[\"Time\",\"Time\",null]]]},\"id\":\"2636\",\"type\":\"Range1d\"},{\"attributes\":{\"fill_color\":{\"value\":\"black\"},\"x\":{\"field\":\"index\"},\"y\":{\"field\":\"Time\"}},\"id\":\"2667\",\"type\":\"Circle\"},{\"attributes\":{\"x0\":{\"field\":\"x0\"},\"x1\":{\"field\":\"x1\"},\"y0\":{\"field\":\"y0\"},\"y1\":{\"field\":\"y1\"}},\"id\":\"2674\",\"type\":\"Segment\"},{\"attributes\":{\"source\":{\"id\":\"2693\"}},\"id\":\"2698\",\"type\":\"CDSView\"},{\"attributes\":{\"data\":{\"x0\":[\"GOLD\",\"SILVER\",\"BRONZE\"],\"x1\":[\"GOLD\",\"SILVER\",\"BRONZE\"],\"y0\":{\"__ndarray__\":\"AAAAAAAAKECamZmZmZkmQJqZmZmZmSZA\",\"dtype\":\"float64\",\"order\":\"little\",\"shape\":[3]},\"y1\":{\"__ndarray__\":\"mpmZmZmZJUDNzMzMzMwlQM3MzMzMzCVA\",\"dtype\":\"float64\",\"order\":\"little\",\"shape\":[3]}},\"selected\":{\"id\":\"2729\"},\"selection_policy\":{\"id\":\"2730\"}},\"id\":\"2672\",\"type\":\"ColumnDataSource\"},{\"attributes\":{\"line_alpha\":{\"value\":0.1},\"x0\":{\"field\":\"x0\"},\"x1\":{\"field\":\"x1\"},\"y0\":{\"field\":\"y0\"},\"y1\":{\"field\":\"y1\"}},\"id\":\"2675\",\"type\":\"Segment\"},{\"attributes\":{},\"id\":\"2733\",\"type\":\"Selection\"},{\"attributes\":{\"line_alpha\":{\"value\":0.1},\"x0\":{\"field\":\"x0\"},\"x1\":{\"field\":\"x1\"},\"y0\":{\"field\":\"y0\"},\"y1\":{\"field\":\"y1\"}},\"id\":\"2696\",\"type\":\"Segment\"},{\"attributes\":{\"line_alpha\":{\"value\":0.1},\"x0\":{\"field\":\"x0\"},\"x1\":{\"field\":\"x1\"},\"y0\":{\"field\":\"y0\"},\"y1\":{\"field\":\"y1\"}},\"id\":\"2689\",\"type\":\"Segment\"},{\"attributes\":{},\"id\":\"2734\",\"type\":\"UnionRenderers\"},{\"attributes\":{\"bottom_units\":\"screen\",\"fill_alpha\":0.5,\"fill_color\":\"lightgrey\",\"left_units\":\"screen\",\"level\":\"overlay\",\"line_alpha\":1.0,\"line_color\":\"black\",\"line_dash\":[4,4],\"line_width\":2,\"right_units\":\"screen\",\"syncable\":false,\"top_units\":\"screen\"},\"id\":\"2658\",\"type\":\"BoxAnnotation\"},{\"attributes\":{\"data_source\":{\"id\":\"2686\"},\"glyph\":{\"id\":\"2688\"},\"hover_glyph\":null,\"muted_glyph\":null,\"nonselection_glyph\":{\"id\":\"2689\"},\"selection_glyph\":{\"id\":\"2692\"},\"view\":{\"id\":\"2691\"}},\"id\":\"2690\",\"type\":\"GlyphRenderer\"},{\"attributes\":{\"bottom\":{\"field\":\"bottom\"},\"fill_alpha\":{\"value\":1.0},\"fill_color\":{\"value\":\"#30a2da\"},\"hatch_alpha\":{\"value\":1.0},\"hatch_color\":{\"value\":\"black\"},\"hatch_scale\":{\"value\":12.0},\"hatch_weight\":{\"value\":1.0},\"line_alpha\":{\"value\":1.0},\"line_cap\":{\"value\":\"butt\"},\"line_color\":{\"value\":\"black\"},\"line_dash\":{\"value\":[]},\"line_dash_offset\":{\"value\":0},\"line_join\":{\"value\":\"bevel\"},\"line_width\":{\"value\":1},\"top\":{\"field\":\"top\"},\"width\":{\"value\":0.7},\"x\":{\"field\":\"index\"}},\"id\":\"2706\",\"type\":\"VBar\"},{\"attributes\":{\"bottom\":{\"field\":\"bottom\"},\"fill_color\":{\"value\":\"#30a2da\"},\"top\":{\"field\":\"top\"},\"width\":{\"value\":0.7},\"x\":{\"field\":\"index\"}},\"id\":\"2709\",\"type\":\"VBar\"},{\"attributes\":{},\"id\":\"2735\",\"type\":\"Selection\"},{\"attributes\":{\"source\":{\"id\":\"2665\"}},\"id\":\"2670\",\"type\":\"CDSView\"},{\"attributes\":{\"margin\":[5,5,5,5],\"name\":\"HSpacer04378\",\"sizing_mode\":\"stretch_width\"},\"id\":\"2764\",\"type\":\"Spacer\"},{\"attributes\":{\"data_source\":{\"id\":\"2679\"},\"glyph\":{\"id\":\"2681\"},\"hover_glyph\":null,\"muted_glyph\":null,\"nonselection_glyph\":{\"id\":\"2682\"},\"selection_glyph\":{\"id\":\"2685\"},\"view\":{\"id\":\"2684\"}},\"id\":\"2683\",\"type\":\"GlyphRenderer\"},{\"attributes\":{},\"id\":\"2736\",\"type\":\"UnionRenderers\"},{\"attributes\":{\"x0\":{\"field\":\"x0\"},\"x1\":{\"field\":\"x1\"},\"y0\":{\"field\":\"y0\"},\"y1\":{\"field\":\"y1\"}},\"id\":\"2681\",\"type\":\"Segment\"},{\"attributes\":{\"line_alpha\":{\"value\":0.1},\"x0\":{\"field\":\"x0\"},\"x1\":{\"field\":\"x1\"},\"y0\":{\"field\":\"y0\"},\"y1\":{\"field\":\"y1\"}},\"id\":\"2682\",\"type\":\"Segment\"},{\"attributes\":{\"fill_alpha\":{\"value\":0.1},\"fill_color\":{\"value\":\"black\"},\"line_alpha\":{\"value\":0.1},\"x\":{\"field\":\"index\"},\"y\":{\"field\":\"Time\"}},\"id\":\"2668\",\"type\":\"Circle\"},{\"attributes\":{},\"id\":\"2729\",\"type\":\"Selection\"},{\"attributes\":{\"data\":{\"x0\":[\"GOLD\",\"SILVER\",\"BRONZE\"],\"x1\":[\"GOLD\",\"SILVER\",\"BRONZE\"],\"y0\":{\"__ndarray__\":\"w/UoXI9CI0AAAAAAAIAjQBSuR+F6lCNA\",\"dtype\":\"float64\",\"order\":\"little\",\"shape\":[3]},\"y1\":{\"__ndarray__\":\"CtejcD3qI0BSuB6F6xEkQKRwPQrXIyRA\",\"dtype\":\"float64\",\"order\":\"little\",\"shape\":[3]}},\"selected\":{\"id\":\"2731\"},\"selection_policy\":{\"id\":\"2732\"}},\"id\":\"2679\",\"type\":\"ColumnDataSource\"},{\"attributes\":{\"data_source\":{\"id\":\"2707\"},\"glyph\":{\"id\":\"2709\"},\"hover_glyph\":null,\"muted_glyph\":null,\"nonselection_glyph\":{\"id\":\"2710\"},\"selection_glyph\":{\"id\":\"2713\"},\"view\":{\"id\":\"2712\"}},\"id\":\"2711\",\"type\":\"GlyphRenderer\"},{\"attributes\":{\"source\":{\"id\":\"2707\"}},\"id\":\"2712\",\"type\":\"CDSView\"},{\"attributes\":{\"bottom\":{\"field\":\"bottom\"},\"fill_color\":{\"value\":\"#30a2da\"},\"top\":{\"field\":\"top\"},\"width\":{\"value\":0.7},\"x\":{\"field\":\"index\"}},\"id\":\"2702\",\"type\":\"VBar\"},{\"attributes\":{},\"id\":\"2737\",\"type\":\"Selection\"},{\"attributes\":{},\"id\":\"2738\",\"type\":\"UnionRenderers\"},{\"attributes\":{},\"id\":\"2730\",\"type\":\"UnionRenderers\"},{\"attributes\":{\"bottom\":{\"field\":\"bottom\"},\"fill_alpha\":{\"value\":0.1},\"fill_color\":{\"value\":\"#30a2da\"},\"line_alpha\":{\"value\":0.1},\"top\":{\"field\":\"top\"},\"width\":{\"value\":0.7},\"x\":{\"field\":\"index\"}},\"id\":\"2710\",\"type\":\"VBar\"},{\"attributes\":{\"angle\":{\"value\":0.0},\"fill_alpha\":{\"value\":1.0},\"fill_color\":{\"value\":\"black\"},\"hatch_alpha\":{\"value\":1.0},\"hatch_color\":{\"value\":\"black\"},\"hatch_scale\":{\"value\":12.0},\"hatch_weight\":{\"value\":1.0},\"line_alpha\":{\"value\":1.0},\"line_cap\":{\"value\":\"butt\"},\"line_color\":{\"value\":\"black\"},\"line_dash\":{\"value\":[]},\"line_dash_offset\":{\"value\":0},\"line_join\":{\"value\":\"bevel\"},\"line_width\":{\"value\":1},\"size\":{\"value\":4},\"x\":{\"field\":\"index\"},\"y\":{\"field\":\"Time\"}},\"id\":\"2671\",\"type\":\"Circle\"},{\"attributes\":{\"x0\":{\"field\":\"x0\"},\"x1\":{\"field\":\"x1\"},\"y0\":{\"field\":\"y0\"},\"y1\":{\"field\":\"y1\"}},\"id\":\"2688\",\"type\":\"Segment\"}],\"root_ids\":[\"2633\"]},\"title\":\"Bokeh Application\",\"version\":\"2.3.0\"}};\n",
       "    var render_items = [{\"docid\":\"361d6622-ad13-4df1-9ba0-a48d3c5b346f\",\"root_ids\":[\"2633\"],\"roots\":{\"2633\":\"f0691aac-44cc-46ab-800c-a0c548ec5582\"}}];\n",
       "    root.Bokeh.embed.embed_items_notebook(docs_json, render_items);\n",
       "  }\n",
       "  if (root.Bokeh !== undefined && root.Bokeh.Panel !== undefined) {\n",
       "    embed_document(root);\n",
       "  } else {\n",
       "    var attempts = 0;\n",
       "    var timer = setInterval(function(root) {\n",
       "      if (root.Bokeh !== undefined && root.Bokeh.Panel !== undefined) {\n",
       "        clearInterval(timer);\n",
       "        embed_document(root);\n",
       "      } else if (document.readyState == \"complete\") {\n",
       "        attempts++;\n",
       "        if (attempts > 100) {\n",
       "          clearInterval(timer);\n",
       "          console.log(\"Bokeh: ERROR: Unable to run BokehJS code because BokehJS library is missing\");\n",
       "        }\n",
       "      }\n",
       "    }, 10, root)\n",
       "  }\n",
       "})(window);</script>"
      ],
      "text/plain": [
       ":BoxWhisker   [Medal]   (Time)"
      ]
     },
     "execution_count": 11,
     "metadata": {
      "application/vnd.holoviews_exec.v0+json": {
       "id": "2633"
      }
     },
     "output_type": "execute_result"
    }
   ],
   "source": [
    "# hide\n",
    "# https://hvplot.holoviz.org/user_guide/Viewing.html\n",
    "boxplot = df.hvplot.box(y='Time', by='Medal', height=600, width=500, legend=False)\n",
    "boxplot"
   ]
  },
  {
   "cell_type": "code",
   "execution_count": 12,
   "metadata": {},
   "outputs": [],
   "source": [
    "hvplot.save(boxplot, '../_includes/test.html')"
   ]
  },
  {
   "cell_type": "markdown",
   "metadata": {},
   "source": [
    "{% include test.html %}"
   ]
  },
  {
   "cell_type": "markdown",
   "metadata": {},
   "source": [
    "### Hover hvplot"
   ]
  },
  {
   "cell_type": "code",
   "execution_count": 13,
   "metadata": {},
   "outputs": [
    {
     "data": {},
     "metadata": {},
     "output_type": "display_data"
    },
    {
     "data": {
      "application/vnd.holoviews_exec.v0+json": "",
      "text/html": [
       "<div id='3142'>\n",
       "\n",
       "\n",
       "\n",
       "\n",
       "\n",
       "  <div class=\"bk-root\" id=\"0a5d8012-2bc8-42cb-8540-0db2213111d1\" data-root-id=\"3142\"></div>\n",
       "</div>\n",
       "<script type=\"application/javascript\">(function(root) {\n",
       "  function embed_document(root) {\n",
       "    var docs_json = {\"8e8d089c-304d-4ecb-a94e-61bfbc0d3d02\":{\"defs\":[{\"extends\":null,\"module\":null,\"name\":\"DataModel\",\"overrides\":[],\"properties\":[]}],\"roots\":{\"references\":[{\"attributes\":{},\"id\":\"3180\",\"type\":\"AllLabels\"},{\"attributes\":{\"end\":12.8475,\"reset_end\":12.8475,\"reset_start\":9.3825,\"start\":9.3825,\"tags\":[[[\"Time\",\"Time\",null]]]},\"id\":\"3145\",\"type\":\"Range1d\"},{\"attributes\":{\"fill_alpha\":{\"value\":0.2},\"fill_color\":{\"value\":\"orange\"},\"line_alpha\":{\"value\":0.2},\"line_color\":{\"value\":\"orange\"},\"size\":{\"value\":5.477225575051661},\"x\":{\"field\":\"Medal\",\"transform\":{\"id\":\"3231\"}},\"y\":{\"field\":\"Time\"}},\"id\":\"3237\",\"type\":\"Scatter\"},{\"attributes\":{\"callback\":null,\"renderers\":[{\"id\":\"3238\"}],\"tags\":[\"hv_created\"],\"tooltips\":[[\"Medal\",\"@{Medal}\"],[\"Time\",\"@{Time}\"]]},\"id\":\"3146\",\"type\":\"HoverTool\"},{\"attributes\":{\"text_color\":\"black\",\"text_font_size\":\"12pt\"},\"id\":\"3148\",\"type\":\"Title\"},{\"attributes\":{},\"id\":\"3233\",\"type\":\"Selection\"},{\"attributes\":{\"line_alpha\":{\"value\":1.0},\"line_cap\":{\"value\":\"butt\"},\"line_color\":{\"value\":\"black\"},\"line_dash\":{\"value\":[]},\"line_dash_offset\":{\"value\":0},\"line_join\":{\"value\":\"bevel\"},\"line_width\":{\"value\":1},\"x0\":{\"field\":\"x0\"},\"x1\":{\"field\":\"x1\"},\"y0\":{\"field\":\"y0\"},\"y1\":{\"field\":\"y1\"}},\"id\":\"3195\",\"type\":\"Segment\"},{\"attributes\":{\"range\":{\"id\":\"3144\"},\"width\":0.5},\"id\":\"3231\",\"type\":\"Jitter\"},{\"attributes\":{\"x0\":{\"field\":\"x0\"},\"x1\":{\"field\":\"x1\"},\"y0\":{\"field\":\"y0\"},\"y1\":{\"field\":\"y1\"}},\"id\":\"3198\",\"type\":\"Segment\"},{\"attributes\":{\"factors\":[\"GOLD\",\"SILVER\",\"BRONZE\"],\"tags\":[[[\"Medal\",\"Medal\",null]]]},\"id\":\"3144\",\"type\":\"FactorRange\"},{\"attributes\":{},\"id\":\"3256\",\"type\":\"Selection\"},{\"attributes\":{},\"id\":\"3152\",\"type\":\"CategoricalScale\"},{\"attributes\":{\"fill_alpha\":{\"value\":0.1},\"fill_color\":{\"value\":\"orange\"},\"line_alpha\":{\"value\":0.1},\"line_color\":{\"value\":\"orange\"},\"size\":{\"value\":5.477225575051661},\"x\":{\"field\":\"Medal\",\"transform\":{\"id\":\"3231\"}},\"y\":{\"field\":\"Time\"}},\"id\":\"3236\",\"type\":\"Scatter\"},{\"attributes\":{\"axis\":{\"id\":\"3156\"},\"grid_line_color\":null,\"ticker\":null},\"id\":\"3158\",\"type\":\"Grid\"},{\"attributes\":{\"line_alpha\":{\"value\":1.0},\"line_cap\":{\"value\":\"butt\"},\"line_color\":{\"value\":\"black\"},\"line_dash\":{\"value\":[]},\"line_dash_offset\":{\"value\":0},\"line_join\":{\"value\":\"bevel\"},\"line_width\":{\"value\":1},\"x0\":{\"field\":\"x0\"},\"x1\":{\"field\":\"x1\"},\"y0\":{\"field\":\"y0\"},\"y1\":{\"field\":\"y1\"}},\"id\":\"3202\",\"type\":\"Segment\"},{\"attributes\":{\"angle\":{\"value\":0.0},\"fill_alpha\":{\"value\":1.0},\"fill_color\":{\"value\":\"orange\"},\"hatch_alpha\":{\"value\":1.0},\"hatch_color\":{\"value\":\"black\"},\"hatch_scale\":{\"value\":12.0},\"hatch_weight\":{\"value\":1.0},\"line_alpha\":{\"value\":1.0},\"line_cap\":{\"value\":\"butt\"},\"line_color\":{\"value\":\"orange\"},\"line_dash\":{\"value\":[]},\"line_dash_offset\":{\"value\":0},\"line_join\":{\"value\":\"bevel\"},\"line_width\":{\"value\":1},\"marker\":{\"value\":\"circle\"},\"size\":{\"value\":5.477225575051661},\"x\":{\"field\":\"Medal\",\"transform\":{\"id\":\"3231\"}},\"y\":{\"field\":\"Time\"}},\"id\":\"3240\",\"type\":\"Scatter\"},{\"attributes\":{},\"id\":\"3257\",\"type\":\"UnionRenderers\"},{\"attributes\":{\"angle\":{\"value\":0.0},\"fill_alpha\":{\"value\":1.0},\"fill_color\":{\"value\":\"black\"},\"hatch_alpha\":{\"value\":1.0},\"hatch_color\":{\"value\":\"black\"},\"hatch_scale\":{\"value\":12.0},\"hatch_weight\":{\"value\":1.0},\"line_alpha\":{\"value\":1.0},\"line_cap\":{\"value\":\"butt\"},\"line_color\":{\"value\":\"black\"},\"line_dash\":{\"value\":[]},\"line_dash_offset\":{\"value\":0},\"line_join\":{\"value\":\"bevel\"},\"line_width\":{\"value\":1},\"size\":{\"value\":4},\"x\":{\"field\":\"index\"},\"y\":{\"field\":\"Time\"}},\"id\":\"3188\",\"type\":\"Circle\"},{\"attributes\":{},\"id\":\"3258\",\"type\":\"Selection\"},{\"attributes\":{\"below\":[{\"id\":\"3156\"}],\"center\":[{\"id\":\"3158\"},{\"id\":\"3162\"}],\"left\":[{\"id\":\"3159\"}],\"margin\":[5,5,5,5],\"min_border_bottom\":10,\"min_border_left\":10,\"min_border_right\":10,\"min_border_top\":10,\"renderers\":[{\"id\":\"3186\"},{\"id\":\"3193\"},{\"id\":\"3200\"},{\"id\":\"3207\"},{\"id\":\"3214\"},{\"id\":\"3221\"},{\"id\":\"3228\"},{\"id\":\"3238\"}],\"sizing_mode\":\"fixed\",\"title\":{\"id\":\"3148\"},\"toolbar\":{\"id\":\"3169\"},\"width\":500,\"x_range\":{\"id\":\"3144\"},\"x_scale\":{\"id\":\"3152\"},\"y_range\":{\"id\":\"3145\"},\"y_scale\":{\"id\":\"3154\"}},\"id\":\"3147\",\"subtype\":\"Figure\",\"type\":\"Plot\"},{\"attributes\":{\"source\":{\"id\":\"3196\"}},\"id\":\"3201\",\"type\":\"CDSView\"},{\"attributes\":{},\"id\":\"3254\",\"type\":\"Selection\"},{\"attributes\":{\"data_source\":{\"id\":\"3224\"},\"glyph\":{\"id\":\"3226\"},\"hover_glyph\":null,\"muted_glyph\":null,\"nonselection_glyph\":{\"id\":\"3227\"},\"selection_glyph\":{\"id\":\"3230\"},\"view\":{\"id\":\"3229\"}},\"id\":\"3228\",\"type\":\"GlyphRenderer\"},{\"attributes\":{},\"id\":\"3259\",\"type\":\"UnionRenderers\"},{\"attributes\":{},\"id\":\"3154\",\"type\":\"LinearScale\"},{\"attributes\":{\"data\":{\"x0\":[\"GOLD\",\"SILVER\",\"BRONZE\"],\"x1\":[\"GOLD\",\"SILVER\",\"BRONZE\"],\"y0\":{\"__ndarray__\":\"w/UoXI9CI0AAAAAAAIAjQBSuR+F6lCNA\",\"dtype\":\"float64\",\"order\":\"little\",\"shape\":[3]},\"y1\":{\"__ndarray__\":\"CtejcD3qI0BSuB6F6xEkQKRwPQrXIyRA\",\"dtype\":\"float64\",\"order\":\"little\",\"shape\":[3]}},\"selected\":{\"id\":\"3252\"},\"selection_policy\":{\"id\":\"3253\"}},\"id\":\"3196\",\"type\":\"ColumnDataSource\"},{\"attributes\":{},\"id\":\"3157\",\"type\":\"CategoricalTicker\"},{\"attributes\":{\"axis_label\":\"Medal\",\"formatter\":{\"id\":\"3178\"},\"major_label_policy\":{\"id\":\"3176\"},\"ticker\":{\"id\":\"3157\"}},\"id\":\"3156\",\"type\":\"CategoricalAxis\"},{\"attributes\":{\"fill_color\":{\"value\":\"orange\"},\"line_color\":{\"value\":\"orange\"},\"size\":{\"value\":5.477225575051661},\"x\":{\"field\":\"Medal\",\"transform\":{\"id\":\"3231\"}},\"y\":{\"field\":\"Time\"}},\"id\":\"3235\",\"type\":\"Scatter\"},{\"attributes\":{\"data\":{\"x0\":[[\"GOLD\",-0.2],[\"SILVER\",-0.2],[\"BRONZE\",-0.2]],\"x1\":[[\"GOLD\",0.2],[\"SILVER\",0.2],[\"BRONZE\",0.2]],\"y0\":[9.63,9.75,9.79],\"y1\":[9.63,9.75,9.79]},\"selected\":{\"id\":\"3254\"},\"selection_policy\":{\"id\":\"3255\"}},\"id\":\"3203\",\"type\":\"ColumnDataSource\"},{\"attributes\":{\"axis\":{\"id\":\"3159\"},\"dimension\":1,\"grid_line_color\":null,\"ticker\":null},\"id\":\"3162\",\"type\":\"Grid\"},{\"attributes\":{\"line_alpha\":{\"value\":0.1},\"x0\":{\"field\":\"x0\"},\"x1\":{\"field\":\"x1\"},\"y0\":{\"field\":\"y0\"},\"y1\":{\"field\":\"y1\"}},\"id\":\"3213\",\"type\":\"Segment\"},{\"attributes\":{\"bottom\":{\"field\":\"bottom\"},\"fill_color\":{\"value\":\"#30a2da\"},\"top\":{\"field\":\"top\"},\"width\":{\"value\":0.7},\"x\":{\"field\":\"index\"}},\"id\":\"3219\",\"type\":\"VBar\"},{\"attributes\":{},\"id\":\"3164\",\"type\":\"PanTool\"},{\"attributes\":{},\"id\":\"3165\",\"type\":\"WheelZoomTool\"},{\"attributes\":{},\"id\":\"3255\",\"type\":\"UnionRenderers\"},{\"attributes\":{\"axis_label\":\"Time\",\"formatter\":{\"id\":\"3179\"},\"major_label_policy\":{\"id\":\"3180\"},\"ticker\":{\"id\":\"3160\"}},\"id\":\"3159\",\"type\":\"LinearAxis\"},{\"attributes\":{\"source\":{\"id\":\"3224\"}},\"id\":\"3229\",\"type\":\"CDSView\"},{\"attributes\":{},\"id\":\"3176\",\"type\":\"AllLabels\"},{\"attributes\":{},\"id\":\"3160\",\"type\":\"BasicTicker\"},{\"attributes\":{\"source\":{\"id\":\"3189\"}},\"id\":\"3194\",\"type\":\"CDSView\"},{\"attributes\":{\"bottom\":{\"field\":\"bottom\"},\"fill_color\":{\"value\":\"#30a2da\"},\"top\":{\"field\":\"top\"},\"width\":{\"value\":0.7},\"x\":{\"field\":\"index\"}},\"id\":\"3226\",\"type\":\"VBar\"},{\"attributes\":{\"data_source\":{\"id\":\"3232\"},\"glyph\":{\"id\":\"3235\"},\"hover_glyph\":null,\"muted_glyph\":{\"id\":\"3237\"},\"nonselection_glyph\":{\"id\":\"3236\"},\"selection_glyph\":{\"id\":\"3240\"},\"view\":{\"id\":\"3239\"}},\"id\":\"3238\",\"type\":\"GlyphRenderer\"},{\"attributes\":{\"data\":{\"x0\":[\"GOLD\",\"SILVER\",\"BRONZE\"],\"x1\":[\"GOLD\",\"SILVER\",\"BRONZE\"],\"y0\":{\"__ndarray__\":\"AAAAAAAAKECamZmZmZkmQJqZmZmZmSZA\",\"dtype\":\"float64\",\"order\":\"little\",\"shape\":[3]},\"y1\":{\"__ndarray__\":\"mpmZmZmZJUDNzMzMzMwlQM3MzMzMzCVA\",\"dtype\":\"float64\",\"order\":\"little\",\"shape\":[3]}},\"selected\":{\"id\":\"3250\"},\"selection_policy\":{\"id\":\"3251\"}},\"id\":\"3189\",\"type\":\"ColumnDataSource\"},{\"attributes\":{\"data\":{\"x0\":[[\"GOLD\",-0.2],[\"SILVER\",-0.2],[\"BRONZE\",-0.2]],\"x1\":[[\"GOLD\",0.2],[\"SILVER\",0.2],[\"BRONZE\",0.2]],\"y0\":[12.0,11.3,11.3],\"y1\":[12.0,11.3,11.3]},\"selected\":{\"id\":\"3256\"},\"selection_policy\":{\"id\":\"3257\"}},\"id\":\"3210\",\"type\":\"ColumnDataSource\"},{\"attributes\":{},\"id\":\"3163\",\"type\":\"SaveTool\"},{\"attributes\":{},\"id\":\"3261\",\"type\":\"UnionRenderers\"},{\"attributes\":{\"overlay\":{\"id\":\"3168\"}},\"id\":\"3166\",\"type\":\"BoxZoomTool\"},{\"attributes\":{},\"id\":\"3167\",\"type\":\"ResetTool\"},{\"attributes\":{\"data_source\":{\"id\":\"3210\"},\"glyph\":{\"id\":\"3212\"},\"hover_glyph\":null,\"muted_glyph\":null,\"nonselection_glyph\":{\"id\":\"3213\"},\"selection_glyph\":{\"id\":\"3216\"},\"view\":{\"id\":\"3215\"}},\"id\":\"3214\",\"type\":\"GlyphRenderer\"},{\"attributes\":{\"fill_alpha\":{\"value\":0.1},\"fill_color\":{\"value\":\"black\"},\"line_alpha\":{\"value\":0.1},\"x\":{\"field\":\"index\"},\"y\":{\"field\":\"Time\"}},\"id\":\"3185\",\"type\":\"Circle\"},{\"attributes\":{\"line_alpha\":{\"value\":1.0},\"line_cap\":{\"value\":\"butt\"},\"line_color\":{\"value\":\"black\"},\"line_dash\":{\"value\":[]},\"line_dash_offset\":{\"value\":0},\"line_join\":{\"value\":\"bevel\"},\"line_width\":{\"value\":1},\"x0\":{\"field\":\"x0\"},\"x1\":{\"field\":\"x1\"},\"y0\":{\"field\":\"y0\"},\"y1\":{\"field\":\"y1\"}},\"id\":\"3216\",\"type\":\"Segment\"},{\"attributes\":{\"data\":{\"bottom\":{\"__ndarray__\":\"zczMzMyMJEDNzMzMzIwkQM3MzMzMzCRA\",\"dtype\":\"float64\",\"order\":\"little\",\"shape\":[3]},\"index\":[\"GOLD\",\"SILVER\",\"BRONZE\"],\"top\":{\"__ndarray__\":\"CtejcD3qI0BSuB6F6xEkQKRwPQrXIyRA\",\"dtype\":\"float64\",\"order\":\"little\",\"shape\":[3]}},\"selected\":{\"id\":\"3260\"},\"selection_policy\":{\"id\":\"3261\"}},\"id\":\"3224\",\"type\":\"ColumnDataSource\"},{\"attributes\":{\"fill_color\":{\"value\":\"black\"},\"x\":{\"field\":\"index\"},\"y\":{\"field\":\"Time\"}},\"id\":\"3184\",\"type\":\"Circle\"},{\"attributes\":{\"source\":{\"id\":\"3203\"}},\"id\":\"3208\",\"type\":\"CDSView\"},{\"attributes\":{\"source\":{\"id\":\"3182\"}},\"id\":\"3187\",\"type\":\"CDSView\"},{\"attributes\":{\"source\":{\"id\":\"3210\"}},\"id\":\"3215\",\"type\":\"CDSView\"},{\"attributes\":{\"data\":{\"bottom\":{\"__ndarray__\":\"mpmZmZmZJUDNzMzMzMwlQM3MzMzMzCVA\",\"dtype\":\"float64\",\"order\":\"little\",\"shape\":[3]},\"index\":[\"GOLD\",\"SILVER\",\"BRONZE\"],\"top\":{\"__ndarray__\":\"zczMzMyMJEDNzMzMzIwkQM3MzMzMzCRA\",\"dtype\":\"float64\",\"order\":\"little\",\"shape\":[3]}},\"selected\":{\"id\":\"3258\"},\"selection_policy\":{\"id\":\"3259\"}},\"id\":\"3217\",\"type\":\"ColumnDataSource\"},{\"attributes\":{\"margin\":[5,5,5,5],\"name\":\"HSpacer04872\",\"sizing_mode\":\"stretch_width\"},\"id\":\"3457\",\"type\":\"Spacer\"},{\"attributes\":{},\"id\":\"3248\",\"type\":\"Selection\"},{\"attributes\":{},\"id\":\"3263\",\"type\":\"UnionRenderers\"},{\"attributes\":{\"data_source\":{\"id\":\"3196\"},\"glyph\":{\"id\":\"3198\"},\"hover_glyph\":null,\"muted_glyph\":null,\"nonselection_glyph\":{\"id\":\"3199\"},\"selection_glyph\":{\"id\":\"3202\"},\"view\":{\"id\":\"3201\"}},\"id\":\"3200\",\"type\":\"GlyphRenderer\"},{\"attributes\":{\"bottom\":{\"field\":\"bottom\"},\"fill_alpha\":{\"value\":1.0},\"fill_color\":{\"value\":\"#30a2da\"},\"hatch_alpha\":{\"value\":1.0},\"hatch_color\":{\"value\":\"black\"},\"hatch_scale\":{\"value\":12.0},\"hatch_weight\":{\"value\":1.0},\"line_alpha\":{\"value\":1.0},\"line_cap\":{\"value\":\"butt\"},\"line_color\":{\"value\":\"black\"},\"line_dash\":{\"value\":[]},\"line_dash_offset\":{\"value\":0},\"line_join\":{\"value\":\"bevel\"},\"line_width\":{\"value\":1},\"top\":{\"field\":\"top\"},\"width\":{\"value\":0.7},\"x\":{\"field\":\"index\"}},\"id\":\"3230\",\"type\":\"VBar\"},{\"attributes\":{},\"id\":\"3249\",\"type\":\"UnionRenderers\"},{\"attributes\":{},\"id\":\"3260\",\"type\":\"Selection\"},{\"attributes\":{\"bottom\":{\"field\":\"bottom\"},\"fill_alpha\":{\"value\":1.0},\"fill_color\":{\"value\":\"#30a2da\"},\"hatch_alpha\":{\"value\":1.0},\"hatch_color\":{\"value\":\"black\"},\"hatch_scale\":{\"value\":12.0},\"hatch_weight\":{\"value\":1.0},\"line_alpha\":{\"value\":1.0},\"line_cap\":{\"value\":\"butt\"},\"line_color\":{\"value\":\"black\"},\"line_dash\":{\"value\":[]},\"line_dash_offset\":{\"value\":0},\"line_join\":{\"value\":\"bevel\"},\"line_width\":{\"value\":1},\"top\":{\"field\":\"top\"},\"width\":{\"value\":0.7},\"x\":{\"field\":\"index\"}},\"id\":\"3223\",\"type\":\"VBar\"},{\"attributes\":{\"bottom\":{\"field\":\"bottom\"},\"fill_alpha\":{\"value\":0.1},\"fill_color\":{\"value\":\"#30a2da\"},\"line_alpha\":{\"value\":0.1},\"top\":{\"field\":\"top\"},\"width\":{\"value\":0.7},\"x\":{\"field\":\"index\"}},\"id\":\"3220\",\"type\":\"VBar\"},{\"attributes\":{\"bottom_units\":\"screen\",\"fill_alpha\":0.5,\"fill_color\":\"lightgrey\",\"left_units\":\"screen\",\"level\":\"overlay\",\"line_alpha\":1.0,\"line_color\":\"black\",\"line_dash\":[4,4],\"line_width\":2,\"right_units\":\"screen\",\"syncable\":false,\"top_units\":\"screen\"},\"id\":\"3168\",\"type\":\"BoxAnnotation\"},{\"attributes\":{\"source\":{\"id\":\"3232\"}},\"id\":\"3239\",\"type\":\"CDSView\"},{\"attributes\":{},\"id\":\"3250\",\"type\":\"Selection\"},{\"attributes\":{\"x0\":{\"field\":\"x0\"},\"x1\":{\"field\":\"x1\"},\"y0\":{\"field\":\"y0\"},\"y1\":{\"field\":\"y1\"}},\"id\":\"3212\",\"type\":\"Segment\"},{\"attributes\":{},\"id\":\"3251\",\"type\":\"UnionRenderers\"},{\"attributes\":{\"line_alpha\":{\"value\":0.1},\"x0\":{\"field\":\"x0\"},\"x1\":{\"field\":\"x1\"},\"y0\":{\"field\":\"y0\"},\"y1\":{\"field\":\"y1\"}},\"id\":\"3199\",\"type\":\"Segment\"},{\"attributes\":{\"data_source\":{\"id\":\"3203\"},\"glyph\":{\"id\":\"3205\"},\"hover_glyph\":null,\"muted_glyph\":null,\"nonselection_glyph\":{\"id\":\"3206\"},\"selection_glyph\":{\"id\":\"3209\"},\"view\":{\"id\":\"3208\"}},\"id\":\"3207\",\"type\":\"GlyphRenderer\"},{\"attributes\":{\"source\":{\"id\":\"3217\"}},\"id\":\"3222\",\"type\":\"CDSView\"},{\"attributes\":{\"line_alpha\":{\"value\":0.1},\"x0\":{\"field\":\"x0\"},\"x1\":{\"field\":\"x1\"},\"y0\":{\"field\":\"y0\"},\"y1\":{\"field\":\"y1\"}},\"id\":\"3192\",\"type\":\"Segment\"},{\"attributes\":{\"x0\":{\"field\":\"x0\"},\"x1\":{\"field\":\"x1\"},\"y0\":{\"field\":\"y0\"},\"y1\":{\"field\":\"y1\"}},\"id\":\"3191\",\"type\":\"Segment\"},{\"attributes\":{\"data_source\":{\"id\":\"3189\"},\"glyph\":{\"id\":\"3191\"},\"hover_glyph\":null,\"muted_glyph\":null,\"nonselection_glyph\":{\"id\":\"3192\"},\"selection_glyph\":{\"id\":\"3195\"},\"view\":{\"id\":\"3194\"}},\"id\":\"3193\",\"type\":\"GlyphRenderer\"},{\"attributes\":{\"x0\":{\"field\":\"x0\"},\"x1\":{\"field\":\"x1\"},\"y0\":{\"field\":\"y0\"},\"y1\":{\"field\":\"y1\"}},\"id\":\"3205\",\"type\":\"Segment\"},{\"attributes\":{},\"id\":\"3252\",\"type\":\"Selection\"},{\"attributes\":{\"bottom\":{\"field\":\"bottom\"},\"fill_alpha\":{\"value\":0.1},\"fill_color\":{\"value\":\"#30a2da\"},\"line_alpha\":{\"value\":0.1},\"top\":{\"field\":\"top\"},\"width\":{\"value\":0.7},\"x\":{\"field\":\"index\"}},\"id\":\"3227\",\"type\":\"VBar\"},{\"attributes\":{},\"id\":\"3253\",\"type\":\"UnionRenderers\"},{\"attributes\":{\"data_source\":{\"id\":\"3217\"},\"glyph\":{\"id\":\"3219\"},\"hover_glyph\":null,\"muted_glyph\":null,\"nonselection_glyph\":{\"id\":\"3220\"},\"selection_glyph\":{\"id\":\"3223\"},\"view\":{\"id\":\"3222\"}},\"id\":\"3221\",\"type\":\"GlyphRenderer\"},{\"attributes\":{\"margin\":[5,5,5,5],\"name\":\"HSpacer04871\",\"sizing_mode\":\"stretch_width\"},\"id\":\"3143\",\"type\":\"Spacer\"},{\"attributes\":{\"active_multi\":null,\"tools\":[{\"id\":\"3146\"},{\"id\":\"3163\"},{\"id\":\"3164\"},{\"id\":\"3165\"},{\"id\":\"3166\"},{\"id\":\"3167\"}]},\"id\":\"3169\",\"type\":\"Toolbar\"},{\"attributes\":{\"line_alpha\":{\"value\":0.1},\"x0\":{\"field\":\"x0\"},\"x1\":{\"field\":\"x1\"},\"y0\":{\"field\":\"y0\"},\"y1\":{\"field\":\"y1\"}},\"id\":\"3206\",\"type\":\"Segment\"},{\"attributes\":{\"children\":[{\"id\":\"3143\"},{\"id\":\"3147\"},{\"id\":\"3457\"}],\"margin\":[0,0,0,0],\"name\":\"Row04867\",\"tags\":[\"embedded\"]},\"id\":\"3142\",\"type\":\"Row\"},{\"attributes\":{\"line_alpha\":{\"value\":1.0},\"line_cap\":{\"value\":\"butt\"},\"line_color\":{\"value\":\"black\"},\"line_dash\":{\"value\":[]},\"line_dash_offset\":{\"value\":0},\"line_join\":{\"value\":\"bevel\"},\"line_width\":{\"value\":1},\"x0\":{\"field\":\"x0\"},\"x1\":{\"field\":\"x1\"},\"y0\":{\"field\":\"y0\"},\"y1\":{\"field\":\"y1\"}},\"id\":\"3209\",\"type\":\"Segment\"},{\"attributes\":{},\"id\":\"3179\",\"type\":\"BasicTickFormatter\"},{\"attributes\":{\"data_source\":{\"id\":\"3182\"},\"glyph\":{\"id\":\"3184\"},\"hover_glyph\":null,\"muted_glyph\":null,\"nonselection_glyph\":{\"id\":\"3185\"},\"selection_glyph\":{\"id\":\"3188\"},\"view\":{\"id\":\"3187\"}},\"id\":\"3186\",\"type\":\"GlyphRenderer\"},{\"attributes\":{},\"id\":\"3178\",\"type\":\"CategoricalTickFormatter\"},{\"attributes\":{\"data\":{\"Medal\":[\"GOLD\",\"SILVER\",\"BRONZE\",\"GOLD\",\"SILVER\",\"BRONZE\",\"GOLD\",\"SILVER\",\"BRONZE\",\"GOLD\",\"SILVER\",\"BRONZE\",\"GOLD\",\"SILVER\",\"BRONZE\",\"GOLD\",\"SILVER\",\"BRONZE\",\"GOLD\",\"SILVER\",\"BRONZE\",\"GOLD\",\"SILVER\",\"BRONZE\",\"GOLD\",\"SILVER\",\"BRONZE\",\"GOLD\",\"SILVER\",\"BRONZE\",\"GOLD\",\"SILVER\",\"BRONZE\",\"GOLD\",\"SILVER\",\"BRONZE\",\"GOLD\",\"SILVER\",\"BRONZE\",\"GOLD\",\"SILVER\",\"BRONZE\",\"GOLD\",\"SILVER\",\"BRONZE\",\"GOLD\",\"SILVER\",\"BRONZE\",\"GOLD\",\"SILVER\",\"BRONZE\",\"GOLD\",\"SILVER\",\"BRONZE\",\"GOLD\",\"SILVER\",\"BRONZE\",\"GOLD\",\"SILVER\",\"BRONZE\",\"GOLD\",\"SILVER\",\"BRONZE\",\"GOLD\",\"SILVER\",\"BRONZE\",\"GOLD\",\"SILVER\",\"BRONZE\",\"GOLD\",\"SILVER\",\"BRONZE\",\"GOLD\",\"SILVER\",\"BRONZE\",\"GOLD\",\"SILVER\",\"BRONZE\",\"GOLD\",\"SILVER\",\"BRONZE\",\"GOLD\",\"SILVER\",\"BRONZE\",\"BRONZE\"],\"Time\":{\"__ndarray__\":\"w/UoXI9CI0AAAAAAAIAjQBSuR+F6lCNA4XoUrkdhI0BI4XoUrscjQFK4HoXr0SNAMzMzMzOzI0C4HoXrUbgjQD0K16NwvSNAPQrXo3C9I0B7FK5H4fojQBSuR+F6FCRArkfhehSuI0BI4XoUrscjQM3MzMzMzCNA7FG4HoXrI0AK16NwPQokQBSuR+F6FCRA16NwPQrXI0BxPQrXo/AjQHsUrkfh+iNAexSuR+H6I0DhehSuR2EkQHE9CtejcCRAAAAAAACAJEAAAAAAAIAkQEjhehSuxyRAH4XrUbgeJEApXI/C9SgkQEjhehSuRyRASOF6FK5HJEB7FK5H4XokQClcj8L1qCRAZmZmZmbmI0AUrkfhehQkQKRwPQrXIyRAAAAAAAAAJEBmZmZmZmYkQGZmZmZmZiRAZmZmZmZmJEBmZmZmZmYkQJqZmZmZmSRAAAAAAAAAJUAAAAAAAAAlQDMzMzMzMyVAzczMzMzMJEDNzMzMzMwkQM3MzMzMzCRAmpmZmZmZJEDNzMzMzMwkQM3MzMzMzCRAmpmZmZmZJEDNzMzMzMwkQAAAAAAAACVAmpmZmZmZJECamZmZmZkkQM3MzMzMzCRAmpmZmZmZJUDNzMzMzMwlQM3MzMzMzCVAMzMzMzMzJUCamZmZmZklQM3MzMzMzCVAmpmZmZmZJUDNzMzMzMwlQM3MzMzMzCVAmpmZmZmZJUDNzMzMzMwlQM3MzMzMzCVAmpmZmZmZJUAAAAAAAAAmQAAAAAAAACZAZmZmZmZmJkCamZmZmZkmQJqZmZmZmSZAAAAAAAAAJkBmZmZmZmYmQGZmZmZmZiZAAAAAAAAAJkAzMzMzMzMmQGZmZmZmZiZAAAAAAAAAKEBmZmZmZmYoQDMzMzMzMylAMzMzMzMzKUA=\",\"dtype\":\"float64\",\"order\":\"little\",\"shape\":[85]}},\"selected\":{\"id\":\"3233\"},\"selection_policy\":{\"id\":\"3263\"}},\"id\":\"3232\",\"type\":\"ColumnDataSource\"},{\"attributes\":{\"data\":{\"Time\":{\"__ndarray__\":\"ZmZmZmZmKEAzMzMzMzMpQDMzMzMzMylA\",\"dtype\":\"float64\",\"order\":\"little\",\"shape\":[3]},\"index\":[\"SILVER\",\"BRONZE\",\"BRONZE\"]},\"selected\":{\"id\":\"3248\"},\"selection_policy\":{\"id\":\"3249\"}},\"id\":\"3182\",\"type\":\"ColumnDataSource\"}],\"root_ids\":[\"3142\"]},\"title\":\"Bokeh Application\",\"version\":\"2.3.0\"}};\n",
       "    var render_items = [{\"docid\":\"8e8d089c-304d-4ecb-a94e-61bfbc0d3d02\",\"root_ids\":[\"3142\"],\"roots\":{\"3142\":\"0a5d8012-2bc8-42cb-8540-0db2213111d1\"}}];\n",
       "    root.Bokeh.embed.embed_items_notebook(docs_json, render_items);\n",
       "  }\n",
       "  if (root.Bokeh !== undefined && root.Bokeh.Panel !== undefined) {\n",
       "    embed_document(root);\n",
       "  } else {\n",
       "    var attempts = 0;\n",
       "    var timer = setInterval(function(root) {\n",
       "      if (root.Bokeh !== undefined && root.Bokeh.Panel !== undefined) {\n",
       "        clearInterval(timer);\n",
       "        embed_document(root);\n",
       "      } else if (document.readyState == \"complete\") {\n",
       "        attempts++;\n",
       "        if (attempts > 100) {\n",
       "          clearInterval(timer);\n",
       "          console.log(\"Bokeh: ERROR: Unable to run BokehJS code because BokehJS library is missing\");\n",
       "        }\n",
       "      }\n",
       "    }, 10, root)\n",
       "  }\n",
       "})(window);</script>"
      ],
      "text/plain": [
       ":Overlay\n",
       "   .BoxWhisker.I :BoxWhisker   [Medal]   (Time)\n",
       "   .Scatter.I    :Scatter   [Medal]   (Time)"
      ]
     },
     "execution_count": 13,
     "metadata": {
      "application/vnd.holoviews_exec.v0+json": {
       "id": "3142"
      }
     },
     "output_type": "execute_result"
    }
   ],
   "source": [
    "hvplot_hover = boxplot * df.hvplot.scatter(y='Time', x='Medal', c='orange').opts(jitter=0.5)\n",
    "# hvplot.save(hvplot_hover, '../_includes/hvplot_hover.html')\n",
    "hvplot_hover"
   ]
  },
  {
   "cell_type": "markdown",
   "metadata": {},
   "source": []
  },
  {
   "cell_type": "markdown",
   "metadata": {},
   "source": [
    "### Interactive Charts With Hvplot\n"
   ]
  },
  {
   "cell_type": "code",
   "execution_count": 14,
   "metadata": {},
   "outputs": [
    {
     "data": {},
     "metadata": {},
     "output_type": "display_data"
    },
    {
     "data": {
      "application/vnd.holoviews_exec.v0+json": "",
      "text/html": [
       "<div id='3579'>\n",
       "\n",
       "\n",
       "\n",
       "\n",
       "\n",
       "  <div class=\"bk-root\" id=\"99f1fdf6-9340-44a8-9beb-32244f95c8ca\" data-root-id=\"3579\"></div>\n",
       "</div>\n",
       "<script type=\"application/javascript\">(function(root) {\n",
       "  function embed_document(root) {\n",
       "    var docs_json = {\"0a177dff-27b0-439d-bbe2-df90298b69a9\":{\"defs\":[{\"extends\":null,\"module\":null,\"name\":\"DataModel\",\"overrides\":[],\"properties\":[]}],\"roots\":{\"references\":[{\"attributes\":{},\"id\":\"3653\",\"type\":\"CategoricalTickFormatter\"},{\"attributes\":{\"line_alpha\":{\"value\":1.0},\"line_cap\":{\"value\":\"butt\"},\"line_color\":{\"value\":\"black\"},\"line_dash\":{\"value\":[]},\"line_dash_offset\":{\"value\":0},\"line_join\":{\"value\":\"bevel\"},\"line_width\":{\"value\":1},\"x0\":{\"field\":\"x0\"},\"x1\":{\"field\":\"x1\"},\"y0\":{\"field\":\"y0\"},\"y1\":{\"field\":\"y1\"}},\"id\":\"3645\",\"type\":\"Segment\"},{\"attributes\":{\"data\":{\"bottom\":{\"__ndarray__\":\"mpmZmZlZI0CamZmZmZklQB+F61G4HiVAmpmZmZnZJEAfhetRuB4kQEjhehSuRyRAZmZmZmZmJECamZmZmZklQA==\",\"dtype\":\"float64\",\"order\":\"little\",\"shape\":[8]},\"index\":[\"JAM\",\"USA\",\"CAN\",\"GBR\",\"TRI\",\"URS\",\"EUA\",\"RSA\"],\"top\":{\"__ndarray__\":\"UrgehetRI0CamZmZmZkkQKRwPQrXoyRAAAAAAACAJEAfhetRuB4kQEjhehSuRyRAZmZmZmZmJECamZmZmZklQA==\",\"dtype\":\"float64\",\"order\":\"little\",\"shape\":[8]}},\"selected\":{\"id\":\"3669\"},\"selection_policy\":{\"id\":\"3670\"}},\"id\":\"3646\",\"type\":\"ColumnDataSource\"},{\"attributes\":{},\"id\":\"3600\",\"type\":\"PanTool\"},{\"attributes\":{\"line_alpha\":{\"value\":1.0},\"line_cap\":{\"value\":\"butt\"},\"line_color\":{\"value\":\"black\"},\"line_dash\":{\"value\":[]},\"line_dash_offset\":{\"value\":0},\"line_join\":{\"value\":\"bevel\"},\"line_width\":{\"value\":1},\"x0\":{\"field\":\"x0\"},\"x1\":{\"field\":\"x1\"},\"y0\":{\"field\":\"y0\"},\"y1\":{\"field\":\"y1\"}},\"id\":\"3631\",\"type\":\"Segment\"},{\"attributes\":{\"source\":{\"id\":\"3618\"}},\"id\":\"3623\",\"type\":\"CDSView\"},{\"attributes\":{\"data\":{\"x0\":[\"JAM\",\"USA\",\"CAN\",\"GBR\",\"TRI\",\"URS\",\"EUA\",\"RSA\"],\"x1\":[\"JAM\",\"USA\",\"CAN\",\"GBR\",\"TRI\",\"URS\",\"EUA\",\"RSA\"],\"y0\":{\"__ndarray__\":\"w/UoXI9CI0AzMzMzM7MjQK5H4XoUriNA7FG4HoXrI0AfhetRuB4kQEjhehSuRyRAZmZmZmZmJECamZmZmZklQA==\",\"dtype\":\"float64\",\"order\":\"little\",\"shape\":[8]},\"y1\":{\"__ndarray__\":\"CtejcD1KI0B7FK5H4fojQClcj8L1KCRA9ihcj8I1JEAfhetRuB4kQEjhehSuRyRAZmZmZmZmJECamZmZmZklQA==\",\"dtype\":\"float64\",\"order\":\"little\",\"shape\":[8]}},\"selected\":{\"id\":\"3663\"},\"selection_policy\":{\"id\":\"3664\"}},\"id\":\"3625\",\"type\":\"ColumnDataSource\"},{\"attributes\":{},\"id\":\"3654\",\"type\":\"AllLabels\"},{\"attributes\":{\"bottom\":{\"field\":\"bottom\"},\"fill_alpha\":{\"value\":0.1},\"fill_color\":{\"value\":\"#30a2da\"},\"line_alpha\":{\"value\":0.1},\"top\":{\"field\":\"top\"},\"width\":{\"value\":0.7},\"x\":{\"field\":\"index\"}},\"id\":\"3649\",\"type\":\"VBar\"},{\"attributes\":{},\"id\":\"3659\",\"type\":\"Selection\"},{\"attributes\":{\"bottom\":{\"field\":\"bottom\"},\"fill_color\":{\"value\":\"#30a2da\"},\"top\":{\"field\":\"top\"},\"width\":{\"value\":0.7},\"x\":{\"field\":\"index\"}},\"id\":\"3648\",\"type\":\"VBar\"},{\"attributes\":{},\"id\":\"3714\",\"type\":\"UnionRenderers\"},{\"attributes\":{\"bottom_units\":\"screen\",\"fill_alpha\":0.5,\"fill_color\":\"lightgrey\",\"left_units\":\"screen\",\"level\":\"overlay\",\"line_alpha\":1.0,\"line_color\":\"black\",\"line_dash\":[4,4],\"line_width\":2,\"right_units\":\"screen\",\"syncable\":false,\"top_units\":\"screen\"},\"id\":\"3604\",\"type\":\"BoxAnnotation\"},{\"attributes\":{\"factors\":[\"JAM\",\"USA\",\"CAN\",\"GBR\",\"TRI\",\"URS\",\"EUA\",\"RSA\"],\"tags\":[[[\"Country\",\"Country\",null]]]},\"id\":\"3581\",\"type\":\"FactorRange\"},{\"attributes\":{\"source\":{\"id\":\"3639\"}},\"id\":\"3644\",\"type\":\"CDSView\"},{\"attributes\":{},\"id\":\"3660\",\"type\":\"UnionRenderers\"},{\"attributes\":{\"data_source\":{\"id\":\"3632\"},\"glyph\":{\"id\":\"3634\"},\"hover_glyph\":null,\"muted_glyph\":null,\"nonselection_glyph\":{\"id\":\"3635\"},\"selection_glyph\":{\"id\":\"3638\"},\"view\":{\"id\":\"3637\"}},\"id\":\"3636\",\"type\":\"GlyphRenderer\"},{\"attributes\":{\"children\":[{\"id\":\"3580\"},{\"id\":\"3583\"},{\"id\":\"3738\"},{\"id\":\"3739\"}],\"margin\":[0,0,0,0],\"name\":\"Row05307\"},\"id\":\"3579\",\"type\":\"Row\"},{\"attributes\":{},\"id\":\"3713\",\"type\":\"Selection\"},{\"attributes\":{},\"id\":\"3661\",\"type\":\"Selection\"},{\"attributes\":{\"line_alpha\":{\"value\":1.0},\"line_cap\":{\"value\":\"butt\"},\"line_color\":{\"value\":\"black\"},\"line_dash\":{\"value\":[]},\"line_dash_offset\":{\"value\":0},\"line_join\":{\"value\":\"bevel\"},\"line_width\":{\"value\":1},\"x0\":{\"field\":\"x0\"},\"x1\":{\"field\":\"x1\"},\"y0\":{\"field\":\"y0\"},\"y1\":{\"field\":\"y1\"}},\"id\":\"3638\",\"type\":\"Segment\"},{\"attributes\":{},\"id\":\"3662\",\"type\":\"UnionRenderers\"},{\"attributes\":{\"margin\":[5,5,5,5],\"name\":\"HSpacer05317\",\"sizing_mode\":\"stretch_width\"},\"id\":\"3738\",\"type\":\"Spacer\"},{\"attributes\":{\"active_multi\":null,\"tools\":[{\"id\":\"3599\"},{\"id\":\"3600\"},{\"id\":\"3601\"},{\"id\":\"3602\"},{\"id\":\"3603\"}]},\"id\":\"3605\",\"type\":\"Toolbar\"},{\"attributes\":{\"data\":{\"bottom\":{\"__ndarray__\":\"UrgehetRI0CamZmZmZkkQKRwPQrXoyRAAAAAAACAJEAfhetRuB4kQEjhehSuRyRAZmZmZmZmJECamZmZmZklQA==\",\"dtype\":\"float64\",\"order\":\"little\",\"shape\":[8]},\"index\":[\"JAM\",\"USA\",\"CAN\",\"GBR\",\"TRI\",\"URS\",\"EUA\",\"RSA\"],\"top\":{\"__ndarray__\":\"CtejcD1KI0B7FK5H4fojQClcj8L1KCRA9ihcj8I1JEAfhetRuB4kQEjhehSuRyRAZmZmZmZmJECamZmZmZklQA==\",\"dtype\":\"float64\",\"order\":\"little\",\"shape\":[8]}},\"selected\":{\"id\":\"3713\"},\"selection_policy\":{\"id\":\"3714\"}},\"id\":\"3675\",\"type\":\"ColumnDataSource\"},{\"attributes\":{\"client_comm_id\":\"879beb6d576e4da28ed3fc7028d20fa5\",\"comm_id\":\"52a0b06fd1784e58a1aa94d46e8e98af\",\"plot_id\":\"3579\"},\"id\":\"3810\",\"type\":\"panel.models.comm_manager.CommManager\"},{\"attributes\":{},\"id\":\"3663\",\"type\":\"Selection\"},{\"attributes\":{\"items\":[]},\"id\":\"3672\",\"type\":\"Legend\"},{\"attributes\":{\"children\":[{\"id\":\"3742\"}],\"css_classes\":[\"panel-widget-box\"],\"margin\":[5,5,5,5],\"name\":\"WidgetBox05308\"},\"id\":\"3741\",\"type\":\"Column\"},{\"attributes\":{\"x0\":{\"field\":\"x0\"},\"x1\":{\"field\":\"x1\"},\"y0\":{\"field\":\"y0\"},\"y1\":{\"field\":\"y1\"}},\"id\":\"3634\",\"type\":\"Segment\"},{\"attributes\":{\"data\":{\"x0\":[[\"JAM\",-0.2],[\"USA\",-0.2],[\"CAN\",-0.2],[\"GBR\",-0.2],[\"TRI\",-0.2],[\"URS\",-0.2],[\"EUA\",-0.2],[\"RSA\",-0.2]],\"x1\":[[\"JAM\",0.2],[\"USA\",0.2],[\"CAN\",0.2],[\"GBR\",0.2],[\"TRI\",0.2],[\"URS\",0.2],[\"EUA\",0.2],[\"RSA\",0.2]],\"y0\":[9.69,12.0,10.8,10.6,10.06,10.14,10.2,10.8],\"y1\":[9.69,12.0,10.8,10.6,10.06,10.14,10.2,10.8]},\"selected\":{\"id\":\"3667\"},\"selection_policy\":{\"id\":\"3668\"}},\"id\":\"3639\",\"type\":\"ColumnDataSource\"},{\"attributes\":{},\"id\":\"3664\",\"type\":\"UnionRenderers\"},{\"attributes\":{\"line_alpha\":{\"value\":0.1},\"x0\":{\"field\":\"x0\"},\"x1\":{\"field\":\"x1\"},\"y0\":{\"field\":\"y0\"},\"y1\":{\"field\":\"y1\"}},\"id\":\"3628\",\"type\":\"Segment\"},{\"attributes\":{\"margin\":[5,5,5,5],\"name\":\"VSpacer05313\",\"sizing_mode\":\"stretch_height\"},\"id\":\"3740\",\"type\":\"Spacer\"},{\"attributes\":{\"line_alpha\":{\"value\":0.1},\"x0\":{\"field\":\"x0\"},\"x1\":{\"field\":\"x1\"},\"y0\":{\"field\":\"y0\"},\"y1\":{\"field\":\"y1\"}},\"id\":\"3635\",\"type\":\"Segment\"},{\"attributes\":{\"data\":{\"x0\":[[\"JAM\",-0.2],[\"USA\",-0.2],[\"CAN\",-0.2],[\"GBR\",-0.2],[\"TRI\",-0.2],[\"URS\",-0.2],[\"EUA\",-0.2],[\"RSA\",-0.2]],\"x1\":[[\"JAM\",0.2],[\"USA\",0.2],[\"CAN\",0.2],[\"GBR\",0.2],[\"TRI\",0.2],[\"URS\",0.2],[\"EUA\",0.2],[\"RSA\",0.2]],\"y0\":[9.63,9.85,9.84,9.96,10.06,10.14,10.2,10.8],\"y1\":[9.63,9.85,9.84,9.96,10.06,10.14,10.2,10.8]},\"selected\":{\"id\":\"3665\"},\"selection_policy\":{\"id\":\"3666\"}},\"id\":\"3632\",\"type\":\"ColumnDataSource\"},{\"attributes\":{\"margin\":[5,5,5,5],\"name\":\"HSpacer05316\",\"sizing_mode\":\"stretch_width\"},\"id\":\"3580\",\"type\":\"Spacer\"},{\"attributes\":{\"data_source\":{\"id\":\"3625\"},\"glyph\":{\"id\":\"3627\"},\"hover_glyph\":null,\"muted_glyph\":null,\"nonselection_glyph\":{\"id\":\"3628\"},\"selection_glyph\":{\"id\":\"3631\"},\"view\":{\"id\":\"3630\"}},\"id\":\"3629\",\"type\":\"GlyphRenderer\"},{\"attributes\":{\"data_source\":{\"id\":\"3611\"},\"glyph\":{\"id\":\"3613\"},\"hover_glyph\":null,\"muted_glyph\":null,\"nonselection_glyph\":{\"id\":\"3614\"},\"selection_glyph\":{\"id\":\"3617\"},\"view\":{\"id\":\"3616\"}},\"id\":\"3615\",\"type\":\"GlyphRenderer\"},{\"attributes\":{},\"id\":\"3665\",\"type\":\"Selection\"},{\"attributes\":{\"data_source\":{\"id\":\"3646\"},\"glyph\":{\"id\":\"3648\"},\"hover_glyph\":null,\"muted_glyph\":null,\"nonselection_glyph\":{\"id\":\"3649\"},\"selection_glyph\":{\"id\":\"3674\"},\"view\":{\"id\":\"3651\"}},\"id\":\"3650\",\"type\":\"GlyphRenderer\"},{\"attributes\":{\"fill_alpha\":{\"value\":0.1},\"fill_color\":{\"value\":\"black\"},\"line_alpha\":{\"value\":0.1},\"x\":{\"field\":\"index\"},\"y\":{\"field\":\"Time\"}},\"id\":\"3614\",\"type\":\"Circle\"},{\"attributes\":{},\"id\":\"3666\",\"type\":\"UnionRenderers\"},{\"attributes\":{\"source\":{\"id\":\"3646\"}},\"id\":\"3651\",\"type\":\"CDSView\"},{\"attributes\":{\"data_source\":{\"id\":\"3618\"},\"glyph\":{\"id\":\"3620\"},\"hover_glyph\":null,\"muted_glyph\":null,\"nonselection_glyph\":{\"id\":\"3621\"},\"selection_glyph\":{\"id\":\"3624\"},\"view\":{\"id\":\"3623\"}},\"id\":\"3622\",\"type\":\"GlyphRenderer\"},{\"attributes\":{\"bottom\":{\"field\":\"bottom\"},\"fill_alpha\":{\"value\":1.0},\"fill_color\":{\"value\":\"#30a2da\"},\"hatch_alpha\":{\"value\":1.0},\"hatch_color\":{\"value\":\"black\"},\"hatch_scale\":{\"value\":12.0},\"hatch_weight\":{\"value\":1.0},\"line_alpha\":{\"value\":1.0},\"line_cap\":{\"value\":\"butt\"},\"line_color\":{\"value\":\"black\"},\"line_dash\":{\"value\":[]},\"line_dash_offset\":{\"value\":0},\"line_join\":{\"value\":\"bevel\"},\"line_width\":{\"value\":1},\"top\":{\"field\":\"top\"},\"width\":{\"value\":0.7},\"x\":{\"field\":\"index\"}},\"id\":\"3681\",\"type\":\"VBar\"},{\"attributes\":{\"end\":12.237,\"reset_end\":12.237,\"reset_start\":9.393,\"start\":9.393,\"tags\":[[[\"Time\",\"Time\",null]]]},\"id\":\"3582\",\"type\":\"Range1d\"},{\"attributes\":{},\"id\":\"3590\",\"type\":\"LinearScale\"},{\"attributes\":{\"source\":{\"id\":\"3632\"}},\"id\":\"3637\",\"type\":\"CDSView\"},{\"attributes\":{},\"id\":\"3667\",\"type\":\"Selection\"},{\"attributes\":{},\"id\":\"3588\",\"type\":\"CategoricalScale\"},{\"attributes\":{\"margin\":[20,20,20,20],\"min_width\":250,\"options\":[\"GOLD\",\"SILVER\",\"BRONZE\"],\"title\":\"Medal\",\"value\":\"GOLD\",\"width\":250},\"id\":\"3742\",\"type\":\"Select\"},{\"attributes\":{\"x0\":{\"field\":\"x0\"},\"x1\":{\"field\":\"x1\"},\"y0\":{\"field\":\"y0\"},\"y1\":{\"field\":\"y1\"}},\"id\":\"3620\",\"type\":\"Segment\"},{\"attributes\":{\"bottom\":{\"field\":\"bottom\"},\"fill_alpha\":{\"value\":1.0},\"fill_color\":{\"value\":\"#30a2da\"},\"hatch_alpha\":{\"value\":1.0},\"hatch_color\":{\"value\":\"black\"},\"hatch_scale\":{\"value\":12.0},\"hatch_weight\":{\"value\":1.0},\"line_alpha\":{\"value\":1.0},\"line_cap\":{\"value\":\"butt\"},\"line_color\":{\"value\":\"black\"},\"line_dash\":{\"value\":[]},\"line_dash_offset\":{\"value\":0},\"line_join\":{\"value\":\"bevel\"},\"line_width\":{\"value\":1},\"top\":{\"field\":\"top\"},\"width\":{\"value\":0.7},\"x\":{\"field\":\"index\"}},\"id\":\"3674\",\"type\":\"VBar\"},{\"attributes\":{},\"id\":\"3668\",\"type\":\"UnionRenderers\"},{\"attributes\":{\"text\":\"Medal: GOLD\",\"text_color\":\"black\",\"text_font_size\":\"12pt\"},\"id\":\"3584\",\"type\":\"Title\"},{\"attributes\":{\"margin\":[5,5,5,5],\"name\":\"VSpacer05314\",\"sizing_mode\":\"stretch_height\"},\"id\":\"3743\",\"type\":\"Spacer\"},{\"attributes\":{},\"id\":\"3593\",\"type\":\"CategoricalTicker\"},{\"attributes\":{},\"id\":\"3657\",\"type\":\"AllLabels\"},{\"attributes\":{\"source\":{\"id\":\"3675\"}},\"id\":\"3680\",\"type\":\"CDSView\"},{\"attributes\":{\"below\":[{\"id\":\"3592\"}],\"center\":[{\"id\":\"3594\"},{\"id\":\"3598\"},{\"id\":\"3672\"}],\"height\":400,\"left\":[{\"id\":\"3595\"}],\"margin\":[5,5,5,5],\"min_border_bottom\":10,\"min_border_left\":10,\"min_border_right\":10,\"min_border_top\":10,\"renderers\":[{\"id\":\"3615\"},{\"id\":\"3622\"},{\"id\":\"3629\"},{\"id\":\"3636\"},{\"id\":\"3643\"},{\"id\":\"3650\"},{\"id\":\"3679\"}],\"sizing_mode\":\"fixed\",\"title\":{\"id\":\"3584\"},\"toolbar\":{\"id\":\"3605\"},\"x_range\":{\"id\":\"3581\"},\"x_scale\":{\"id\":\"3588\"},\"y_range\":{\"id\":\"3582\"},\"y_scale\":{\"id\":\"3590\"}},\"id\":\"3583\",\"subtype\":\"Figure\",\"type\":\"Plot\"},{\"attributes\":{\"bottom\":{\"field\":\"bottom\"},\"fill_color\":{\"value\":\"#30a2da\"},\"top\":{\"field\":\"top\"},\"width\":{\"value\":0.7},\"x\":{\"field\":\"index\"}},\"id\":\"3677\",\"type\":\"VBar\"},{\"attributes\":{\"x0\":{\"field\":\"x0\"},\"x1\":{\"field\":\"x1\"},\"y0\":{\"field\":\"y0\"},\"y1\":{\"field\":\"y1\"}},\"id\":\"3627\",\"type\":\"Segment\"},{\"attributes\":{\"data\":{\"x0\":[\"JAM\",\"USA\",\"CAN\",\"GBR\",\"TRI\",\"URS\",\"EUA\",\"RSA\"],\"x1\":[\"JAM\",\"USA\",\"CAN\",\"GBR\",\"TRI\",\"URS\",\"EUA\",\"RSA\"],\"y0\":{\"__ndarray__\":\"4XoUrkdhI0AAAAAAAAAoQJqZmZmZmSVAMzMzMzMzJUAfhetRuB4kQEjhehSuRyRAZmZmZmZmJECamZmZmZklQA==\",\"dtype\":\"float64\",\"order\":\"little\",\"shape\":[8]},\"y1\":{\"__ndarray__\":\"mpmZmZlZI0CamZmZmZklQB+F61G4HiVAmpmZmZnZJEAfhetRuB4kQEjhehSuRyRAZmZmZmZmJECamZmZmZklQA==\",\"dtype\":\"float64\",\"order\":\"little\",\"shape\":[8]}},\"selected\":{\"id\":\"3661\"},\"selection_policy\":{\"id\":\"3662\"}},\"id\":\"3618\",\"type\":\"ColumnDataSource\"},{\"attributes\":{\"axis_label\":\"Country\",\"formatter\":{\"id\":\"3653\"},\"major_label_policy\":{\"id\":\"3654\"},\"ticker\":{\"id\":\"3593\"}},\"id\":\"3592\",\"type\":\"CategoricalAxis\"},{\"attributes\":{\"data_source\":{\"id\":\"3675\"},\"glyph\":{\"id\":\"3677\"},\"hover_glyph\":null,\"muted_glyph\":null,\"nonselection_glyph\":{\"id\":\"3678\"},\"selection_glyph\":{\"id\":\"3681\"},\"view\":{\"id\":\"3680\"}},\"id\":\"3679\",\"type\":\"GlyphRenderer\"},{\"attributes\":{\"axis_label\":\"Sprint Time\",\"formatter\":{\"id\":\"3656\"},\"major_label_policy\":{\"id\":\"3657\"},\"ticker\":{\"id\":\"3596\"}},\"id\":\"3595\",\"type\":\"LinearAxis\"},{\"attributes\":{},\"id\":\"3656\",\"type\":\"BasicTickFormatter\"},{\"attributes\":{\"data_source\":{\"id\":\"3639\"},\"glyph\":{\"id\":\"3641\"},\"hover_glyph\":null,\"muted_glyph\":null,\"nonselection_glyph\":{\"id\":\"3642\"},\"selection_glyph\":{\"id\":\"3645\"},\"view\":{\"id\":\"3644\"}},\"id\":\"3643\",\"type\":\"GlyphRenderer\"},{\"attributes\":{\"axis\":{\"id\":\"3595\"},\"dimension\":1,\"grid_line_color\":null,\"ticker\":null},\"id\":\"3598\",\"type\":\"Grid\"},{\"attributes\":{\"axis\":{\"id\":\"3592\"},\"grid_line_color\":null,\"ticker\":null},\"id\":\"3594\",\"type\":\"Grid\"},{\"attributes\":{\"x0\":{\"field\":\"x0\"},\"x1\":{\"field\":\"x1\"},\"y0\":{\"field\":\"y0\"},\"y1\":{\"field\":\"y1\"}},\"id\":\"3641\",\"type\":\"Segment\"},{\"attributes\":{\"line_alpha\":{\"value\":0.1},\"x0\":{\"field\":\"x0\"},\"x1\":{\"field\":\"x1\"},\"y0\":{\"field\":\"y0\"},\"y1\":{\"field\":\"y1\"}},\"id\":\"3642\",\"type\":\"Segment\"},{\"attributes\":{\"source\":{\"id\":\"3611\"}},\"id\":\"3616\",\"type\":\"CDSView\"},{\"attributes\":{},\"id\":\"3596\",\"type\":\"BasicTicker\"},{\"attributes\":{},\"id\":\"3601\",\"type\":\"WheelZoomTool\"},{\"attributes\":{\"source\":{\"id\":\"3625\"}},\"id\":\"3630\",\"type\":\"CDSView\"},{\"attributes\":{},\"id\":\"3669\",\"type\":\"Selection\"},{\"attributes\":{\"bottom\":{\"field\":\"bottom\"},\"fill_alpha\":{\"value\":0.1},\"fill_color\":{\"value\":\"#30a2da\"},\"line_alpha\":{\"value\":0.1},\"top\":{\"field\":\"top\"},\"width\":{\"value\":0.7},\"x\":{\"field\":\"index\"}},\"id\":\"3678\",\"type\":\"VBar\"},{\"attributes\":{},\"id\":\"3599\",\"type\":\"SaveTool\"},{\"attributes\":{\"angle\":{\"value\":0.0},\"fill_alpha\":{\"value\":1.0},\"fill_color\":{\"value\":\"black\"},\"hatch_alpha\":{\"value\":1.0},\"hatch_color\":{\"value\":\"black\"},\"hatch_scale\":{\"value\":12.0},\"hatch_weight\":{\"value\":1.0},\"line_alpha\":{\"value\":1.0},\"line_cap\":{\"value\":\"butt\"},\"line_color\":{\"value\":\"black\"},\"line_dash\":{\"value\":[]},\"line_dash_offset\":{\"value\":0},\"line_join\":{\"value\":\"bevel\"},\"line_width\":{\"value\":1},\"size\":{\"value\":4},\"x\":{\"field\":\"index\"},\"y\":{\"field\":\"Time\"}},\"id\":\"3617\",\"type\":\"Circle\"},{\"attributes\":{},\"id\":\"3670\",\"type\":\"UnionRenderers\"},{\"attributes\":{\"overlay\":{\"id\":\"3604\"}},\"id\":\"3602\",\"type\":\"BoxZoomTool\"},{\"attributes\":{},\"id\":\"3603\",\"type\":\"ResetTool\"},{\"attributes\":{\"line_alpha\":{\"value\":0.1},\"x0\":{\"field\":\"x0\"},\"x1\":{\"field\":\"x1\"},\"y0\":{\"field\":\"y0\"},\"y1\":{\"field\":\"y1\"}},\"id\":\"3621\",\"type\":\"Segment\"},{\"attributes\":{\"data\":{\"Time\":{\"__ndarray__\":\"\",\"dtype\":\"float64\",\"order\":\"little\",\"shape\":[0]},\"index\":{\"__ndarray__\":\"\",\"dtype\":\"float64\",\"order\":\"little\",\"shape\":[0]}},\"selected\":{\"id\":\"3659\"},\"selection_policy\":{\"id\":\"3660\"}},\"id\":\"3611\",\"type\":\"ColumnDataSource\"},{\"attributes\":{\"line_alpha\":{\"value\":1.0},\"line_cap\":{\"value\":\"butt\"},\"line_color\":{\"value\":\"black\"},\"line_dash\":{\"value\":[]},\"line_dash_offset\":{\"value\":0},\"line_join\":{\"value\":\"bevel\"},\"line_width\":{\"value\":1},\"x0\":{\"field\":\"x0\"},\"x1\":{\"field\":\"x1\"},\"y0\":{\"field\":\"y0\"},\"y1\":{\"field\":\"y1\"}},\"id\":\"3624\",\"type\":\"Segment\"},{\"attributes\":{\"children\":[{\"id\":\"3740\"},{\"id\":\"3741\"},{\"id\":\"3743\"}],\"margin\":[0,0,0,0],\"name\":\"Column05315\"},\"id\":\"3739\",\"type\":\"Column\"},{\"attributes\":{\"fill_color\":{\"value\":\"black\"},\"x\":{\"field\":\"index\"},\"y\":{\"field\":\"Time\"}},\"id\":\"3613\",\"type\":\"Circle\"}],\"root_ids\":[\"3579\",\"3810\"]},\"title\":\"Bokeh Application\",\"version\":\"2.3.0\"}};\n",
       "    var render_items = [{\"docid\":\"0a177dff-27b0-439d-bbe2-df90298b69a9\",\"root_ids\":[\"3579\"],\"roots\":{\"3579\":\"99f1fdf6-9340-44a8-9beb-32244f95c8ca\"}}];\n",
       "    root.Bokeh.embed.embed_items_notebook(docs_json, render_items);\n",
       "  }\n",
       "  if (root.Bokeh !== undefined && root.Bokeh.Panel !== undefined) {\n",
       "    embed_document(root);\n",
       "  } else {\n",
       "    var attempts = 0;\n",
       "    var timer = setInterval(function(root) {\n",
       "      if (root.Bokeh !== undefined && root.Bokeh.Panel !== undefined) {\n",
       "        clearInterval(timer);\n",
       "        embed_document(root);\n",
       "      } else if (document.readyState == \"complete\") {\n",
       "        attempts++;\n",
       "        if (attempts > 100) {\n",
       "          clearInterval(timer);\n",
       "          console.log(\"Bokeh: ERROR: Unable to run BokehJS code because BokehJS library is missing\");\n",
       "        }\n",
       "      }\n",
       "    }, 10, root)\n",
       "  }\n",
       "})(window);</script>"
      ],
      "text/plain": [
       ":DynamicMap   [Medal]\n",
       "   :BoxWhisker   [Country]   (Time)"
      ]
     },
     "execution_count": 14,
     "metadata": {
      "application/vnd.holoviews_exec.v0+json": {
       "id": "3579"
      }
     },
     "output_type": "execute_result"
    }
   ],
   "source": [
    "boxinteract = df.hvplot.box(y='Time', groupby='Medal', by='Country', ylabel='Sprint Time', height=400, width=600) \n",
    "# boxinteract"
   ]
  },
  {
   "cell_type": "code",
   "execution_count": 15,
   "metadata": {},
   "outputs": [
    {
     "name": "stdout",
     "output_type": "stream",
     "text": [
      "                                             \r"
     ]
    }
   ],
   "source": [
    "hvplot.save(boxinteract, '../_includes/boxinteract.html')"
   ]
  },
  {
   "cell_type": "markdown",
   "metadata": {},
   "source": [
    "{% include boxinteract.html %}"
   ]
  }
 ],
 "metadata": {
  "kernelspec": {
   "display_name": "Python 3",
   "language": "python",
   "name": "python3"
  },
  "language_info": {
   "codemirror_mode": {
    "name": "ipython",
    "version": 3
   },
   "file_extension": ".py",
   "mimetype": "text/x-python",
   "name": "python",
   "nbconvert_exporter": "python",
   "pygments_lexer": "ipython3",
   "version": "3.8.5"
  }
 },
 "nbformat": 4,
 "nbformat_minor": 2
}
