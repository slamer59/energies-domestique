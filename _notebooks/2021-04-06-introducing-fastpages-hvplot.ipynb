{
 "cells": [
  {
   "cell_type": "markdown",
   "metadata": {},
   "source": [
    "# Introducing fastpages\n",
    "> An easy to use blogging platform with extra features for <a href=\"https://jupyter.org/\">Jupyter Notebooks</a>.\n",
    "\n",
    "- toc: true \n",
    "- badges: true\n",
    "- comments: true\n",
    "- sticky_rank: 1\n",
    "- author: Jeremy Howard & Hamel Husain\n",
    "- image: images/diagram.png\n",
    "- categories: [fastpages, jupyter]"
   ]
  },
  {
   "cell_type": "markdown",
   "metadata": {},
   "source": [
    "![](https://github.com/fastai/fastpages/raw/master/images/diagram.png \"https://github.com/fastai/fastpages\")\n",
    "\n",
    "We are very pleased to announce the immediate availability of [fastpages](https://github.com/fastai/fastpages). `fastpages` is a platform which allows you to create and host a blog for free, with no ads and many useful features, such as:\n",
    "\n",
    "- Create posts containing code, outputs of code (which can be interactive), formatted text, etc directly from [Jupyter Notebooks](https://jupyter.org/); for instance see this great [example post](https://drscotthawley.github.io/devblog3/2019/02/08/My-1st-NN-Part-3-Multi-Layer-and-Backprop.html) from Scott Hawley.  Notebook posts support features such as:\n",
    "    - Interactive visualizations made with [Altair](https://altair-viz.github.io/) remain interactive.\n",
    "    - Hide or show cell input and output.\n",
    "    - Collapsable code cells that are either open or closed by default.\n",
    "    - Define the Title, Summary and other metadata via a special markdown cells\n",
    "    - Ability to add links to [Colab](https://colab.research.google.com/) and GitHub automatically.\n",
    "- Create posts, including formatting and images, directly from Microsoft Word documents.\n",
    "- Create and edit [Markdown](https://guides.github.com/features/mastering-markdown/) posts entirely online using GitHub's built-in markdown editor.\n",
    "- Embed Twitter cards and YouTube videos.\n",
    "- Categorization of blog posts by user-supplied tags for discoverability.\n",
    "- ... and [much more](https://github.com/fastai/fastpages)\n",
    "\n",
    "[fastpages](https://github.com/fastai/fastpages) relies on Github pages for hosting, and [Github Actions](https://github.com/features/actions) to automate the creation of your blog. The setup takes around three minutes, and does not require any technical knowledge or expertise. Due to built-in automation of fastpages, you don't have to fuss with conversion scripts.  All you have to do is save your Jupyter notebook, Word document or markdown file into a specified directory and the rest happens automatically. Infact, this blog post is written in a Jupyter notebook, which you can see with the \"View on GitHub\" link above.\n",
    "\n",
    "[fast.ai](https://www.fast.ai/) have previously released a similar project called [fast_template](https://www.fast.ai/2020/01/16/fast_template/), which is even easier to set up, but does not support automatic creation of posts from Microsoft Word or Jupyter notebooks, including many of the features outlined above.\n",
    "\n",
    "**Because `fastpages` is more flexible and extensible, we recommend using it where possible.** `fast_template` may be a better option for getting folks blogging who have no technical expertise at all, and will only be creating posts using Github's integrated online editor."
   ]
  },
  {
   "cell_type": "markdown",
   "metadata": {},
   "source": [
    "## Setting Up Fastpages\n",
    "\n",
    "[The setup process](https://github.com/fastai/fastpages#setup-instructions) of fastpages is automated with GitHub Actions, too!  Upon creating a repo from the fastpages template, a pull request will automatically be opened (after ~ 30 seconds) configuring your blog so it can start working.  The automated pull request will greet you with instructions like this:\n",
    "\n",
    "![Imgur](https://i.imgur.com/JhkIip8.png)\n"
   ]
  },
  {
   "cell_type": "markdown",
   "metadata": {},
   "source": [
    "All you have to do is follow these instructions (in the  PR you receive) and your new blogging site will be up and running!"
   ]
  },
  {
   "cell_type": "markdown",
   "metadata": {},
   "source": [
    "## Jupyter Notebooks & Fastpages\n",
    "\n",
    "In this post, we will cover special features that fastpages provides for Jupyter notebooks.  You can also write your blog posts with Word documents or markdown in fastpages, which contain many, but not all the same features. "
   ]
  },
  {
   "cell_type": "markdown",
   "metadata": {},
   "source": [
    "### Options via FrontMatter\n",
    "\n",
    "The first cell in your Jupyter Notebook or markdown blog post contains front matter.  Front matter is metadata that can turn on/off options in your Notebook.  It is formatted like this:\n",
    "\n",
    "```\n",
    "# Title\n",
    "> Awesome summary\n",
    "\n",
    "- toc: true\n",
    "- branch: master\n",
    "- badges: true\n",
    "- comments: true\n",
    "- author: Hamel Husain & Jeremy Howard\n",
    "- categories: [fastpages, jupyter]\n",
    "```\n",
    "\n",
    "**All of the above settings are enabled in this post, so you can see what they look like!**\n",
    "\n",
    "- the summary field (preceeded by `>`) will be displayed under your title, and will also be used by social media to display as the description of your page.\n",
    "- `toc`: setting this to `true` will automatically generate a table of contents\n",
    "- `badges`: setting this to `true` will display Google Colab and GitHub links on your blog post.\n",
    "- `comments`: setting this to `true` will enable comments.  See [these instructions](https://github.com/fastai/fastpages#enabling-comments) for more details.\n",
    "- `author` this will display the authors names. \n",
    "- `categories` will allow your post to be categorized on a \"Tags\" page, where readers can browse your post by categories.\n",
    "\n",
    "\n",
    "_Markdown front matter is formatted similarly to notebooks.  The differences between the two can be [viewed on the fastpages README](https://github.com/fastai/fastpages#front-matter-related-options)._"
   ]
  },
  {
   "cell_type": "markdown",
   "metadata": {},
   "source": [
    "### Code Folding"
   ]
  },
  {
   "cell_type": "markdown",
   "metadata": {},
   "source": [
    "put a `#collapse-hide` flag at the top of any cell if you want to **hide** that cell by default, but give the reader the option to show it:"
   ]
  },
  {
   "cell_type": "code",
   "execution_count": 24,
   "metadata": {},
   "outputs": [
    {
     "name": "stdout",
     "output_type": "stream",
     "text": [
      "Requirement already satisfied: pandas in /usr/local/lib/python3.8/dist-packages (1.2.3)\n",
      "Requirement already satisfied: holoviews[recommended] in /usr/local/lib/python3.8/dist-packages (1.14.2)\n",
      "Requirement already satisfied: hvplot in /usr/local/lib/python3.8/dist-packages (0.7.1)\n",
      "Requirement already satisfied: panel in /usr/local/lib/python3.8/dist-packages (0.11.1)\n",
      "Requirement already satisfied: pyviz-comms>=0.7.3 in /usr/local/lib/python3.8/dist-packages (from holoviews[recommended]) (2.0.1)\n",
      "Requirement already satisfied: numpy>=1.0 in /usr/local/lib/python3.8/dist-packages (from holoviews[recommended]) (1.20.2)\n",
      "Requirement already satisfied: colorcet in /usr/local/lib/python3.8/dist-packages (from holoviews[recommended]) (2.0.6)\n",
      "Requirement already satisfied: param<2.0,>=1.9.3 in /usr/local/lib/python3.8/dist-packages (from holoviews[recommended]) (1.10.1)\n",
      "Requirement already satisfied: matplotlib>=2.2 in /usr/local/lib/python3.8/dist-packages (from holoviews[recommended]) (3.4.1)\n",
      "Requirement already satisfied: notebook in /usr/local/lib/python3.8/dist-packages (from holoviews[recommended]) (6.1.6)\n",
      "Requirement already satisfied: bokeh>=1.1.0 in /usr/local/lib/python3.8/dist-packages (from holoviews[recommended]) (2.3.0)\n",
      "Requirement already satisfied: ipython>=5.4.0 in /usr/local/lib/python3.8/dist-packages (from holoviews[recommended]) (7.19.0)\n",
      "Requirement already satisfied: markdown in /usr/local/lib/python3.8/dist-packages (from panel) (3.3.4)\n",
      "Requirement already satisfied: requests in /usr/lib/python3/dist-packages (from panel) (2.22.0)\n",
      "Requirement already satisfied: tqdm in /usr/local/lib/python3.8/dist-packages (from panel) (4.60.0)\n",
      "Requirement already satisfied: pyct>=0.4.4 in /usr/local/lib/python3.8/dist-packages (from panel) (0.4.8)\n",
      "Requirement already satisfied: packaging>=16.8 in /usr/local/lib/python3.8/dist-packages (from bokeh>=1.1.0->holoviews[recommended]) (20.8)\n",
      "Requirement already satisfied: PyYAML>=3.10 in /usr/local/lib/python3.8/dist-packages (from bokeh>=1.1.0->holoviews[recommended]) (5.3.1)\n",
      "Requirement already satisfied: Jinja2>=2.7 in /usr/local/lib/python3.8/dist-packages (from bokeh>=1.1.0->holoviews[recommended]) (2.11.2)\n",
      "Requirement already satisfied: typing-extensions>=3.7.4 in /usr/local/lib/python3.8/dist-packages (from bokeh>=1.1.0->holoviews[recommended]) (3.7.4.3)\n",
      "Requirement already satisfied: python-dateutil>=2.1 in /usr/local/lib/python3.8/dist-packages (from bokeh>=1.1.0->holoviews[recommended]) (2.8.1)\n",
      "Requirement already satisfied: pillow>=7.1.0 in /usr/local/lib/python3.8/dist-packages (from bokeh>=1.1.0->holoviews[recommended]) (8.2.0)\n",
      "Requirement already satisfied: tornado>=5.1 in /usr/local/lib/python3.8/dist-packages (from bokeh>=1.1.0->holoviews[recommended]) (6.1)\n",
      "Requirement already satisfied: traitlets>=4.2 in /usr/local/lib/python3.8/dist-packages (from ipython>=5.4.0->holoviews[recommended]) (5.0.5)\n",
      "Requirement already satisfied: pickleshare in /usr/local/lib/python3.8/dist-packages (from ipython>=5.4.0->holoviews[recommended]) (0.7.5)\n",
      "Requirement already satisfied: pygments in /usr/local/lib/python3.8/dist-packages (from ipython>=5.4.0->holoviews[recommended]) (2.7.3)\n",
      "Requirement already satisfied: jedi>=0.10 in /usr/local/lib/python3.8/dist-packages (from ipython>=5.4.0->holoviews[recommended]) (0.18.0)\n",
      "Requirement already satisfied: prompt-toolkit!=3.0.0,!=3.0.1,<3.1.0,>=2.0.0 in /usr/local/lib/python3.8/dist-packages (from ipython>=5.4.0->holoviews[recommended]) (3.0.8)\n",
      "Requirement already satisfied: pexpect>4.3 in /usr/local/lib/python3.8/dist-packages (from ipython>=5.4.0->holoviews[recommended]) (4.8.0)\n",
      "Requirement already satisfied: backcall in /usr/local/lib/python3.8/dist-packages (from ipython>=5.4.0->holoviews[recommended]) (0.2.0)\n",
      "Requirement already satisfied: decorator in /usr/local/lib/python3.8/dist-packages (from ipython>=5.4.0->holoviews[recommended]) (4.4.2)\n",
      "Requirement already satisfied: setuptools>=18.5 in /usr/lib/python3/dist-packages (from ipython>=5.4.0->holoviews[recommended]) (45.2.0)\n",
      "Requirement already satisfied: parso<0.9.0,>=0.8.0 in /usr/local/lib/python3.8/dist-packages (from jedi>=0.10->ipython>=5.4.0->holoviews[recommended]) (0.8.1)\n",
      "Requirement already satisfied: MarkupSafe>=0.23 in /usr/local/lib/python3.8/dist-packages (from Jinja2>=2.7->bokeh>=1.1.0->holoviews[recommended]) (1.1.1)\n",
      "Requirement already satisfied: kiwisolver>=1.0.1 in /usr/local/lib/python3.8/dist-packages (from matplotlib>=2.2->holoviews[recommended]) (1.3.1)\n",
      "Requirement already satisfied: pyparsing>=2.2.1 in /usr/local/lib/python3.8/dist-packages (from matplotlib>=2.2->holoviews[recommended]) (2.4.7)\n",
      "Requirement already satisfied: cycler>=0.10 in /usr/local/lib/python3.8/dist-packages (from matplotlib>=2.2->holoviews[recommended]) (0.10.0)\n",
      "Requirement already satisfied: six in /usr/lib/python3/dist-packages (from cycler>=0.10->matplotlib>=2.2->holoviews[recommended]) (1.14.0)\n",
      "Requirement already satisfied: ptyprocess>=0.5 in /usr/local/lib/python3.8/dist-packages (from pexpect>4.3->ipython>=5.4.0->holoviews[recommended]) (0.7.0)\n",
      "Requirement already satisfied: wcwidth in /usr/local/lib/python3.8/dist-packages (from prompt-toolkit!=3.0.0,!=3.0.1,<3.1.0,>=2.0.0->ipython>=5.4.0->holoviews[recommended]) (0.2.5)\n",
      "Requirement already satisfied: ipython-genutils in /usr/local/lib/python3.8/dist-packages (from traitlets>=4.2->ipython>=5.4.0->holoviews[recommended]) (0.2.0)\n",
      "Requirement already satisfied: pytz>=2017.3 in /usr/local/lib/python3.8/dist-packages (from pandas) (2021.1)\n",
      "Requirement already satisfied: Send2Trash in /usr/local/lib/python3.8/dist-packages (from notebook->holoviews[recommended]) (1.5.0)\n",
      "Requirement already satisfied: terminado>=0.8.3 in /usr/local/lib/python3.8/dist-packages (from notebook->holoviews[recommended]) (0.9.1)\n",
      "Requirement already satisfied: prometheus-client in /usr/local/lib/python3.8/dist-packages (from notebook->holoviews[recommended]) (0.9.0)\n",
      "Requirement already satisfied: argon2-cffi in /usr/local/lib/python3.8/dist-packages (from notebook->holoviews[recommended]) (20.1.0)\n",
      "Requirement already satisfied: nbformat in /usr/local/lib/python3.8/dist-packages (from notebook->holoviews[recommended]) (5.0.8)\n",
      "Requirement already satisfied: nbconvert in /usr/local/lib/python3.8/dist-packages (from notebook->holoviews[recommended]) (5.6.1)\n",
      "Requirement already satisfied: ipykernel in /usr/local/lib/python3.8/dist-packages (from notebook->holoviews[recommended]) (5.4.2)\n",
      "Requirement already satisfied: pyzmq>=17 in /usr/local/lib/python3.8/dist-packages (from notebook->holoviews[recommended]) (20.0.0)\n",
      "Requirement already satisfied: jupyter-client>=5.3.4 in /usr/local/lib/python3.8/dist-packages (from notebook->holoviews[recommended]) (6.1.7)\n",
      "Requirement already satisfied: jupyter-core>=4.6.1 in /usr/local/lib/python3.8/dist-packages (from notebook->holoviews[recommended]) (4.7.0)\n",
      "Requirement already satisfied: cffi>=1.0.0 in /usr/local/lib/python3.8/dist-packages (from argon2-cffi->notebook->holoviews[recommended]) (1.14.4)\n",
      "Requirement already satisfied: pycparser in /usr/local/lib/python3.8/dist-packages (from cffi>=1.0.0->argon2-cffi->notebook->holoviews[recommended]) (2.20)\n",
      "Requirement already satisfied: entrypoints>=0.2.2 in /usr/local/lib/python3.8/dist-packages (from nbconvert->notebook->holoviews[recommended]) (0.3)\n",
      "Requirement already satisfied: bleach in /usr/local/lib/python3.8/dist-packages (from nbconvert->notebook->holoviews[recommended]) (3.2.1)\n",
      "Requirement already satisfied: pandocfilters>=1.4.1 in /usr/local/lib/python3.8/dist-packages (from nbconvert->notebook->holoviews[recommended]) (1.4.3)\n",
      "Requirement already satisfied: testpath in /usr/local/lib/python3.8/dist-packages (from nbconvert->notebook->holoviews[recommended]) (0.4.4)\n",
      "Requirement already satisfied: defusedxml in /usr/local/lib/python3.8/dist-packages (from nbconvert->notebook->holoviews[recommended]) (0.6.0)\n",
      "Requirement already satisfied: mistune<2,>=0.8.1 in /usr/local/lib/python3.8/dist-packages (from nbconvert->notebook->holoviews[recommended]) (0.8.4)\n",
      "Requirement already satisfied: jsonschema!=2.5.0,>=2.4 in /usr/local/lib/python3.8/dist-packages (from nbformat->notebook->holoviews[recommended]) (3.2.0)\n"
     ]
    },
    {
     "name": "stdout",
     "output_type": "stream",
     "text": [
      "Requirement already satisfied: pyrsistent>=0.14.0 in /usr/local/lib/python3.8/dist-packages (from jsonschema!=2.5.0,>=2.4->nbformat->notebook->holoviews[recommended]) (0.17.3)\n",
      "Requirement already satisfied: attrs>=17.4.0 in /usr/local/lib/python3.8/dist-packages (from jsonschema!=2.5.0,>=2.4->nbformat->notebook->holoviews[recommended]) (20.3.0)\n",
      "Requirement already satisfied: webencodings in /usr/local/lib/python3.8/dist-packages (from bleach->nbconvert->notebook->holoviews[recommended]) (0.5.1)\n",
      "\u001b[33mWARNING: You are using pip version 20.3.3; however, version 21.0.1 is available.\n",
      "You should consider upgrading via the '/usr/bin/python -m pip install --upgrade pip' command.\u001b[0m\n"
     ]
    }
   ],
   "source": [
    "#hide\n",
    "!pip install pandas \"holoviews[recommended]\" hvplot panel"
   ]
  },
  {
   "cell_type": "code",
   "execution_count": 25,
   "metadata": {},
   "outputs": [],
   "source": [
    "#collapse-hide\n",
    "import hvplot.pandas  # noqa"
   ]
  },
  {
   "cell_type": "markdown",
   "metadata": {},
   "source": [
    "put a `#collapse-show` flag at the top of any cell if you want to **show** that cell by default, but give the reader the option to hide it:"
   ]
  },
  {
   "cell_type": "code",
   "execution_count": 26,
   "metadata": {},
   "outputs": [
    {
     "data": {
      "text/html": [
       "<div>\n",
       "<style scoped>\n",
       "    .dataframe tbody tr th:only-of-type {\n",
       "        vertical-align: middle;\n",
       "    }\n",
       "\n",
       "    .dataframe tbody tr th {\n",
       "        vertical-align: top;\n",
       "    }\n",
       "\n",
       "    .dataframe thead th {\n",
       "        text-align: right;\n",
       "    }\n",
       "</style>\n",
       "<table border=\"1\" class=\"dataframe\">\n",
       "  <thead>\n",
       "    <tr style=\"text-align: right;\">\n",
       "      <th></th>\n",
       "      <th>Name</th>\n",
       "      <th>Country</th>\n",
       "      <th>Medal</th>\n",
       "      <th>Time</th>\n",
       "      <th>Year</th>\n",
       "    </tr>\n",
       "  </thead>\n",
       "  <tbody>\n",
       "    <tr>\n",
       "      <th>0</th>\n",
       "      <td>Usain Bolt</td>\n",
       "      <td>JAM</td>\n",
       "      <td>GOLD</td>\n",
       "      <td>9.63</td>\n",
       "      <td>2012</td>\n",
       "    </tr>\n",
       "    <tr>\n",
       "      <th>1</th>\n",
       "      <td>Yohan Blake</td>\n",
       "      <td>JAM</td>\n",
       "      <td>SILVER</td>\n",
       "      <td>9.75</td>\n",
       "      <td>2012</td>\n",
       "    </tr>\n",
       "    <tr>\n",
       "      <th>2</th>\n",
       "      <td>Justin Gatlin</td>\n",
       "      <td>USA</td>\n",
       "      <td>BRONZE</td>\n",
       "      <td>9.79</td>\n",
       "      <td>2012</td>\n",
       "    </tr>\n",
       "    <tr>\n",
       "      <th>3</th>\n",
       "      <td>Usain Bolt</td>\n",
       "      <td>JAM</td>\n",
       "      <td>GOLD</td>\n",
       "      <td>9.69</td>\n",
       "      <td>2008</td>\n",
       "    </tr>\n",
       "    <tr>\n",
       "      <th>4</th>\n",
       "      <td>Richard Thompson</td>\n",
       "      <td>TRI</td>\n",
       "      <td>SILVER</td>\n",
       "      <td>9.89</td>\n",
       "      <td>2008</td>\n",
       "    </tr>\n",
       "  </tbody>\n",
       "</table>\n",
       "</div>"
      ],
      "text/plain": [
       "               Name Country   Medal  Time  Year\n",
       "0        Usain Bolt     JAM    GOLD  9.63  2012\n",
       "1       Yohan Blake     JAM  SILVER  9.75  2012\n",
       "2     Justin Gatlin     USA  BRONZE  9.79  2012\n",
       "3        Usain Bolt     JAM    GOLD  9.69  2008\n",
       "4  Richard Thompson     TRI  SILVER  9.89  2008"
      ]
     },
     "execution_count": 26,
     "metadata": {},
     "output_type": "execute_result"
    }
   ],
   "source": [
    "#collapse-show\n",
    "from bokeh.sampledata.sprint import sprint as df\n",
    "\n",
    "df.head()"
   ]
  },
  {
   "cell_type": "markdown",
   "metadata": {},
   "source": [
    "If you want to completely hide cells (not just collapse them), [read these instructions](https://github.com/fastai/fastpages#hide-inputoutput-cells)."
   ]
  },
  {
   "cell_type": "code",
   "execution_count": 27,
   "metadata": {},
   "outputs": [
    {
     "data": {},
     "metadata": {},
     "output_type": "display_data"
    },
    {
     "data": {
      "application/vnd.holoviews_exec.v0+json": "",
      "text/html": [
       "<div id='7363'>\n",
       "\n",
       "\n",
       "\n",
       "\n",
       "\n",
       "  <div class=\"bk-root\" id=\"1362e3da-92cd-4037-a9dd-07ee5ff19d64\" data-root-id=\"7363\"></div>\n",
       "</div>\n",
       "<script type=\"application/javascript\">(function(root) {\n",
       "  function embed_document(root) {\n",
       "    var docs_json = {\"b17869a3-d462-49d0-9565-9593dc936a50\":{\"defs\":[{\"extends\":null,\"module\":null,\"name\":\"DataModel\",\"overrides\":[],\"properties\":[]}],\"roots\":{\"references\":[{\"attributes\":{},\"id\":\"7448\",\"type\":\"BasicTickFormatter\"},{\"attributes\":{},\"id\":\"7462\",\"type\":\"Selection\"},{\"attributes\":{\"active_multi\":null,\"tools\":[{\"id\":\"7383\"},{\"id\":\"7384\"},{\"id\":\"7385\"},{\"id\":\"7386\"},{\"id\":\"7387\"}]},\"id\":\"7389\",\"type\":\"Toolbar\"},{\"attributes\":{},\"id\":\"7449\",\"type\":\"AllLabels\"},{\"attributes\":{},\"id\":\"7463\",\"type\":\"UnionRenderers\"},{\"attributes\":{\"source\":{\"id\":\"7430\"}},\"id\":\"7435\",\"type\":\"CDSView\"},{\"attributes\":{\"bottom\":{\"field\":\"bottom\"},\"fill_alpha\":{\"value\":1.0},\"fill_color\":{\"value\":\"#30a2da\"},\"hatch_alpha\":{\"value\":1.0},\"hatch_color\":{\"value\":\"black\"},\"hatch_scale\":{\"value\":12.0},\"hatch_weight\":{\"value\":1.0},\"line_alpha\":{\"value\":1.0},\"line_cap\":{\"value\":\"butt\"},\"line_color\":{\"value\":\"black\"},\"line_dash\":{\"value\":[]},\"line_dash_offset\":{\"value\":0},\"line_join\":{\"value\":\"bevel\"},\"line_width\":{\"value\":1},\"top\":{\"field\":\"top\"},\"width\":{\"value\":0.7},\"x\":{\"field\":\"index\"}},\"id\":\"7436\",\"type\":\"VBar\"},{\"attributes\":{\"data_source\":{\"id\":\"7409\"},\"glyph\":{\"id\":\"7411\"},\"hover_glyph\":null,\"muted_glyph\":null,\"nonselection_glyph\":{\"id\":\"7412\"},\"selection_glyph\":{\"id\":\"7415\"},\"view\":{\"id\":\"7414\"}},\"id\":\"7413\",\"type\":\"GlyphRenderer\"},{\"attributes\":{\"source\":{\"id\":\"7409\"}},\"id\":\"7414\",\"type\":\"CDSView\"},{\"attributes\":{\"bottom\":{\"field\":\"bottom\"},\"fill_color\":{\"value\":\"#30a2da\"},\"top\":{\"field\":\"top\"},\"width\":{\"value\":0.7},\"x\":{\"field\":\"index\"}},\"id\":\"7439\",\"type\":\"VBar\"},{\"attributes\":{},\"id\":\"7464\",\"type\":\"Selection\"},{\"attributes\":{},\"id\":\"7465\",\"type\":\"UnionRenderers\"},{\"attributes\":{},\"id\":\"7372\",\"type\":\"CategoricalScale\"},{\"attributes\":{\"x0\":{\"field\":\"x0\"},\"x1\":{\"field\":\"x1\"},\"y0\":{\"field\":\"y0\"},\"y1\":{\"field\":\"y1\"}},\"id\":\"7411\",\"type\":\"Segment\"},{\"attributes\":{\"factors\":[\"GOLD\",\"SILVER\",\"BRONZE\"],\"tags\":[[[\"Medal\",\"Medal\",null]]]},\"id\":\"7365\",\"type\":\"FactorRange\"},{\"attributes\":{\"data\":{\"x0\":[\"GOLD\",\"SILVER\",\"BRONZE\"],\"x1\":[\"GOLD\",\"SILVER\",\"BRONZE\"],\"y0\":{\"__ndarray__\":\"AAAAAAAAKECamZmZmZkmQJqZmZmZmSZA\",\"dtype\":\"float64\",\"order\":\"little\",\"shape\":[3]},\"y1\":{\"__ndarray__\":\"mpmZmZmZJUDNzMzMzMwlQM3MzMzMzCVA\",\"dtype\":\"float64\",\"order\":\"little\",\"shape\":[3]}},\"selected\":{\"id\":\"7460\"},\"selection_policy\":{\"id\":\"7461\"}},\"id\":\"7402\",\"type\":\"ColumnDataSource\"},{\"attributes\":{\"data\":{\"bottom\":{\"__ndarray__\":\"mpmZmZmZJUDNzMzMzMwlQM3MzMzMzCVA\",\"dtype\":\"float64\",\"order\":\"little\",\"shape\":[3]},\"index\":[\"GOLD\",\"SILVER\",\"BRONZE\"],\"top\":{\"__ndarray__\":\"zczMzMyMJEDNzMzMzIwkQM3MzMzMzCRA\",\"dtype\":\"float64\",\"order\":\"little\",\"shape\":[3]}},\"selected\":{\"id\":\"7468\"},\"selection_policy\":{\"id\":\"7469\"}},\"id\":\"7430\",\"type\":\"ColumnDataSource\"},{\"attributes\":{\"end\":12.8475,\"reset_end\":12.8475,\"reset_start\":9.3825,\"start\":9.3825,\"tags\":[[[\"Time\",\"Time\",null]]]},\"id\":\"7366\",\"type\":\"Range1d\"},{\"attributes\":{\"x0\":{\"field\":\"x0\"},\"x1\":{\"field\":\"x1\"},\"y0\":{\"field\":\"y0\"},\"y1\":{\"field\":\"y1\"}},\"id\":\"7418\",\"type\":\"Segment\"},{\"attributes\":{\"data_source\":{\"id\":\"7437\"},\"glyph\":{\"id\":\"7439\"},\"hover_glyph\":null,\"muted_glyph\":null,\"nonselection_glyph\":{\"id\":\"7440\"},\"selection_glyph\":{\"id\":\"7443\"},\"view\":{\"id\":\"7442\"}},\"id\":\"7441\",\"type\":\"GlyphRenderer\"},{\"attributes\":{},\"id\":\"7466\",\"type\":\"Selection\"},{\"attributes\":{},\"id\":\"7467\",\"type\":\"UnionRenderers\"},{\"attributes\":{\"line_alpha\":{\"value\":0.1},\"x0\":{\"field\":\"x0\"},\"x1\":{\"field\":\"x1\"},\"y0\":{\"field\":\"y0\"},\"y1\":{\"field\":\"y1\"}},\"id\":\"7419\",\"type\":\"Segment\"},{\"attributes\":{\"axis_label\":\"Time\",\"formatter\":{\"id\":\"7448\"},\"major_label_policy\":{\"id\":\"7449\"},\"ticker\":{\"id\":\"7380\"}},\"id\":\"7379\",\"type\":\"LinearAxis\"},{\"attributes\":{},\"id\":\"7444\",\"type\":\"AllLabels\"},{\"attributes\":{\"data_source\":{\"id\":\"7395\"},\"glyph\":{\"id\":\"7397\"},\"hover_glyph\":null,\"muted_glyph\":null,\"nonselection_glyph\":{\"id\":\"7398\"},\"selection_glyph\":{\"id\":\"7401\"},\"view\":{\"id\":\"7400\"}},\"id\":\"7399\",\"type\":\"GlyphRenderer\"},{\"attributes\":{},\"id\":\"7377\",\"type\":\"CategoricalTicker\"},{\"attributes\":{\"fill_color\":{\"value\":\"black\"},\"x\":{\"field\":\"index\"},\"y\":{\"field\":\"Time\"}},\"id\":\"7397\",\"type\":\"Circle\"},{\"attributes\":{\"line_alpha\":{\"value\":1.0},\"line_cap\":{\"value\":\"butt\"},\"line_color\":{\"value\":\"black\"},\"line_dash\":{\"value\":[]},\"line_dash_offset\":{\"value\":0},\"line_join\":{\"value\":\"bevel\"},\"line_width\":{\"value\":1},\"x0\":{\"field\":\"x0\"},\"x1\":{\"field\":\"x1\"},\"y0\":{\"field\":\"y0\"},\"y1\":{\"field\":\"y1\"}},\"id\":\"7422\",\"type\":\"Segment\"},{\"attributes\":{\"line_alpha\":{\"value\":0.1},\"x0\":{\"field\":\"x0\"},\"x1\":{\"field\":\"x1\"},\"y0\":{\"field\":\"y0\"},\"y1\":{\"field\":\"y1\"}},\"id\":\"7426\",\"type\":\"Segment\"},{\"attributes\":{},\"id\":\"7374\",\"type\":\"LinearScale\"},{\"attributes\":{\"fill_alpha\":{\"value\":0.1},\"fill_color\":{\"value\":\"black\"},\"line_alpha\":{\"value\":0.1},\"x\":{\"field\":\"index\"},\"y\":{\"field\":\"Time\"}},\"id\":\"7398\",\"type\":\"Circle\"},{\"attributes\":{},\"id\":\"7384\",\"type\":\"PanTool\"},{\"attributes\":{\"source\":{\"id\":\"7416\"}},\"id\":\"7421\",\"type\":\"CDSView\"},{\"attributes\":{\"text_color\":\"black\",\"text_font_size\":\"12pt\"},\"id\":\"7368\",\"type\":\"Title\"},{\"attributes\":{},\"id\":\"7468\",\"type\":\"Selection\"},{\"attributes\":{},\"id\":\"7469\",\"type\":\"UnionRenderers\"},{\"attributes\":{\"angle\":{\"value\":0.0},\"fill_alpha\":{\"value\":1.0},\"fill_color\":{\"value\":\"black\"},\"hatch_alpha\":{\"value\":1.0},\"hatch_color\":{\"value\":\"black\"},\"hatch_scale\":{\"value\":12.0},\"hatch_weight\":{\"value\":1.0},\"line_alpha\":{\"value\":1.0},\"line_cap\":{\"value\":\"butt\"},\"line_color\":{\"value\":\"black\"},\"line_dash\":{\"value\":[]},\"line_dash_offset\":{\"value\":0},\"line_join\":{\"value\":\"bevel\"},\"line_width\":{\"value\":1},\"size\":{\"value\":4},\"x\":{\"field\":\"index\"},\"y\":{\"field\":\"Time\"}},\"id\":\"7401\",\"type\":\"Circle\"},{\"attributes\":{\"axis_label\":\"Medal\",\"formatter\":{\"id\":\"7446\"},\"major_label_policy\":{\"id\":\"7444\"},\"ticker\":{\"id\":\"7377\"}},\"id\":\"7376\",\"type\":\"CategoricalAxis\"},{\"attributes\":{\"below\":[{\"id\":\"7376\"}],\"center\":[{\"id\":\"7378\"},{\"id\":\"7382\"}],\"left\":[{\"id\":\"7379\"}],\"margin\":[5,5,5,5],\"min_border_bottom\":10,\"min_border_left\":10,\"min_border_right\":10,\"min_border_top\":10,\"renderers\":[{\"id\":\"7399\"},{\"id\":\"7406\"},{\"id\":\"7413\"},{\"id\":\"7420\"},{\"id\":\"7427\"},{\"id\":\"7434\"},{\"id\":\"7441\"}],\"sizing_mode\":\"fixed\",\"title\":{\"id\":\"7368\"},\"toolbar\":{\"id\":\"7389\"},\"width\":500,\"x_range\":{\"id\":\"7365\"},\"x_scale\":{\"id\":\"7372\"},\"y_range\":{\"id\":\"7366\"},\"y_scale\":{\"id\":\"7374\"}},\"id\":\"7367\",\"subtype\":\"Figure\",\"type\":\"Plot\"},{\"attributes\":{\"source\":{\"id\":\"7395\"}},\"id\":\"7400\",\"type\":\"CDSView\"},{\"attributes\":{\"line_alpha\":{\"value\":1.0},\"line_cap\":{\"value\":\"butt\"},\"line_color\":{\"value\":\"black\"},\"line_dash\":{\"value\":[]},\"line_dash_offset\":{\"value\":0},\"line_join\":{\"value\":\"bevel\"},\"line_width\":{\"value\":1},\"x0\":{\"field\":\"x0\"},\"x1\":{\"field\":\"x1\"},\"y0\":{\"field\":\"y0\"},\"y1\":{\"field\":\"y1\"}},\"id\":\"7408\",\"type\":\"Segment\"},{\"attributes\":{\"axis\":{\"id\":\"7376\"},\"grid_line_color\":null,\"ticker\":null},\"id\":\"7378\",\"type\":\"Grid\"},{\"attributes\":{\"axis\":{\"id\":\"7379\"},\"dimension\":1,\"grid_line_color\":null,\"ticker\":null},\"id\":\"7382\",\"type\":\"Grid\"},{\"attributes\":{\"bottom\":{\"field\":\"bottom\"},\"fill_alpha\":{\"value\":0.1},\"fill_color\":{\"value\":\"#30a2da\"},\"line_alpha\":{\"value\":0.1},\"top\":{\"field\":\"top\"},\"width\":{\"value\":0.7},\"x\":{\"field\":\"index\"}},\"id\":\"7433\",\"type\":\"VBar\"},{\"attributes\":{},\"id\":\"7380\",\"type\":\"BasicTicker\"},{\"attributes\":{\"children\":[{\"id\":\"7364\"},{\"id\":\"7367\"},{\"id\":\"7494\"}],\"margin\":[0,0,0,0],\"name\":\"Row11172\",\"tags\":[\"embedded\"]},\"id\":\"7363\",\"type\":\"Row\"},{\"attributes\":{\"data\":{\"x0\":[\"GOLD\",\"SILVER\",\"BRONZE\"],\"x1\":[\"GOLD\",\"SILVER\",\"BRONZE\"],\"y0\":{\"__ndarray__\":\"w/UoXI9CI0AAAAAAAIAjQBSuR+F6lCNA\",\"dtype\":\"float64\",\"order\":\"little\",\"shape\":[3]},\"y1\":{\"__ndarray__\":\"CtejcD3qI0BSuB6F6xEkQKRwPQrXIyRA\",\"dtype\":\"float64\",\"order\":\"little\",\"shape\":[3]}},\"selected\":{\"id\":\"7462\"},\"selection_policy\":{\"id\":\"7463\"}},\"id\":\"7409\",\"type\":\"ColumnDataSource\"},{\"attributes\":{},\"id\":\"7385\",\"type\":\"WheelZoomTool\"},{\"attributes\":{\"data_source\":{\"id\":\"7430\"},\"glyph\":{\"id\":\"7432\"},\"hover_glyph\":null,\"muted_glyph\":null,\"nonselection_glyph\":{\"id\":\"7433\"},\"selection_glyph\":{\"id\":\"7436\"},\"view\":{\"id\":\"7435\"}},\"id\":\"7434\",\"type\":\"GlyphRenderer\"},{\"attributes\":{},\"id\":\"7470\",\"type\":\"Selection\"},{\"attributes\":{\"data\":{\"Time\":{\"__ndarray__\":\"ZmZmZmZmKEAzMzMzMzMpQDMzMzMzMylA\",\"dtype\":\"float64\",\"order\":\"little\",\"shape\":[3]},\"index\":[\"SILVER\",\"BRONZE\",\"BRONZE\"]},\"selected\":{\"id\":\"7458\"},\"selection_policy\":{\"id\":\"7459\"}},\"id\":\"7395\",\"type\":\"ColumnDataSource\"},{\"attributes\":{},\"id\":\"7383\",\"type\":\"SaveTool\"},{\"attributes\":{},\"id\":\"7471\",\"type\":\"UnionRenderers\"},{\"attributes\":{\"margin\":[5,5,5,5],\"name\":\"HSpacer11177\",\"sizing_mode\":\"stretch_width\"},\"id\":\"7494\",\"type\":\"Spacer\"},{\"attributes\":{\"overlay\":{\"id\":\"7388\"}},\"id\":\"7386\",\"type\":\"BoxZoomTool\"},{\"attributes\":{\"data\":{\"x0\":[[\"GOLD\",-0.2],[\"SILVER\",-0.2],[\"BRONZE\",-0.2]],\"x1\":[[\"GOLD\",0.2],[\"SILVER\",0.2],[\"BRONZE\",0.2]],\"y0\":[9.63,9.75,9.79],\"y1\":[9.63,9.75,9.79]},\"selected\":{\"id\":\"7464\"},\"selection_policy\":{\"id\":\"7465\"}},\"id\":\"7416\",\"type\":\"ColumnDataSource\"},{\"attributes\":{},\"id\":\"7446\",\"type\":\"CategoricalTickFormatter\"},{\"attributes\":{},\"id\":\"7387\",\"type\":\"ResetTool\"},{\"attributes\":{\"source\":{\"id\":\"7423\"}},\"id\":\"7428\",\"type\":\"CDSView\"},{\"attributes\":{\"bottom\":{\"field\":\"bottom\"},\"fill_color\":{\"value\":\"#30a2da\"},\"top\":{\"field\":\"top\"},\"width\":{\"value\":0.7},\"x\":{\"field\":\"index\"}},\"id\":\"7432\",\"type\":\"VBar\"},{\"attributes\":{\"line_alpha\":{\"value\":1.0},\"line_cap\":{\"value\":\"butt\"},\"line_color\":{\"value\":\"black\"},\"line_dash\":{\"value\":[]},\"line_dash_offset\":{\"value\":0},\"line_join\":{\"value\":\"bevel\"},\"line_width\":{\"value\":1},\"x0\":{\"field\":\"x0\"},\"x1\":{\"field\":\"x1\"},\"y0\":{\"field\":\"y0\"},\"y1\":{\"field\":\"y1\"}},\"id\":\"7415\",\"type\":\"Segment\"},{\"attributes\":{},\"id\":\"7458\",\"type\":\"Selection\"},{\"attributes\":{\"data_source\":{\"id\":\"7416\"},\"glyph\":{\"id\":\"7418\"},\"hover_glyph\":null,\"muted_glyph\":null,\"nonselection_glyph\":{\"id\":\"7419\"},\"selection_glyph\":{\"id\":\"7422\"},\"view\":{\"id\":\"7421\"}},\"id\":\"7420\",\"type\":\"GlyphRenderer\"},{\"attributes\":{},\"id\":\"7459\",\"type\":\"UnionRenderers\"},{\"attributes\":{\"bottom\":{\"field\":\"bottom\"},\"fill_alpha\":{\"value\":1.0},\"fill_color\":{\"value\":\"#30a2da\"},\"hatch_alpha\":{\"value\":1.0},\"hatch_color\":{\"value\":\"black\"},\"hatch_scale\":{\"value\":12.0},\"hatch_weight\":{\"value\":1.0},\"line_alpha\":{\"value\":1.0},\"line_cap\":{\"value\":\"butt\"},\"line_color\":{\"value\":\"black\"},\"line_dash\":{\"value\":[]},\"line_dash_offset\":{\"value\":0},\"line_join\":{\"value\":\"bevel\"},\"line_width\":{\"value\":1},\"top\":{\"field\":\"top\"},\"width\":{\"value\":0.7},\"x\":{\"field\":\"index\"}},\"id\":\"7443\",\"type\":\"VBar\"},{\"attributes\":{\"source\":{\"id\":\"7437\"}},\"id\":\"7442\",\"type\":\"CDSView\"},{\"attributes\":{\"data\":{\"bottom\":{\"__ndarray__\":\"zczMzMyMJEDNzMzMzIwkQM3MzMzMzCRA\",\"dtype\":\"float64\",\"order\":\"little\",\"shape\":[3]},\"index\":[\"GOLD\",\"SILVER\",\"BRONZE\"],\"top\":{\"__ndarray__\":\"CtejcD3qI0BSuB6F6xEkQKRwPQrXIyRA\",\"dtype\":\"float64\",\"order\":\"little\",\"shape\":[3]}},\"selected\":{\"id\":\"7470\"},\"selection_policy\":{\"id\":\"7471\"}},\"id\":\"7437\",\"type\":\"ColumnDataSource\"},{\"attributes\":{\"margin\":[5,5,5,5],\"name\":\"HSpacer11176\",\"sizing_mode\":\"stretch_width\"},\"id\":\"7364\",\"type\":\"Spacer\"},{\"attributes\":{\"line_alpha\":{\"value\":1.0},\"line_cap\":{\"value\":\"butt\"},\"line_color\":{\"value\":\"black\"},\"line_dash\":{\"value\":[]},\"line_dash_offset\":{\"value\":0},\"line_join\":{\"value\":\"bevel\"},\"line_width\":{\"value\":1},\"x0\":{\"field\":\"x0\"},\"x1\":{\"field\":\"x1\"},\"y0\":{\"field\":\"y0\"},\"y1\":{\"field\":\"y1\"}},\"id\":\"7429\",\"type\":\"Segment\"},{\"attributes\":{\"bottom_units\":\"screen\",\"fill_alpha\":0.5,\"fill_color\":\"lightgrey\",\"left_units\":\"screen\",\"level\":\"overlay\",\"line_alpha\":1.0,\"line_color\":\"black\",\"line_dash\":[4,4],\"line_width\":2,\"right_units\":\"screen\",\"syncable\":false,\"top_units\":\"screen\"},\"id\":\"7388\",\"type\":\"BoxAnnotation\"},{\"attributes\":{\"data_source\":{\"id\":\"7423\"},\"glyph\":{\"id\":\"7425\"},\"hover_glyph\":null,\"muted_glyph\":null,\"nonselection_glyph\":{\"id\":\"7426\"},\"selection_glyph\":{\"id\":\"7429\"},\"view\":{\"id\":\"7428\"}},\"id\":\"7427\",\"type\":\"GlyphRenderer\"},{\"attributes\":{\"bottom\":{\"field\":\"bottom\"},\"fill_alpha\":{\"value\":0.1},\"fill_color\":{\"value\":\"#30a2da\"},\"line_alpha\":{\"value\":0.1},\"top\":{\"field\":\"top\"},\"width\":{\"value\":0.7},\"x\":{\"field\":\"index\"}},\"id\":\"7440\",\"type\":\"VBar\"},{\"attributes\":{},\"id\":\"7460\",\"type\":\"Selection\"},{\"attributes\":{},\"id\":\"7461\",\"type\":\"UnionRenderers\"},{\"attributes\":{\"x0\":{\"field\":\"x0\"},\"x1\":{\"field\":\"x1\"},\"y0\":{\"field\":\"y0\"},\"y1\":{\"field\":\"y1\"}},\"id\":\"7425\",\"type\":\"Segment\"},{\"attributes\":{\"line_alpha\":{\"value\":0.1},\"x0\":{\"field\":\"x0\"},\"x1\":{\"field\":\"x1\"},\"y0\":{\"field\":\"y0\"},\"y1\":{\"field\":\"y1\"}},\"id\":\"7412\",\"type\":\"Segment\"},{\"attributes\":{\"source\":{\"id\":\"7402\"}},\"id\":\"7407\",\"type\":\"CDSView\"},{\"attributes\":{\"line_alpha\":{\"value\":0.1},\"x0\":{\"field\":\"x0\"},\"x1\":{\"field\":\"x1\"},\"y0\":{\"field\":\"y0\"},\"y1\":{\"field\":\"y1\"}},\"id\":\"7405\",\"type\":\"Segment\"},{\"attributes\":{\"x0\":{\"field\":\"x0\"},\"x1\":{\"field\":\"x1\"},\"y0\":{\"field\":\"y0\"},\"y1\":{\"field\":\"y1\"}},\"id\":\"7404\",\"type\":\"Segment\"},{\"attributes\":{\"data_source\":{\"id\":\"7402\"},\"glyph\":{\"id\":\"7404\"},\"hover_glyph\":null,\"muted_glyph\":null,\"nonselection_glyph\":{\"id\":\"7405\"},\"selection_glyph\":{\"id\":\"7408\"},\"view\":{\"id\":\"7407\"}},\"id\":\"7406\",\"type\":\"GlyphRenderer\"},{\"attributes\":{\"data\":{\"x0\":[[\"GOLD\",-0.2],[\"SILVER\",-0.2],[\"BRONZE\",-0.2]],\"x1\":[[\"GOLD\",0.2],[\"SILVER\",0.2],[\"BRONZE\",0.2]],\"y0\":[12.0,11.3,11.3],\"y1\":[12.0,11.3,11.3]},\"selected\":{\"id\":\"7466\"},\"selection_policy\":{\"id\":\"7467\"}},\"id\":\"7423\",\"type\":\"ColumnDataSource\"}],\"root_ids\":[\"7363\"]},\"title\":\"Bokeh Application\",\"version\":\"2.3.0\"}};\n",
       "    var render_items = [{\"docid\":\"b17869a3-d462-49d0-9565-9593dc936a50\",\"root_ids\":[\"7363\"],\"roots\":{\"7363\":\"1362e3da-92cd-4037-a9dd-07ee5ff19d64\"}}];\n",
       "    root.Bokeh.embed.embed_items_notebook(docs_json, render_items);\n",
       "  }\n",
       "  if (root.Bokeh !== undefined && root.Bokeh.Panel !== undefined) {\n",
       "    embed_document(root);\n",
       "  } else {\n",
       "    var attempts = 0;\n",
       "    var timer = setInterval(function(root) {\n",
       "      if (root.Bokeh !== undefined && root.Bokeh.Panel !== undefined) {\n",
       "        clearInterval(timer);\n",
       "        embed_document(root);\n",
       "      } else if (document.readyState == \"complete\") {\n",
       "        attempts++;\n",
       "        if (attempts > 100) {\n",
       "          clearInterval(timer);\n",
       "          console.log(\"Bokeh: ERROR: Unable to run BokehJS code because BokehJS library is missing\");\n",
       "        }\n",
       "      }\n",
       "    }, 10, root)\n",
       "  }\n",
       "})(window);</script>"
      ],
      "text/plain": [
       ":BoxWhisker   [Medal]   (Time)"
      ]
     },
     "execution_count": 27,
     "metadata": {
      "application/vnd.holoviews_exec.v0+json": {
       "id": "7363"
      }
     },
     "output_type": "execute_result"
    }
   ],
   "source": [
    "# hide\n",
    "# https://hvplot.holoviz.org/user_guide/Viewing.html\n",
    "boxplot = df.hvplot.box(y='Time', by='Medal', height=600, width=500, legend=False)\n",
    "boxplot"
   ]
  },
  {
   "cell_type": "code",
   "execution_count": 28,
   "metadata": {},
   "outputs": [],
   "source": [
    "hvplot.save(boxplot, '../_includes/test.html')"
   ]
  },
  {
   "cell_type": "markdown",
   "metadata": {},
   "source": [
    "{% include test.html %}"
   ]
  },
  {
   "cell_type": "markdown",
   "metadata": {},
   "source": [
    "### Hover hvplot"
   ]
  },
  {
   "cell_type": "code",
   "execution_count": 29,
   "metadata": {},
   "outputs": [
    {
     "data": {},
     "metadata": {},
     "output_type": "display_data"
    },
    {
     "data": {
      "application/vnd.holoviews_exec.v0+json": "",
      "text/html": [
       "<div id='8334'>\n",
       "\n",
       "\n",
       "\n",
       "\n",
       "\n",
       "  <div class=\"bk-root\" id=\"97971060-446f-4bfc-8c87-0c900543efd8\" data-root-id=\"8334\"></div>\n",
       "</div>\n",
       "<script type=\"application/javascript\">(function(root) {\n",
       "  function embed_document(root) {\n",
       "    var docs_json = {\"466b0904-6407-4cdc-a25e-cadce637971f\":{\"defs\":[{\"extends\":null,\"module\":null,\"name\":\"DataModel\",\"overrides\":[],\"properties\":[]}],\"roots\":{\"references\":[{\"attributes\":{},\"id\":\"8356\",\"type\":\"PanTool\"},{\"attributes\":{\"source\":{\"id\":\"8409\"}},\"id\":\"8414\",\"type\":\"CDSView\"},{\"attributes\":{},\"id\":\"8451\",\"type\":\"Selection\"},{\"attributes\":{\"data\":{\"x0\":[[\"GOLD\",-0.2],[\"SILVER\",-0.2],[\"BRONZE\",-0.2]],\"x1\":[[\"GOLD\",0.2],[\"SILVER\",0.2],[\"BRONZE\",0.2]],\"y0\":[12.0,11.3,11.3],\"y1\":[12.0,11.3,11.3]},\"selected\":{\"id\":\"8449\"},\"selection_policy\":{\"id\":\"8450\"}},\"id\":\"8402\",\"type\":\"ColumnDataSource\"},{\"attributes\":{\"axis\":{\"id\":\"8351\"},\"dimension\":1,\"grid_line_color\":null,\"ticker\":null},\"id\":\"8354\",\"type\":\"Grid\"},{\"attributes\":{},\"id\":\"8452\",\"type\":\"UnionRenderers\"},{\"attributes\":{\"data\":{\"bottom\":{\"__ndarray__\":\"mpmZmZmZJUDNzMzMzMwlQM3MzMzMzCVA\",\"dtype\":\"float64\",\"order\":\"little\",\"shape\":[3]},\"index\":[\"GOLD\",\"SILVER\",\"BRONZE\"],\"top\":{\"__ndarray__\":\"zczMzMyMJEDNzMzMzIwkQM3MzMzMzCRA\",\"dtype\":\"float64\",\"order\":\"little\",\"shape\":[3]}},\"selected\":{\"id\":\"8451\"},\"selection_policy\":{\"id\":\"8452\"}},\"id\":\"8409\",\"type\":\"ColumnDataSource\"},{\"attributes\":{},\"id\":\"8357\",\"type\":\"WheelZoomTool\"},{\"attributes\":{\"angle\":{\"value\":0.0},\"fill_alpha\":{\"value\":1.0},\"fill_color\":{\"value\":\"orange\"},\"hatch_alpha\":{\"value\":1.0},\"hatch_color\":{\"value\":\"black\"},\"hatch_scale\":{\"value\":12.0},\"hatch_weight\":{\"value\":1.0},\"line_alpha\":{\"value\":1.0},\"line_cap\":{\"value\":\"butt\"},\"line_color\":{\"value\":\"orange\"},\"line_dash\":{\"value\":[]},\"line_dash_offset\":{\"value\":0},\"line_join\":{\"value\":\"bevel\"},\"line_width\":{\"value\":1},\"marker\":{\"value\":\"circle\"},\"size\":{\"value\":5.477225575051661},\"x\":{\"field\":\"Medal\",\"transform\":{\"id\":\"8423\"}},\"y\":{\"field\":\"Time\"}},\"id\":\"8432\",\"type\":\"Scatter\"},{\"attributes\":{\"source\":{\"id\":\"8395\"}},\"id\":\"8400\",\"type\":\"CDSView\"},{\"attributes\":{},\"id\":\"8355\",\"type\":\"SaveTool\"},{\"attributes\":{\"bottom\":{\"field\":\"bottom\"},\"fill_alpha\":{\"value\":1.0},\"fill_color\":{\"value\":\"#30a2da\"},\"hatch_alpha\":{\"value\":1.0},\"hatch_color\":{\"value\":\"black\"},\"hatch_scale\":{\"value\":12.0},\"hatch_weight\":{\"value\":1.0},\"line_alpha\":{\"value\":1.0},\"line_cap\":{\"value\":\"butt\"},\"line_color\":{\"value\":\"black\"},\"line_dash\":{\"value\":[]},\"line_dash_offset\":{\"value\":0},\"line_join\":{\"value\":\"bevel\"},\"line_width\":{\"value\":1},\"top\":{\"field\":\"top\"},\"width\":{\"value\":0.7},\"x\":{\"field\":\"index\"}},\"id\":\"8415\",\"type\":\"VBar\"},{\"attributes\":{\"overlay\":{\"id\":\"8360\"}},\"id\":\"8358\",\"type\":\"BoxZoomTool\"},{\"attributes\":{\"margin\":[5,5,5,5],\"name\":\"HSpacer12087\",\"sizing_mode\":\"stretch_width\"},\"id\":\"8649\",\"type\":\"Spacer\"},{\"attributes\":{\"x0\":{\"field\":\"x0\"},\"x1\":{\"field\":\"x1\"},\"y0\":{\"field\":\"y0\"},\"y1\":{\"field\":\"y1\"}},\"id\":\"8397\",\"type\":\"Segment\"},{\"attributes\":{},\"id\":\"8359\",\"type\":\"ResetTool\"},{\"attributes\":{\"bottom\":{\"field\":\"bottom\"},\"fill_color\":{\"value\":\"#30a2da\"},\"top\":{\"field\":\"top\"},\"width\":{\"value\":0.7},\"x\":{\"field\":\"index\"}},\"id\":\"8411\",\"type\":\"VBar\"},{\"attributes\":{\"fill_alpha\":{\"value\":0.1},\"fill_color\":{\"value\":\"black\"},\"line_alpha\":{\"value\":0.1},\"x\":{\"field\":\"index\"},\"y\":{\"field\":\"Time\"}},\"id\":\"8377\",\"type\":\"Circle\"},{\"attributes\":{\"source\":{\"id\":\"8402\"}},\"id\":\"8407\",\"type\":\"CDSView\"},{\"attributes\":{\"data\":{\"x0\":[[\"GOLD\",-0.2],[\"SILVER\",-0.2],[\"BRONZE\",-0.2]],\"x1\":[[\"GOLD\",0.2],[\"SILVER\",0.2],[\"BRONZE\",0.2]],\"y0\":[9.63,9.75,9.79],\"y1\":[9.63,9.75,9.79]},\"selected\":{\"id\":\"8447\"},\"selection_policy\":{\"id\":\"8448\"}},\"id\":\"8395\",\"type\":\"ColumnDataSource\"},{\"attributes\":{\"axis_label\":\"Medal\",\"formatter\":{\"id\":\"8370\"},\"major_label_policy\":{\"id\":\"8368\"},\"ticker\":{\"id\":\"8349\"}},\"id\":\"8348\",\"type\":\"CategoricalAxis\"},{\"attributes\":{\"fill_color\":{\"value\":\"orange\"},\"line_color\":{\"value\":\"orange\"},\"size\":{\"value\":5.477225575051661},\"x\":{\"field\":\"Medal\",\"transform\":{\"id\":\"8423\"}},\"y\":{\"field\":\"Time\"}},\"id\":\"8427\",\"type\":\"Scatter\"},{\"attributes\":{\"data\":{\"bottom\":{\"__ndarray__\":\"zczMzMyMJEDNzMzMzIwkQM3MzMzMzCRA\",\"dtype\":\"float64\",\"order\":\"little\",\"shape\":[3]},\"index\":[\"GOLD\",\"SILVER\",\"BRONZE\"],\"top\":{\"__ndarray__\":\"CtejcD3qI0BSuB6F6xEkQKRwPQrXIyRA\",\"dtype\":\"float64\",\"order\":\"little\",\"shape\":[3]}},\"selected\":{\"id\":\"8453\"},\"selection_policy\":{\"id\":\"8454\"}},\"id\":\"8416\",\"type\":\"ColumnDataSource\"},{\"attributes\":{},\"id\":\"8453\",\"type\":\"Selection\"},{\"attributes\":{\"line_alpha\":{\"value\":1.0},\"line_cap\":{\"value\":\"butt\"},\"line_color\":{\"value\":\"black\"},\"line_dash\":{\"value\":[]},\"line_dash_offset\":{\"value\":0},\"line_join\":{\"value\":\"bevel\"},\"line_width\":{\"value\":1},\"x0\":{\"field\":\"x0\"},\"x1\":{\"field\":\"x1\"},\"y0\":{\"field\":\"y0\"},\"y1\":{\"field\":\"y1\"}},\"id\":\"8387\",\"type\":\"Segment\"},{\"attributes\":{\"data_source\":{\"id\":\"8374\"},\"glyph\":{\"id\":\"8376\"},\"hover_glyph\":null,\"muted_glyph\":null,\"nonselection_glyph\":{\"id\":\"8377\"},\"selection_glyph\":{\"id\":\"8380\"},\"view\":{\"id\":\"8379\"}},\"id\":\"8378\",\"type\":\"GlyphRenderer\"},{\"attributes\":{\"data\":{\"Time\":{\"__ndarray__\":\"ZmZmZmZmKEAzMzMzMzMpQDMzMzMzMylA\",\"dtype\":\"float64\",\"order\":\"little\",\"shape\":[3]},\"index\":[\"SILVER\",\"BRONZE\",\"BRONZE\"]},\"selected\":{\"id\":\"8441\"},\"selection_policy\":{\"id\":\"8442\"}},\"id\":\"8374\",\"type\":\"ColumnDataSource\"},{\"attributes\":{\"data_source\":{\"id\":\"8381\"},\"glyph\":{\"id\":\"8383\"},\"hover_glyph\":null,\"muted_glyph\":null,\"nonselection_glyph\":{\"id\":\"8384\"},\"selection_glyph\":{\"id\":\"8387\"},\"view\":{\"id\":\"8386\"}},\"id\":\"8385\",\"type\":\"GlyphRenderer\"},{\"attributes\":{\"source\":{\"id\":\"8416\"}},\"id\":\"8421\",\"type\":\"CDSView\"},{\"attributes\":{\"data_source\":{\"id\":\"8424\"},\"glyph\":{\"id\":\"8427\"},\"hover_glyph\":null,\"muted_glyph\":{\"id\":\"8429\"},\"nonselection_glyph\":{\"id\":\"8428\"},\"selection_glyph\":{\"id\":\"8432\"},\"view\":{\"id\":\"8431\"}},\"id\":\"8430\",\"type\":\"GlyphRenderer\"},{\"attributes\":{\"data\":{\"x0\":[\"GOLD\",\"SILVER\",\"BRONZE\"],\"x1\":[\"GOLD\",\"SILVER\",\"BRONZE\"],\"y0\":{\"__ndarray__\":\"AAAAAAAAKECamZmZmZkmQJqZmZmZmSZA\",\"dtype\":\"float64\",\"order\":\"little\",\"shape\":[3]},\"y1\":{\"__ndarray__\":\"mpmZmZmZJUDNzMzMzMwlQM3MzMzMzCVA\",\"dtype\":\"float64\",\"order\":\"little\",\"shape\":[3]}},\"selected\":{\"id\":\"8443\"},\"selection_policy\":{\"id\":\"8444\"}},\"id\":\"8381\",\"type\":\"ColumnDataSource\"},{\"attributes\":{},\"id\":\"8454\",\"type\":\"UnionRenderers\"},{\"attributes\":{\"source\":{\"id\":\"8388\"}},\"id\":\"8393\",\"type\":\"CDSView\"},{\"attributes\":{\"bottom_units\":\"screen\",\"fill_alpha\":0.5,\"fill_color\":\"lightgrey\",\"left_units\":\"screen\",\"level\":\"overlay\",\"line_alpha\":1.0,\"line_color\":\"black\",\"line_dash\":[4,4],\"line_width\":2,\"right_units\":\"screen\",\"syncable\":false,\"top_units\":\"screen\"},\"id\":\"8360\",\"type\":\"BoxAnnotation\"},{\"attributes\":{\"fill_alpha\":{\"value\":0.2},\"fill_color\":{\"value\":\"orange\"},\"line_alpha\":{\"value\":0.2},\"line_color\":{\"value\":\"orange\"},\"size\":{\"value\":5.477225575051661},\"x\":{\"field\":\"Medal\",\"transform\":{\"id\":\"8423\"}},\"y\":{\"field\":\"Time\"}},\"id\":\"8429\",\"type\":\"Scatter\"},{\"attributes\":{},\"id\":\"8441\",\"type\":\"Selection\"},{\"attributes\":{},\"id\":\"8456\",\"type\":\"UnionRenderers\"},{\"attributes\":{\"source\":{\"id\":\"8424\"}},\"id\":\"8431\",\"type\":\"CDSView\"},{\"attributes\":{},\"id\":\"8442\",\"type\":\"UnionRenderers\"},{\"attributes\":{\"data_source\":{\"id\":\"8409\"},\"glyph\":{\"id\":\"8411\"},\"hover_glyph\":null,\"muted_glyph\":null,\"nonselection_glyph\":{\"id\":\"8412\"},\"selection_glyph\":{\"id\":\"8415\"},\"view\":{\"id\":\"8414\"}},\"id\":\"8413\",\"type\":\"GlyphRenderer\"},{\"attributes\":{\"bottom\":{\"field\":\"bottom\"},\"fill_alpha\":{\"value\":1.0},\"fill_color\":{\"value\":\"#30a2da\"},\"hatch_alpha\":{\"value\":1.0},\"hatch_color\":{\"value\":\"black\"},\"hatch_scale\":{\"value\":12.0},\"hatch_weight\":{\"value\":1.0},\"line_alpha\":{\"value\":1.0},\"line_cap\":{\"value\":\"butt\"},\"line_color\":{\"value\":\"black\"},\"line_dash\":{\"value\":[]},\"line_dash_offset\":{\"value\":0},\"line_join\":{\"value\":\"bevel\"},\"line_width\":{\"value\":1},\"top\":{\"field\":\"top\"},\"width\":{\"value\":0.7},\"x\":{\"field\":\"index\"}},\"id\":\"8422\",\"type\":\"VBar\"},{\"attributes\":{\"fill_alpha\":{\"value\":0.1},\"fill_color\":{\"value\":\"orange\"},\"line_alpha\":{\"value\":0.1},\"line_color\":{\"value\":\"orange\"},\"size\":{\"value\":5.477225575051661},\"x\":{\"field\":\"Medal\",\"transform\":{\"id\":\"8423\"}},\"y\":{\"field\":\"Time\"}},\"id\":\"8428\",\"type\":\"Scatter\"},{\"attributes\":{\"line_alpha\":{\"value\":1.0},\"line_cap\":{\"value\":\"butt\"},\"line_color\":{\"value\":\"black\"},\"line_dash\":{\"value\":[]},\"line_dash_offset\":{\"value\":0},\"line_join\":{\"value\":\"bevel\"},\"line_width\":{\"value\":1},\"x0\":{\"field\":\"x0\"},\"x1\":{\"field\":\"x1\"},\"y0\":{\"field\":\"y0\"},\"y1\":{\"field\":\"y1\"}},\"id\":\"8401\",\"type\":\"Segment\"},{\"attributes\":{\"data\":{\"Medal\":[\"GOLD\",\"SILVER\",\"BRONZE\",\"GOLD\",\"SILVER\",\"BRONZE\",\"GOLD\",\"SILVER\",\"BRONZE\",\"GOLD\",\"SILVER\",\"BRONZE\",\"GOLD\",\"SILVER\",\"BRONZE\",\"GOLD\",\"SILVER\",\"BRONZE\",\"GOLD\",\"SILVER\",\"BRONZE\",\"GOLD\",\"SILVER\",\"BRONZE\",\"GOLD\",\"SILVER\",\"BRONZE\",\"GOLD\",\"SILVER\",\"BRONZE\",\"GOLD\",\"SILVER\",\"BRONZE\",\"GOLD\",\"SILVER\",\"BRONZE\",\"GOLD\",\"SILVER\",\"BRONZE\",\"GOLD\",\"SILVER\",\"BRONZE\",\"GOLD\",\"SILVER\",\"BRONZE\",\"GOLD\",\"SILVER\",\"BRONZE\",\"GOLD\",\"SILVER\",\"BRONZE\",\"GOLD\",\"SILVER\",\"BRONZE\",\"GOLD\",\"SILVER\",\"BRONZE\",\"GOLD\",\"SILVER\",\"BRONZE\",\"GOLD\",\"SILVER\",\"BRONZE\",\"GOLD\",\"SILVER\",\"BRONZE\",\"GOLD\",\"SILVER\",\"BRONZE\",\"GOLD\",\"SILVER\",\"BRONZE\",\"GOLD\",\"SILVER\",\"BRONZE\",\"GOLD\",\"SILVER\",\"BRONZE\",\"GOLD\",\"SILVER\",\"BRONZE\",\"GOLD\",\"SILVER\",\"BRONZE\",\"BRONZE\"],\"Time\":{\"__ndarray__\":\"w/UoXI9CI0AAAAAAAIAjQBSuR+F6lCNA4XoUrkdhI0BI4XoUrscjQFK4HoXr0SNAMzMzMzOzI0C4HoXrUbgjQD0K16NwvSNAPQrXo3C9I0B7FK5H4fojQBSuR+F6FCRArkfhehSuI0BI4XoUrscjQM3MzMzMzCNA7FG4HoXrI0AK16NwPQokQBSuR+F6FCRA16NwPQrXI0BxPQrXo/AjQHsUrkfh+iNAexSuR+H6I0DhehSuR2EkQHE9CtejcCRAAAAAAACAJEAAAAAAAIAkQEjhehSuxyRAH4XrUbgeJEApXI/C9SgkQEjhehSuRyRASOF6FK5HJEB7FK5H4XokQClcj8L1qCRAZmZmZmbmI0AUrkfhehQkQKRwPQrXIyRAAAAAAAAAJEBmZmZmZmYkQGZmZmZmZiRAZmZmZmZmJEBmZmZmZmYkQJqZmZmZmSRAAAAAAAAAJUAAAAAAAAAlQDMzMzMzMyVAzczMzMzMJEDNzMzMzMwkQM3MzMzMzCRAmpmZmZmZJEDNzMzMzMwkQM3MzMzMzCRAmpmZmZmZJEDNzMzMzMwkQAAAAAAAACVAmpmZmZmZJECamZmZmZkkQM3MzMzMzCRAmpmZmZmZJUDNzMzMzMwlQM3MzMzMzCVAMzMzMzMzJUCamZmZmZklQM3MzMzMzCVAmpmZmZmZJUDNzMzMzMwlQM3MzMzMzCVAmpmZmZmZJUDNzMzMzMwlQM3MzMzMzCVAmpmZmZmZJUAAAAAAAAAmQAAAAAAAACZAZmZmZmZmJkCamZmZmZkmQJqZmZmZmSZAAAAAAAAAJkBmZmZmZmYmQGZmZmZmZiZAAAAAAAAAJkAzMzMzMzMmQGZmZmZmZiZAAAAAAAAAKEBmZmZmZmYoQDMzMzMzMylAMzMzMzMzKUA=\",\"dtype\":\"float64\",\"order\":\"little\",\"shape\":[85]}},\"selected\":{\"id\":\"8425\"},\"selection_policy\":{\"id\":\"8456\"}},\"id\":\"8424\",\"type\":\"ColumnDataSource\"},{\"attributes\":{\"bottom\":{\"field\":\"bottom\"},\"fill_alpha\":{\"value\":0.1},\"fill_color\":{\"value\":\"#30a2da\"},\"line_alpha\":{\"value\":0.1},\"top\":{\"field\":\"top\"},\"width\":{\"value\":0.7},\"x\":{\"field\":\"index\"}},\"id\":\"8419\",\"type\":\"VBar\"},{\"attributes\":{\"source\":{\"id\":\"8381\"}},\"id\":\"8386\",\"type\":\"CDSView\"},{\"attributes\":{},\"id\":\"8344\",\"type\":\"CategoricalScale\"},{\"attributes\":{},\"id\":\"8443\",\"type\":\"Selection\"},{\"attributes\":{},\"id\":\"8444\",\"type\":\"UnionRenderers\"},{\"attributes\":{},\"id\":\"8425\",\"type\":\"Selection\"},{\"attributes\":{\"data_source\":{\"id\":\"8402\"},\"glyph\":{\"id\":\"8404\"},\"hover_glyph\":null,\"muted_glyph\":null,\"nonselection_glyph\":{\"id\":\"8405\"},\"selection_glyph\":{\"id\":\"8408\"},\"view\":{\"id\":\"8407\"}},\"id\":\"8406\",\"type\":\"GlyphRenderer\"},{\"attributes\":{\"line_alpha\":{\"value\":1.0},\"line_cap\":{\"value\":\"butt\"},\"line_color\":{\"value\":\"black\"},\"line_dash\":{\"value\":[]},\"line_dash_offset\":{\"value\":0},\"line_join\":{\"value\":\"bevel\"},\"line_width\":{\"value\":1},\"x0\":{\"field\":\"x0\"},\"x1\":{\"field\":\"x1\"},\"y0\":{\"field\":\"y0\"},\"y1\":{\"field\":\"y1\"}},\"id\":\"8394\",\"type\":\"Segment\"},{\"attributes\":{\"data\":{\"x0\":[\"GOLD\",\"SILVER\",\"BRONZE\"],\"x1\":[\"GOLD\",\"SILVER\",\"BRONZE\"],\"y0\":{\"__ndarray__\":\"w/UoXI9CI0AAAAAAAIAjQBSuR+F6lCNA\",\"dtype\":\"float64\",\"order\":\"little\",\"shape\":[3]},\"y1\":{\"__ndarray__\":\"CtejcD3qI0BSuB6F6xEkQKRwPQrXIyRA\",\"dtype\":\"float64\",\"order\":\"little\",\"shape\":[3]}},\"selected\":{\"id\":\"8445\"},\"selection_policy\":{\"id\":\"8446\"}},\"id\":\"8388\",\"type\":\"ColumnDataSource\"},{\"attributes\":{\"margin\":[5,5,5,5],\"name\":\"HSpacer12086\",\"sizing_mode\":\"stretch_width\"},\"id\":\"8335\",\"type\":\"Spacer\"},{\"attributes\":{\"active_multi\":null,\"tools\":[{\"id\":\"8338\"},{\"id\":\"8355\"},{\"id\":\"8356\"},{\"id\":\"8357\"},{\"id\":\"8358\"},{\"id\":\"8359\"}]},\"id\":\"8361\",\"type\":\"Toolbar\"},{\"attributes\":{\"line_alpha\":{\"value\":0.1},\"x0\":{\"field\":\"x0\"},\"x1\":{\"field\":\"x1\"},\"y0\":{\"field\":\"y0\"},\"y1\":{\"field\":\"y1\"}},\"id\":\"8384\",\"type\":\"Segment\"},{\"attributes\":{},\"id\":\"8445\",\"type\":\"Selection\"},{\"attributes\":{\"x0\":{\"field\":\"x0\"},\"x1\":{\"field\":\"x1\"},\"y0\":{\"field\":\"y0\"},\"y1\":{\"field\":\"y1\"}},\"id\":\"8383\",\"type\":\"Segment\"},{\"attributes\":{},\"id\":\"8446\",\"type\":\"UnionRenderers\"},{\"attributes\":{\"children\":[{\"id\":\"8335\"},{\"id\":\"8339\"},{\"id\":\"8649\"}],\"margin\":[0,0,0,0],\"name\":\"Row12082\",\"tags\":[\"embedded\"]},\"id\":\"8334\",\"type\":\"Row\"},{\"attributes\":{\"data_source\":{\"id\":\"8395\"},\"glyph\":{\"id\":\"8397\"},\"hover_glyph\":null,\"muted_glyph\":null,\"nonselection_glyph\":{\"id\":\"8398\"},\"selection_glyph\":{\"id\":\"8401\"},\"view\":{\"id\":\"8400\"}},\"id\":\"8399\",\"type\":\"GlyphRenderer\"},{\"attributes\":{},\"id\":\"8370\",\"type\":\"CategoricalTickFormatter\"},{\"attributes\":{},\"id\":\"8368\",\"type\":\"AllLabels\"},{\"attributes\":{\"end\":12.8475,\"reset_end\":12.8475,\"reset_start\":9.3825,\"start\":9.3825,\"tags\":[[[\"Time\",\"Time\",null]]]},\"id\":\"8337\",\"type\":\"Range1d\"},{\"attributes\":{\"source\":{\"id\":\"8374\"}},\"id\":\"8379\",\"type\":\"CDSView\"},{\"attributes\":{\"callback\":null,\"renderers\":[{\"id\":\"8430\"}],\"tags\":[\"hv_created\"],\"tooltips\":[[\"Medal\",\"@{Medal}\"],[\"Time\",\"@{Time}\"]]},\"id\":\"8338\",\"type\":\"HoverTool\"},{\"attributes\":{\"line_alpha\":{\"value\":0.1},\"x0\":{\"field\":\"x0\"},\"x1\":{\"field\":\"x1\"},\"y0\":{\"field\":\"y0\"},\"y1\":{\"field\":\"y1\"}},\"id\":\"8398\",\"type\":\"Segment\"},{\"attributes\":{\"data_source\":{\"id\":\"8416\"},\"glyph\":{\"id\":\"8418\"},\"hover_glyph\":null,\"muted_glyph\":null,\"nonselection_glyph\":{\"id\":\"8419\"},\"selection_glyph\":{\"id\":\"8422\"},\"view\":{\"id\":\"8421\"}},\"id\":\"8420\",\"type\":\"GlyphRenderer\"},{\"attributes\":{},\"id\":\"8447\",\"type\":\"Selection\"},{\"attributes\":{},\"id\":\"8448\",\"type\":\"UnionRenderers\"},{\"attributes\":{\"text_color\":\"black\",\"text_font_size\":\"12pt\"},\"id\":\"8340\",\"type\":\"Title\"},{\"attributes\":{\"bottom\":{\"field\":\"bottom\"},\"fill_color\":{\"value\":\"#30a2da\"},\"top\":{\"field\":\"top\"},\"width\":{\"value\":0.7},\"x\":{\"field\":\"index\"}},\"id\":\"8418\",\"type\":\"VBar\"},{\"attributes\":{\"range\":{\"id\":\"8336\"},\"width\":0.5},\"id\":\"8423\",\"type\":\"Jitter\"},{\"attributes\":{\"data_source\":{\"id\":\"8388\"},\"glyph\":{\"id\":\"8390\"},\"hover_glyph\":null,\"muted_glyph\":null,\"nonselection_glyph\":{\"id\":\"8391\"},\"selection_glyph\":{\"id\":\"8394\"},\"view\":{\"id\":\"8393\"}},\"id\":\"8392\",\"type\":\"GlyphRenderer\"},{\"attributes\":{},\"id\":\"8372\",\"type\":\"BasicTickFormatter\"},{\"attributes\":{\"factors\":[\"GOLD\",\"SILVER\",\"BRONZE\"],\"tags\":[[[\"Medal\",\"Medal\",null]]]},\"id\":\"8336\",\"type\":\"FactorRange\"},{\"attributes\":{\"x0\":{\"field\":\"x0\"},\"x1\":{\"field\":\"x1\"},\"y0\":{\"field\":\"y0\"},\"y1\":{\"field\":\"y1\"}},\"id\":\"8390\",\"type\":\"Segment\"},{\"attributes\":{},\"id\":\"8373\",\"type\":\"AllLabels\"},{\"attributes\":{\"line_alpha\":{\"value\":0.1},\"x0\":{\"field\":\"x0\"},\"x1\":{\"field\":\"x1\"},\"y0\":{\"field\":\"y0\"},\"y1\":{\"field\":\"y1\"}},\"id\":\"8391\",\"type\":\"Segment\"},{\"attributes\":{\"x0\":{\"field\":\"x0\"},\"x1\":{\"field\":\"x1\"},\"y0\":{\"field\":\"y0\"},\"y1\":{\"field\":\"y1\"}},\"id\":\"8404\",\"type\":\"Segment\"},{\"attributes\":{\"axis\":{\"id\":\"8348\"},\"grid_line_color\":null,\"ticker\":null},\"id\":\"8350\",\"type\":\"Grid\"},{\"attributes\":{\"angle\":{\"value\":0.0},\"fill_alpha\":{\"value\":1.0},\"fill_color\":{\"value\":\"black\"},\"hatch_alpha\":{\"value\":1.0},\"hatch_color\":{\"value\":\"black\"},\"hatch_scale\":{\"value\":12.0},\"hatch_weight\":{\"value\":1.0},\"line_alpha\":{\"value\":1.0},\"line_cap\":{\"value\":\"butt\"},\"line_color\":{\"value\":\"black\"},\"line_dash\":{\"value\":[]},\"line_dash_offset\":{\"value\":0},\"line_join\":{\"value\":\"bevel\"},\"line_width\":{\"value\":1},\"size\":{\"value\":4},\"x\":{\"field\":\"index\"},\"y\":{\"field\":\"Time\"}},\"id\":\"8380\",\"type\":\"Circle\"},{\"attributes\":{},\"id\":\"8449\",\"type\":\"Selection\"},{\"attributes\":{},\"id\":\"8450\",\"type\":\"UnionRenderers\"},{\"attributes\":{\"below\":[{\"id\":\"8348\"}],\"center\":[{\"id\":\"8350\"},{\"id\":\"8354\"}],\"left\":[{\"id\":\"8351\"}],\"margin\":[5,5,5,5],\"min_border_bottom\":10,\"min_border_left\":10,\"min_border_right\":10,\"min_border_top\":10,\"renderers\":[{\"id\":\"8378\"},{\"id\":\"8385\"},{\"id\":\"8392\"},{\"id\":\"8399\"},{\"id\":\"8406\"},{\"id\":\"8413\"},{\"id\":\"8420\"},{\"id\":\"8430\"}],\"sizing_mode\":\"fixed\",\"title\":{\"id\":\"8340\"},\"toolbar\":{\"id\":\"8361\"},\"width\":500,\"x_range\":{\"id\":\"8336\"},\"x_scale\":{\"id\":\"8344\"},\"y_range\":{\"id\":\"8337\"},\"y_scale\":{\"id\":\"8346\"}},\"id\":\"8339\",\"subtype\":\"Figure\",\"type\":\"Plot\"},{\"attributes\":{\"line_alpha\":{\"value\":0.1},\"x0\":{\"field\":\"x0\"},\"x1\":{\"field\":\"x1\"},\"y0\":{\"field\":\"y0\"},\"y1\":{\"field\":\"y1\"}},\"id\":\"8405\",\"type\":\"Segment\"},{\"attributes\":{\"bottom\":{\"field\":\"bottom\"},\"fill_alpha\":{\"value\":0.1},\"fill_color\":{\"value\":\"#30a2da\"},\"line_alpha\":{\"value\":0.1},\"top\":{\"field\":\"top\"},\"width\":{\"value\":0.7},\"x\":{\"field\":\"index\"}},\"id\":\"8412\",\"type\":\"VBar\"},{\"attributes\":{},\"id\":\"8346\",\"type\":\"LinearScale\"},{\"attributes\":{},\"id\":\"8349\",\"type\":\"CategoricalTicker\"},{\"attributes\":{\"fill_color\":{\"value\":\"black\"},\"x\":{\"field\":\"index\"},\"y\":{\"field\":\"Time\"}},\"id\":\"8376\",\"type\":\"Circle\"},{\"attributes\":{\"line_alpha\":{\"value\":1.0},\"line_cap\":{\"value\":\"butt\"},\"line_color\":{\"value\":\"black\"},\"line_dash\":{\"value\":[]},\"line_dash_offset\":{\"value\":0},\"line_join\":{\"value\":\"bevel\"},\"line_width\":{\"value\":1},\"x0\":{\"field\":\"x0\"},\"x1\":{\"field\":\"x1\"},\"y0\":{\"field\":\"y0\"},\"y1\":{\"field\":\"y1\"}},\"id\":\"8408\",\"type\":\"Segment\"},{\"attributes\":{\"axis_label\":\"Time\",\"formatter\":{\"id\":\"8372\"},\"major_label_policy\":{\"id\":\"8373\"},\"ticker\":{\"id\":\"8352\"}},\"id\":\"8351\",\"type\":\"LinearAxis\"},{\"attributes\":{},\"id\":\"8352\",\"type\":\"BasicTicker\"}],\"root_ids\":[\"8334\"]},\"title\":\"Bokeh Application\",\"version\":\"2.3.0\"}};\n",
       "    var render_items = [{\"docid\":\"466b0904-6407-4cdc-a25e-cadce637971f\",\"root_ids\":[\"8334\"],\"roots\":{\"8334\":\"97971060-446f-4bfc-8c87-0c900543efd8\"}}];\n",
       "    root.Bokeh.embed.embed_items_notebook(docs_json, render_items);\n",
       "  }\n",
       "  if (root.Bokeh !== undefined && root.Bokeh.Panel !== undefined) {\n",
       "    embed_document(root);\n",
       "  } else {\n",
       "    var attempts = 0;\n",
       "    var timer = setInterval(function(root) {\n",
       "      if (root.Bokeh !== undefined && root.Bokeh.Panel !== undefined) {\n",
       "        clearInterval(timer);\n",
       "        embed_document(root);\n",
       "      } else if (document.readyState == \"complete\") {\n",
       "        attempts++;\n",
       "        if (attempts > 100) {\n",
       "          clearInterval(timer);\n",
       "          console.log(\"Bokeh: ERROR: Unable to run BokehJS code because BokehJS library is missing\");\n",
       "        }\n",
       "      }\n",
       "    }, 10, root)\n",
       "  }\n",
       "})(window);</script>"
      ],
      "text/plain": [
       ":Overlay\n",
       "   .BoxWhisker.I :BoxWhisker   [Medal]   (Time)\n",
       "   .Scatter.I    :Scatter   [Medal]   (Time)"
      ]
     },
     "execution_count": 29,
     "metadata": {
      "application/vnd.holoviews_exec.v0+json": {
       "id": "8334"
      }
     },
     "output_type": "execute_result"
    }
   ],
   "source": [
    "hvplot_hover = boxplot * df.hvplot.scatter(y='Time', x='Medal', c='orange').opts(jitter=0.5)\n",
    "hvplot.save(hvplot_hover, '../_includes/boxinteract.html')\n",
    "hvplot_hover"
   ]
  },
  {
   "cell_type": "markdown",
   "metadata": {},
   "source": [
    "{% include boxinteract.html %}"
   ]
  },
  {
   "cell_type": "markdown",
   "metadata": {},
   "source": [
    "### Interactive Charts With Hvplot\n"
   ]
  },
  {
   "cell_type": "code",
   "execution_count": 30,
   "metadata": {},
   "outputs": [
    {
     "data": {},
     "metadata": {},
     "output_type": "display_data"
    },
    {
     "data": {
      "application/vnd.holoviews_exec.v0+json": "",
      "text/html": [
       "<div id='8771'>\n",
       "\n",
       "\n",
       "\n",
       "\n",
       "\n",
       "  <div class=\"bk-root\" id=\"e4a76bb5-8e03-45f2-abb9-cee947770edf\" data-root-id=\"8771\"></div>\n",
       "</div>\n",
       "<script type=\"application/javascript\">(function(root) {\n",
       "  function embed_document(root) {\n",
       "    var docs_json = {\"84b50128-3edb-4583-9386-486073565eb9\":{\"defs\":[{\"extends\":null,\"module\":null,\"name\":\"DataModel\",\"overrides\":[],\"properties\":[]}],\"roots\":{\"references\":[{\"attributes\":{},\"id\":\"8863\",\"type\":\"UnionRenderers\"},{\"attributes\":{\"bottom_units\":\"screen\",\"fill_alpha\":0.5,\"fill_color\":\"lightgrey\",\"left_units\":\"screen\",\"level\":\"overlay\",\"line_alpha\":1.0,\"line_color\":\"black\",\"line_dash\":[4,4],\"line_width\":2,\"right_units\":\"screen\",\"syncable\":false,\"top_units\":\"screen\"},\"id\":\"8796\",\"type\":\"BoxAnnotation\"},{\"attributes\":{},\"id\":\"8906\",\"type\":\"Selection\"},{\"attributes\":{\"data\":{\"bottom\":{\"__ndarray__\":\"UrgehetRI0CamZmZmZkkQKRwPQrXoyRAAAAAAACAJEAfhetRuB4kQEjhehSuRyRAZmZmZmZmJECamZmZmZklQA==\",\"dtype\":\"float64\",\"order\":\"little\",\"shape\":[8]},\"index\":[\"JAM\",\"USA\",\"CAN\",\"GBR\",\"TRI\",\"URS\",\"EUA\",\"RSA\"],\"top\":{\"__ndarray__\":\"CtejcD1KI0B7FK5H4fojQClcj8L1KCRA9ihcj8I1JEAfhetRuB4kQEjhehSuRyRAZmZmZmZmJECamZmZmZklQA==\",\"dtype\":\"float64\",\"order\":\"little\",\"shape\":[8]}},\"selected\":{\"id\":\"8906\"},\"selection_policy\":{\"id\":\"8907\"}},\"id\":\"8867\",\"type\":\"ColumnDataSource\"},{\"attributes\":{\"margin\":[5,5,5,5],\"name\":\"HSpacer12531\",\"sizing_mode\":\"stretch_width\"},\"id\":\"8772\",\"type\":\"Spacer\"},{\"attributes\":{\"line_alpha\":{\"value\":1.0},\"line_cap\":{\"value\":\"butt\"},\"line_color\":{\"value\":\"black\"},\"line_dash\":{\"value\":[]},\"line_dash_offset\":{\"value\":0},\"line_join\":{\"value\":\"bevel\"},\"line_width\":{\"value\":1},\"x0\":{\"field\":\"x0\"},\"x1\":{\"field\":\"x1\"},\"y0\":{\"field\":\"y0\"},\"y1\":{\"field\":\"y1\"}},\"id\":\"8837\",\"type\":\"Segment\"},{\"attributes\":{\"children\":[{\"id\":\"8772\"},{\"id\":\"8775\"},{\"id\":\"8930\"},{\"id\":\"8931\"}],\"margin\":[0,0,0,0],\"name\":\"Row12522\"},\"id\":\"8771\",\"type\":\"Row\"},{\"attributes\":{\"active_multi\":null,\"tools\":[{\"id\":\"8791\"},{\"id\":\"8792\"},{\"id\":\"8793\"},{\"id\":\"8794\"},{\"id\":\"8795\"}]},\"id\":\"8797\",\"type\":\"Toolbar\"},{\"attributes\":{\"margin\":[5,5,5,5],\"name\":\"VSpacer12528\",\"sizing_mode\":\"stretch_height\"},\"id\":\"8932\",\"type\":\"Spacer\"},{\"attributes\":{\"source\":{\"id\":\"8831\"}},\"id\":\"8836\",\"type\":\"CDSView\"},{\"attributes\":{},\"id\":\"8849\",\"type\":\"BasicTickFormatter\"},{\"attributes\":{},\"id\":\"8852\",\"type\":\"Selection\"},{\"attributes\":{},\"id\":\"8850\",\"type\":\"AllLabels\"},{\"attributes\":{},\"id\":\"8853\",\"type\":\"UnionRenderers\"},{\"attributes\":{\"line_alpha\":{\"value\":1.0},\"line_cap\":{\"value\":\"butt\"},\"line_color\":{\"value\":\"black\"},\"line_dash\":{\"value\":[]},\"line_dash_offset\":{\"value\":0},\"line_join\":{\"value\":\"bevel\"},\"line_width\":{\"value\":1},\"x0\":{\"field\":\"x0\"},\"x1\":{\"field\":\"x1\"},\"y0\":{\"field\":\"y0\"},\"y1\":{\"field\":\"y1\"}},\"id\":\"8816\",\"type\":\"Segment\"},{\"attributes\":{\"line_alpha\":{\"value\":0.1},\"x0\":{\"field\":\"x0\"},\"x1\":{\"field\":\"x1\"},\"y0\":{\"field\":\"y0\"},\"y1\":{\"field\":\"y1\"}},\"id\":\"8827\",\"type\":\"Segment\"},{\"attributes\":{},\"id\":\"8782\",\"type\":\"LinearScale\"},{\"attributes\":{\"source\":{\"id\":\"8817\"}},\"id\":\"8822\",\"type\":\"CDSView\"},{\"attributes\":{},\"id\":\"8854\",\"type\":\"Selection\"},{\"attributes\":{\"children\":[{\"id\":\"8934\"}],\"css_classes\":[\"panel-widget-box\"],\"margin\":[5,5,5,5],\"name\":\"WidgetBox12523\"},\"id\":\"8933\",\"type\":\"Column\"},{\"attributes\":{\"data\":{\"bottom\":{\"__ndarray__\":\"mpmZmZlZI0CamZmZmZklQB+F61G4HiVAmpmZmZnZJEAfhetRuB4kQEjhehSuRyRAZmZmZmZmJECamZmZmZklQA==\",\"dtype\":\"float64\",\"order\":\"little\",\"shape\":[8]},\"index\":[\"JAM\",\"USA\",\"CAN\",\"GBR\",\"TRI\",\"URS\",\"EUA\",\"RSA\"],\"top\":{\"__ndarray__\":\"UrgehetRI0CamZmZmZkkQKRwPQrXoyRAAAAAAACAJEAfhetRuB4kQEjhehSuRyRAZmZmZmZmJECamZmZmZklQA==\",\"dtype\":\"float64\",\"order\":\"little\",\"shape\":[8]}},\"selected\":{\"id\":\"8862\"},\"selection_policy\":{\"id\":\"8863\"}},\"id\":\"8838\",\"type\":\"ColumnDataSource\"},{\"attributes\":{},\"id\":\"8855\",\"type\":\"UnionRenderers\"},{\"attributes\":{\"source\":{\"id\":\"8824\"}},\"id\":\"8829\",\"type\":\"CDSView\"},{\"attributes\":{\"data_source\":{\"id\":\"8838\"},\"glyph\":{\"id\":\"8840\"},\"hover_glyph\":null,\"muted_glyph\":null,\"nonselection_glyph\":{\"id\":\"8841\"},\"selection_glyph\":{\"id\":\"8866\"},\"view\":{\"id\":\"8843\"}},\"id\":\"8842\",\"type\":\"GlyphRenderer\"},{\"attributes\":{\"data_source\":{\"id\":\"8810\"},\"glyph\":{\"id\":\"8812\"},\"hover_glyph\":null,\"muted_glyph\":null,\"nonselection_glyph\":{\"id\":\"8813\"},\"selection_glyph\":{\"id\":\"8816\"},\"view\":{\"id\":\"8815\"}},\"id\":\"8814\",\"type\":\"GlyphRenderer\"},{\"attributes\":{},\"id\":\"8792\",\"type\":\"PanTool\"},{\"attributes\":{\"margin\":[5,5,5,5],\"name\":\"VSpacer12529\",\"sizing_mode\":\"stretch_height\"},\"id\":\"8935\",\"type\":\"Spacer\"},{\"attributes\":{\"bottom\":{\"field\":\"bottom\"},\"fill_color\":{\"value\":\"#30a2da\"},\"top\":{\"field\":\"top\"},\"width\":{\"value\":0.7},\"x\":{\"field\":\"index\"}},\"id\":\"8840\",\"type\":\"VBar\"},{\"attributes\":{\"items\":[]},\"id\":\"8864\",\"type\":\"Legend\"},{\"attributes\":{\"end\":12.237,\"reset_end\":12.237,\"reset_start\":9.393,\"start\":9.393,\"tags\":[[[\"Time\",\"Time\",null]]]},\"id\":\"8774\",\"type\":\"Range1d\"},{\"attributes\":{},\"id\":\"8856\",\"type\":\"Selection\"},{\"attributes\":{\"children\":[{\"id\":\"8932\"},{\"id\":\"8933\"},{\"id\":\"8935\"}],\"margin\":[0,0,0,0],\"name\":\"Column12530\"},\"id\":\"8931\",\"type\":\"Column\"},{\"attributes\":{\"text\":\"Medal: GOLD\",\"text_color\":\"black\",\"text_font_size\":\"12pt\"},\"id\":\"8776\",\"type\":\"Title\"},{\"attributes\":{\"data\":{\"Time\":{\"__ndarray__\":\"\",\"dtype\":\"float64\",\"order\":\"little\",\"shape\":[0]},\"index\":{\"__ndarray__\":\"\",\"dtype\":\"float64\",\"order\":\"little\",\"shape\":[0]}},\"selected\":{\"id\":\"8852\"},\"selection_policy\":{\"id\":\"8853\"}},\"id\":\"8803\",\"type\":\"ColumnDataSource\"},{\"attributes\":{},\"id\":\"8857\",\"type\":\"UnionRenderers\"},{\"attributes\":{\"axis_label\":\"Country\",\"formatter\":{\"id\":\"8846\"},\"major_label_policy\":{\"id\":\"8847\"},\"ticker\":{\"id\":\"8785\"}},\"id\":\"8784\",\"type\":\"CategoricalAxis\"},{\"attributes\":{},\"id\":\"8780\",\"type\":\"CategoricalScale\"},{\"attributes\":{\"line_alpha\":{\"value\":0.1},\"x0\":{\"field\":\"x0\"},\"x1\":{\"field\":\"x1\"},\"y0\":{\"field\":\"y0\"},\"y1\":{\"field\":\"y1\"}},\"id\":\"8820\",\"type\":\"Segment\"},{\"attributes\":{\"fill_color\":{\"value\":\"black\"},\"x\":{\"field\":\"index\"},\"y\":{\"field\":\"Time\"}},\"id\":\"8805\",\"type\":\"Circle\"},{\"attributes\":{\"data\":{\"x0\":[[\"JAM\",-0.2],[\"USA\",-0.2],[\"CAN\",-0.2],[\"GBR\",-0.2],[\"TRI\",-0.2],[\"URS\",-0.2],[\"EUA\",-0.2],[\"RSA\",-0.2]],\"x1\":[[\"JAM\",0.2],[\"USA\",0.2],[\"CAN\",0.2],[\"GBR\",0.2],[\"TRI\",0.2],[\"URS\",0.2],[\"EUA\",0.2],[\"RSA\",0.2]],\"y0\":[9.63,9.85,9.84,9.96,10.06,10.14,10.2,10.8],\"y1\":[9.63,9.85,9.84,9.96,10.06,10.14,10.2,10.8]},\"selected\":{\"id\":\"8858\"},\"selection_policy\":{\"id\":\"8859\"}},\"id\":\"8824\",\"type\":\"ColumnDataSource\"},{\"attributes\":{\"bottom\":{\"field\":\"bottom\"},\"fill_alpha\":{\"value\":0.1},\"fill_color\":{\"value\":\"#30a2da\"},\"line_alpha\":{\"value\":0.1},\"top\":{\"field\":\"top\"},\"width\":{\"value\":0.7},\"x\":{\"field\":\"index\"}},\"id\":\"8870\",\"type\":\"VBar\"},{\"attributes\":{\"line_alpha\":{\"value\":1.0},\"line_cap\":{\"value\":\"butt\"},\"line_color\":{\"value\":\"black\"},\"line_dash\":{\"value\":[]},\"line_dash_offset\":{\"value\":0},\"line_join\":{\"value\":\"bevel\"},\"line_width\":{\"value\":1},\"x0\":{\"field\":\"x0\"},\"x1\":{\"field\":\"x1\"},\"y0\":{\"field\":\"y0\"},\"y1\":{\"field\":\"y1\"}},\"id\":\"8823\",\"type\":\"Segment\"},{\"attributes\":{\"factors\":[\"JAM\",\"USA\",\"CAN\",\"GBR\",\"TRI\",\"URS\",\"EUA\",\"RSA\"],\"tags\":[[[\"Country\",\"Country\",null]]]},\"id\":\"8773\",\"type\":\"FactorRange\"},{\"attributes\":{\"x0\":{\"field\":\"x0\"},\"x1\":{\"field\":\"x1\"},\"y0\":{\"field\":\"y0\"},\"y1\":{\"field\":\"y1\"}},\"id\":\"8812\",\"type\":\"Segment\"},{\"attributes\":{\"data_source\":{\"id\":\"8831\"},\"glyph\":{\"id\":\"8833\"},\"hover_glyph\":null,\"muted_glyph\":null,\"nonselection_glyph\":{\"id\":\"8834\"},\"selection_glyph\":{\"id\":\"8837\"},\"view\":{\"id\":\"8836\"}},\"id\":\"8835\",\"type\":\"GlyphRenderer\"},{\"attributes\":{\"x0\":{\"field\":\"x0\"},\"x1\":{\"field\":\"x1\"},\"y0\":{\"field\":\"y0\"},\"y1\":{\"field\":\"y1\"}},\"id\":\"8833\",\"type\":\"Segment\"},{\"attributes\":{\"axis_label\":\"Sprint Time\",\"formatter\":{\"id\":\"8849\"},\"major_label_policy\":{\"id\":\"8850\"},\"ticker\":{\"id\":\"8788\"}},\"id\":\"8787\",\"type\":\"LinearAxis\"},{\"attributes\":{\"line_alpha\":{\"value\":0.1},\"x0\":{\"field\":\"x0\"},\"x1\":{\"field\":\"x1\"},\"y0\":{\"field\":\"y0\"},\"y1\":{\"field\":\"y1\"}},\"id\":\"8834\",\"type\":\"Segment\"},{\"attributes\":{\"x0\":{\"field\":\"x0\"},\"x1\":{\"field\":\"x1\"},\"y0\":{\"field\":\"y0\"},\"y1\":{\"field\":\"y1\"}},\"id\":\"8819\",\"type\":\"Segment\"},{\"attributes\":{\"axis\":{\"id\":\"8784\"},\"grid_line_color\":null,\"ticker\":null},\"id\":\"8786\",\"type\":\"Grid\"},{\"attributes\":{\"data\":{\"x0\":[[\"JAM\",-0.2],[\"USA\",-0.2],[\"CAN\",-0.2],[\"GBR\",-0.2],[\"TRI\",-0.2],[\"URS\",-0.2],[\"EUA\",-0.2],[\"RSA\",-0.2]],\"x1\":[[\"JAM\",0.2],[\"USA\",0.2],[\"CAN\",0.2],[\"GBR\",0.2],[\"TRI\",0.2],[\"URS\",0.2],[\"EUA\",0.2],[\"RSA\",0.2]],\"y0\":[9.69,12.0,10.8,10.6,10.06,10.14,10.2,10.8],\"y1\":[9.69,12.0,10.8,10.6,10.06,10.14,10.2,10.8]},\"selected\":{\"id\":\"8860\"},\"selection_policy\":{\"id\":\"8861\"}},\"id\":\"8831\",\"type\":\"ColumnDataSource\"},{\"attributes\":{},\"id\":\"8785\",\"type\":\"CategoricalTicker\"},{\"attributes\":{\"bottom\":{\"field\":\"bottom\"},\"fill_alpha\":{\"value\":1.0},\"fill_color\":{\"value\":\"#30a2da\"},\"hatch_alpha\":{\"value\":1.0},\"hatch_color\":{\"value\":\"black\"},\"hatch_scale\":{\"value\":12.0},\"hatch_weight\":{\"value\":1.0},\"line_alpha\":{\"value\":1.0},\"line_cap\":{\"value\":\"butt\"},\"line_color\":{\"value\":\"black\"},\"line_dash\":{\"value\":[]},\"line_dash_offset\":{\"value\":0},\"line_join\":{\"value\":\"bevel\"},\"line_width\":{\"value\":1},\"top\":{\"field\":\"top\"},\"width\":{\"value\":0.7},\"x\":{\"field\":\"index\"}},\"id\":\"8866\",\"type\":\"VBar\"},{\"attributes\":{},\"id\":\"8847\",\"type\":\"AllLabels\"},{\"attributes\":{\"below\":[{\"id\":\"8784\"}],\"center\":[{\"id\":\"8786\"},{\"id\":\"8790\"},{\"id\":\"8864\"}],\"height\":400,\"left\":[{\"id\":\"8787\"}],\"margin\":[5,5,5,5],\"min_border_bottom\":10,\"min_border_left\":10,\"min_border_right\":10,\"min_border_top\":10,\"renderers\":[{\"id\":\"8807\"},{\"id\":\"8814\"},{\"id\":\"8821\"},{\"id\":\"8828\"},{\"id\":\"8835\"},{\"id\":\"8842\"},{\"id\":\"8871\"}],\"sizing_mode\":\"fixed\",\"title\":{\"id\":\"8776\"},\"toolbar\":{\"id\":\"8797\"},\"x_range\":{\"id\":\"8773\"},\"x_scale\":{\"id\":\"8780\"},\"y_range\":{\"id\":\"8774\"},\"y_scale\":{\"id\":\"8782\"}},\"id\":\"8775\",\"subtype\":\"Figure\",\"type\":\"Plot\"},{\"attributes\":{\"line_alpha\":{\"value\":0.1},\"x0\":{\"field\":\"x0\"},\"x1\":{\"field\":\"x1\"},\"y0\":{\"field\":\"y0\"},\"y1\":{\"field\":\"y1\"}},\"id\":\"8813\",\"type\":\"Segment\"},{\"attributes\":{\"axis\":{\"id\":\"8787\"},\"dimension\":1,\"grid_line_color\":null,\"ticker\":null},\"id\":\"8790\",\"type\":\"Grid\"},{\"attributes\":{\"source\":{\"id\":\"8867\"}},\"id\":\"8872\",\"type\":\"CDSView\"},{\"attributes\":{},\"id\":\"8858\",\"type\":\"Selection\"},{\"attributes\":{},\"id\":\"8859\",\"type\":\"UnionRenderers\"},{\"attributes\":{},\"id\":\"8788\",\"type\":\"BasicTicker\"},{\"attributes\":{},\"id\":\"8846\",\"type\":\"CategoricalTickFormatter\"},{\"attributes\":{},\"id\":\"8793\",\"type\":\"WheelZoomTool\"},{\"attributes\":{\"bottom\":{\"field\":\"bottom\"},\"fill_alpha\":{\"value\":1.0},\"fill_color\":{\"value\":\"#30a2da\"},\"hatch_alpha\":{\"value\":1.0},\"hatch_color\":{\"value\":\"black\"},\"hatch_scale\":{\"value\":12.0},\"hatch_weight\":{\"value\":1.0},\"line_alpha\":{\"value\":1.0},\"line_cap\":{\"value\":\"butt\"},\"line_color\":{\"value\":\"black\"},\"line_dash\":{\"value\":[]},\"line_dash_offset\":{\"value\":0},\"line_join\":{\"value\":\"bevel\"},\"line_width\":{\"value\":1},\"top\":{\"field\":\"top\"},\"width\":{\"value\":0.7},\"x\":{\"field\":\"index\"}},\"id\":\"8873\",\"type\":\"VBar\"},{\"attributes\":{\"source\":{\"id\":\"8810\"}},\"id\":\"8815\",\"type\":\"CDSView\"},{\"attributes\":{\"data\":{\"x0\":[\"JAM\",\"USA\",\"CAN\",\"GBR\",\"TRI\",\"URS\",\"EUA\",\"RSA\"],\"x1\":[\"JAM\",\"USA\",\"CAN\",\"GBR\",\"TRI\",\"URS\",\"EUA\",\"RSA\"],\"y0\":{\"__ndarray__\":\"w/UoXI9CI0AzMzMzM7MjQK5H4XoUriNA7FG4HoXrI0AfhetRuB4kQEjhehSuRyRAZmZmZmZmJECamZmZmZklQA==\",\"dtype\":\"float64\",\"order\":\"little\",\"shape\":[8]},\"y1\":{\"__ndarray__\":\"CtejcD1KI0B7FK5H4fojQClcj8L1KCRA9ihcj8I1JEAfhetRuB4kQEjhehSuRyRAZmZmZmZmJECamZmZmZklQA==\",\"dtype\":\"float64\",\"order\":\"little\",\"shape\":[8]}},\"selected\":{\"id\":\"8856\"},\"selection_policy\":{\"id\":\"8857\"}},\"id\":\"8817\",\"type\":\"ColumnDataSource\"},{\"attributes\":{\"line_alpha\":{\"value\":1.0},\"line_cap\":{\"value\":\"butt\"},\"line_color\":{\"value\":\"black\"},\"line_dash\":{\"value\":[]},\"line_dash_offset\":{\"value\":0},\"line_join\":{\"value\":\"bevel\"},\"line_width\":{\"value\":1},\"x0\":{\"field\":\"x0\"},\"x1\":{\"field\":\"x1\"},\"y0\":{\"field\":\"y0\"},\"y1\":{\"field\":\"y1\"}},\"id\":\"8830\",\"type\":\"Segment\"},{\"attributes\":{},\"id\":\"8791\",\"type\":\"SaveTool\"},{\"attributes\":{\"bottom\":{\"field\":\"bottom\"},\"fill_color\":{\"value\":\"#30a2da\"},\"top\":{\"field\":\"top\"},\"width\":{\"value\":0.7},\"x\":{\"field\":\"index\"}},\"id\":\"8869\",\"type\":\"VBar\"},{\"attributes\":{\"data_source\":{\"id\":\"8867\"},\"glyph\":{\"id\":\"8869\"},\"hover_glyph\":null,\"muted_glyph\":null,\"nonselection_glyph\":{\"id\":\"8870\"},\"selection_glyph\":{\"id\":\"8873\"},\"view\":{\"id\":\"8872\"}},\"id\":\"8871\",\"type\":\"GlyphRenderer\"},{\"attributes\":{\"overlay\":{\"id\":\"8796\"}},\"id\":\"8794\",\"type\":\"BoxZoomTool\"},{\"attributes\":{\"margin\":[5,5,5,5],\"name\":\"HSpacer12532\",\"sizing_mode\":\"stretch_width\"},\"id\":\"8930\",\"type\":\"Spacer\"},{\"attributes\":{\"data_source\":{\"id\":\"8817\"},\"glyph\":{\"id\":\"8819\"},\"hover_glyph\":null,\"muted_glyph\":null,\"nonselection_glyph\":{\"id\":\"8820\"},\"selection_glyph\":{\"id\":\"8823\"},\"view\":{\"id\":\"8822\"}},\"id\":\"8821\",\"type\":\"GlyphRenderer\"},{\"attributes\":{},\"id\":\"8795\",\"type\":\"ResetTool\"},{\"attributes\":{\"fill_alpha\":{\"value\":0.1},\"fill_color\":{\"value\":\"black\"},\"line_alpha\":{\"value\":0.1},\"x\":{\"field\":\"index\"},\"y\":{\"field\":\"Time\"}},\"id\":\"8806\",\"type\":\"Circle\"},{\"attributes\":{\"source\":{\"id\":\"8838\"}},\"id\":\"8843\",\"type\":\"CDSView\"},{\"attributes\":{\"data\":{\"x0\":[\"JAM\",\"USA\",\"CAN\",\"GBR\",\"TRI\",\"URS\",\"EUA\",\"RSA\"],\"x1\":[\"JAM\",\"USA\",\"CAN\",\"GBR\",\"TRI\",\"URS\",\"EUA\",\"RSA\"],\"y0\":{\"__ndarray__\":\"4XoUrkdhI0AAAAAAAAAoQJqZmZmZmSVAMzMzMzMzJUAfhetRuB4kQEjhehSuRyRAZmZmZmZmJECamZmZmZklQA==\",\"dtype\":\"float64\",\"order\":\"little\",\"shape\":[8]},\"y1\":{\"__ndarray__\":\"mpmZmZlZI0CamZmZmZklQB+F61G4HiVAmpmZmZnZJEAfhetRuB4kQEjhehSuRyRAZmZmZmZmJECamZmZmZklQA==\",\"dtype\":\"float64\",\"order\":\"little\",\"shape\":[8]}},\"selected\":{\"id\":\"8854\"},\"selection_policy\":{\"id\":\"8855\"}},\"id\":\"8810\",\"type\":\"ColumnDataSource\"},{\"attributes\":{},\"id\":\"8860\",\"type\":\"Selection\"},{\"attributes\":{},\"id\":\"8861\",\"type\":\"UnionRenderers\"},{\"attributes\":{\"data_source\":{\"id\":\"8803\"},\"glyph\":{\"id\":\"8805\"},\"hover_glyph\":null,\"muted_glyph\":null,\"nonselection_glyph\":{\"id\":\"8806\"},\"selection_glyph\":{\"id\":\"8809\"},\"view\":{\"id\":\"8808\"}},\"id\":\"8807\",\"type\":\"GlyphRenderer\"},{\"attributes\":{},\"id\":\"8907\",\"type\":\"UnionRenderers\"},{\"attributes\":{\"data_source\":{\"id\":\"8824\"},\"glyph\":{\"id\":\"8826\"},\"hover_glyph\":null,\"muted_glyph\":null,\"nonselection_glyph\":{\"id\":\"8827\"},\"selection_glyph\":{\"id\":\"8830\"},\"view\":{\"id\":\"8829\"}},\"id\":\"8828\",\"type\":\"GlyphRenderer\"},{\"attributes\":{\"client_comm_id\":\"6b2cf7cd47ad4dc4b527c4ad27d262af\",\"comm_id\":\"21ce1e6e36104be48d83b01e134fc94e\",\"plot_id\":\"8771\"},\"id\":\"9002\",\"type\":\"panel.models.comm_manager.CommManager\"},{\"attributes\":{\"x0\":{\"field\":\"x0\"},\"x1\":{\"field\":\"x1\"},\"y0\":{\"field\":\"y0\"},\"y1\":{\"field\":\"y1\"}},\"id\":\"8826\",\"type\":\"Segment\"},{\"attributes\":{\"bottom\":{\"field\":\"bottom\"},\"fill_alpha\":{\"value\":0.1},\"fill_color\":{\"value\":\"#30a2da\"},\"line_alpha\":{\"value\":0.1},\"top\":{\"field\":\"top\"},\"width\":{\"value\":0.7},\"x\":{\"field\":\"index\"}},\"id\":\"8841\",\"type\":\"VBar\"},{\"attributes\":{\"margin\":[20,20,20,20],\"min_width\":250,\"options\":[\"GOLD\",\"SILVER\",\"BRONZE\"],\"title\":\"Medal\",\"value\":\"GOLD\",\"width\":250},\"id\":\"8934\",\"type\":\"Select\"},{\"attributes\":{\"angle\":{\"value\":0.0},\"fill_alpha\":{\"value\":1.0},\"fill_color\":{\"value\":\"black\"},\"hatch_alpha\":{\"value\":1.0},\"hatch_color\":{\"value\":\"black\"},\"hatch_scale\":{\"value\":12.0},\"hatch_weight\":{\"value\":1.0},\"line_alpha\":{\"value\":1.0},\"line_cap\":{\"value\":\"butt\"},\"line_color\":{\"value\":\"black\"},\"line_dash\":{\"value\":[]},\"line_dash_offset\":{\"value\":0},\"line_join\":{\"value\":\"bevel\"},\"line_width\":{\"value\":1},\"size\":{\"value\":4},\"x\":{\"field\":\"index\"},\"y\":{\"field\":\"Time\"}},\"id\":\"8809\",\"type\":\"Circle\"},{\"attributes\":{\"source\":{\"id\":\"8803\"}},\"id\":\"8808\",\"type\":\"CDSView\"},{\"attributes\":{},\"id\":\"8862\",\"type\":\"Selection\"}],\"root_ids\":[\"8771\",\"9002\"]},\"title\":\"Bokeh Application\",\"version\":\"2.3.0\"}};\n",
       "    var render_items = [{\"docid\":\"84b50128-3edb-4583-9386-486073565eb9\",\"root_ids\":[\"8771\"],\"roots\":{\"8771\":\"e4a76bb5-8e03-45f2-abb9-cee947770edf\"}}];\n",
       "    root.Bokeh.embed.embed_items_notebook(docs_json, render_items);\n",
       "  }\n",
       "  if (root.Bokeh !== undefined && root.Bokeh.Panel !== undefined) {\n",
       "    embed_document(root);\n",
       "  } else {\n",
       "    var attempts = 0;\n",
       "    var timer = setInterval(function(root) {\n",
       "      if (root.Bokeh !== undefined && root.Bokeh.Panel !== undefined) {\n",
       "        clearInterval(timer);\n",
       "        embed_document(root);\n",
       "      } else if (document.readyState == \"complete\") {\n",
       "        attempts++;\n",
       "        if (attempts > 100) {\n",
       "          clearInterval(timer);\n",
       "          console.log(\"Bokeh: ERROR: Unable to run BokehJS code because BokehJS library is missing\");\n",
       "        }\n",
       "      }\n",
       "    }, 10, root)\n",
       "  }\n",
       "})(window);</script>"
      ],
      "text/plain": [
       ":DynamicMap   [Medal]\n",
       "   :BoxWhisker   [Country]   (Time)"
      ]
     },
     "execution_count": 30,
     "metadata": {
      "application/vnd.holoviews_exec.v0+json": {
       "id": "8771"
      }
     },
     "output_type": "execute_result"
    }
   ],
   "source": [
    "boxinteract = df.hvplot.box(y='Time', groupby='Medal', by='Country', ylabel='Sprint Time', height=400, width=600) \n",
    "boxinteract"
   ]
  },
  {
   "cell_type": "code",
   "execution_count": null,
   "metadata": {},
   "outputs": [],
   "source": [
    "hvplot.save(boxinteract, '../_includes/boxinteract.html')"
   ]
  },
  {
   "cell_type": "markdown",
   "metadata": {},
   "source": [
    "{% include boxinteract.html %}"
   ]
  }
 ],
 "metadata": {
  "kernelspec": {
   "display_name": "Python 3",
   "language": "python",
   "name": "python3"
  },
  "language_info": {
   "codemirror_mode": {
    "name": "ipython",
    "version": 3
   },
   "file_extension": ".py",
   "mimetype": "text/x-python",
   "name": "python",
   "nbconvert_exporter": "python",
   "pygments_lexer": "ipython3",
   "version": "3.8.5"
  }
 },
 "nbformat": 4,
 "nbformat_minor": 2
}
