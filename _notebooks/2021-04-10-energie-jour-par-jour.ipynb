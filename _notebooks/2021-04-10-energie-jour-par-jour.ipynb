{
 "cells": [
  {
   "cell_type": "code",
   "execution_count": 1,
   "metadata": {},
   "outputs": [],
   "source": [
    "#hide\n",
    "# !pip install -r ../requirements.txt "
   ]
  },
  {
   "cell_type": "markdown",
   "metadata": {},
   "source": [
    "# Introducing fastpages with hvplot\n",
    "> An easy to use blogging platform with extra features for <a href=\"https://jupyter.org/\">Jupyter Notebooks</a>.\n",
    "\n",
    "- toc: true \n",
    "- badges: true\n",
    "- comments: true\n",
    "- sticky_rank: 1\n",
    "- author: Thomas PEDOT\n",
    "- image: images/diagram.png\n",
    "- categories: [fastpages, jupyter]\n"
   ]
  },
  {
   "cell_type": "code",
   "execution_count": 2,
   "metadata": {
    "ExecuteTime": {
     "end_time": "2021-03-30T17:23:06.235895Z",
     "start_time": "2021-03-30T17:23:06.168024Z"
    }
   },
   "outputs": [],
   "source": [
    "#hide\n",
    "from influxdb_client import InfluxDBClient\n",
    "\n",
    "import pandas as pd\n",
    "import time\n",
    "import requests\n",
    "import hvplot.pandas\n",
    "from decouple import config\n",
    "from urllib.parse import urlparse\n",
    "import influxdb_client\n",
    "from influxdb_client.client.write_api import SYNCHRONOUS\n",
    "from snippets import *\n",
    "TOKEN = config(\"TOKEN\")\n",
    "ORG = config(\"ORG\")\n",
    "INFLUXDB_URL = config(\"INFLUXDB_URL\")\n"
   ]
  },
  {
   "cell_type": "code",
   "execution_count": 3,
   "metadata": {},
   "outputs": [
    {
     "data": {
      "text/plain": [
       "{'checks': [],\n",
       " 'commit': '4e7a59bb9a',\n",
       " 'message': 'ready for queries and writes',\n",
       " 'name': 'influxdb',\n",
       " 'status': 'pass',\n",
       " 'version': '2.0.4'}"
      ]
     },
     "execution_count": 3,
     "metadata": {},
     "output_type": "execute_result"
    }
   ],
   "source": [
    "#hide\n",
    "client = InfluxDBClient(url=INFLUXDB_URL, token=TOKEN, org=ORG)\n",
    "\n",
    "client.health()"
   ]
  },
  {
   "cell_type": "code",
   "execution_count": 9,
   "metadata": {},
   "outputs": [
    {
     "data": {
      "text/html": [
       "<div>\n",
       "<style scoped>\n",
       "    .dataframe tbody tr th:only-of-type {\n",
       "        vertical-align: middle;\n",
       "    }\n",
       "\n",
       "    .dataframe tbody tr th {\n",
       "        vertical-align: top;\n",
       "    }\n",
       "\n",
       "    .dataframe thead th {\n",
       "        text-align: right;\n",
       "    }\n",
       "</style>\n",
       "<table border=\"1\" class=\"dataframe\">\n",
       "  <thead>\n",
       "    <tr style=\"text-align: right;\">\n",
       "      <th></th>\n",
       "      <th>result</th>\n",
       "      <th>table</th>\n",
       "      <th>start</th>\n",
       "      <th>stop</th>\n",
       "      <th>time</th>\n",
       "      <th>value</th>\n",
       "      <th>field</th>\n",
       "      <th>measurement</th>\n",
       "      <th>host</th>\n",
       "      <th>topic</th>\n",
       "    </tr>\n",
       "  </thead>\n",
       "  <tbody>\n",
       "    <tr>\n",
       "      <th>0</th>\n",
       "      <td>_result</td>\n",
       "      <td>0</td>\n",
       "      <td>2021-04-03 09:05:08.917741+00:00</td>\n",
       "      <td>2021-04-10 09:05:08.917741+00:00</td>\n",
       "      <td>2021-04-04 00:00:00+00:00</td>\n",
       "      <td>695.048263</td>\n",
       "      <td>Puissance de l'onduleur à stockage d'énergie</td>\n",
       "      <td>solarmanpv</td>\n",
       "      <td>telegraf1</td>\n",
       "      <td>SolarmanPV/realTimeDataBattery</td>\n",
       "    </tr>\n",
       "    <tr>\n",
       "      <th>1</th>\n",
       "      <td>_result</td>\n",
       "      <td>0</td>\n",
       "      <td>2021-04-03 09:05:08.917741+00:00</td>\n",
       "      <td>2021-04-10 09:05:08.917741+00:00</td>\n",
       "      <td>2021-04-05 00:00:00+00:00</td>\n",
       "      <td>596.041667</td>\n",
       "      <td>Puissance de l'onduleur à stockage d'énergie</td>\n",
       "      <td>solarmanpv</td>\n",
       "      <td>telegraf1</td>\n",
       "      <td>SolarmanPV/realTimeDataBattery</td>\n",
       "    </tr>\n",
       "    <tr>\n",
       "      <th>2</th>\n",
       "      <td>_result</td>\n",
       "      <td>0</td>\n",
       "      <td>2021-04-03 09:05:08.917741+00:00</td>\n",
       "      <td>2021-04-10 09:05:08.917741+00:00</td>\n",
       "      <td>2021-04-06 00:00:00+00:00</td>\n",
       "      <td>691.384358</td>\n",
       "      <td>Puissance de l'onduleur à stockage d'énergie</td>\n",
       "      <td>solarmanpv</td>\n",
       "      <td>telegraf1</td>\n",
       "      <td>SolarmanPV/realTimeDataBattery</td>\n",
       "    </tr>\n",
       "    <tr>\n",
       "      <th>3</th>\n",
       "      <td>_result</td>\n",
       "      <td>0</td>\n",
       "      <td>2021-04-03 09:05:08.917741+00:00</td>\n",
       "      <td>2021-04-10 09:05:08.917741+00:00</td>\n",
       "      <td>2021-04-07 00:00:00+00:00</td>\n",
       "      <td>526.028513</td>\n",
       "      <td>Puissance de l'onduleur à stockage d'énergie</td>\n",
       "      <td>solarmanpv</td>\n",
       "      <td>telegraf1</td>\n",
       "      <td>SolarmanPV/realTimeDataBattery</td>\n",
       "    </tr>\n",
       "    <tr>\n",
       "      <th>4</th>\n",
       "      <td>_result</td>\n",
       "      <td>0</td>\n",
       "      <td>2021-04-03 09:05:08.917741+00:00</td>\n",
       "      <td>2021-04-10 09:05:08.917741+00:00</td>\n",
       "      <td>2021-04-08 00:00:00+00:00</td>\n",
       "      <td>774.879121</td>\n",
       "      <td>Puissance de l'onduleur à stockage d'énergie</td>\n",
       "      <td>solarmanpv</td>\n",
       "      <td>telegraf1</td>\n",
       "      <td>SolarmanPV/realTimeDataBattery</td>\n",
       "    </tr>\n",
       "  </tbody>\n",
       "</table>\n",
       "</div>"
      ],
      "text/plain": [
       "    result table                            start  \\\n",
       "0  _result     0 2021-04-03 09:05:08.917741+00:00   \n",
       "1  _result     0 2021-04-03 09:05:08.917741+00:00   \n",
       "2  _result     0 2021-04-03 09:05:08.917741+00:00   \n",
       "3  _result     0 2021-04-03 09:05:08.917741+00:00   \n",
       "4  _result     0 2021-04-03 09:05:08.917741+00:00   \n",
       "\n",
       "                              stop                      time       value  \\\n",
       "0 2021-04-10 09:05:08.917741+00:00 2021-04-04 00:00:00+00:00  695.048263   \n",
       "1 2021-04-10 09:05:08.917741+00:00 2021-04-05 00:00:00+00:00  596.041667   \n",
       "2 2021-04-10 09:05:08.917741+00:00 2021-04-06 00:00:00+00:00  691.384358   \n",
       "3 2021-04-10 09:05:08.917741+00:00 2021-04-07 00:00:00+00:00  526.028513   \n",
       "4 2021-04-10 09:05:08.917741+00:00 2021-04-08 00:00:00+00:00  774.879121   \n",
       "\n",
       "                                          field measurement       host  \\\n",
       "0  Puissance de l'onduleur à stockage d'énergie  solarmanpv  telegraf1   \n",
       "1  Puissance de l'onduleur à stockage d'énergie  solarmanpv  telegraf1   \n",
       "2  Puissance de l'onduleur à stockage d'énergie  solarmanpv  telegraf1   \n",
       "3  Puissance de l'onduleur à stockage d'énergie  solarmanpv  telegraf1   \n",
       "4  Puissance de l'onduleur à stockage d'énergie  solarmanpv  telegraf1   \n",
       "\n",
       "                            topic  \n",
       "0  SolarmanPV/realTimeDataBattery  \n",
       "1  SolarmanPV/realTimeDataBattery  \n",
       "2  SolarmanPV/realTimeDataBattery  \n",
       "3  SolarmanPV/realTimeDataBattery  \n",
       "4  SolarmanPV/realTimeDataBattery  "
      ]
     },
     "execution_count": 9,
     "metadata": {},
     "output_type": "execute_result"
    }
   ],
   "source": [
    "# https://www.influxdata.com/blog/getting-started-with-influxdb-and-pandas/\n",
    "query_api = client.query_api()\n",
    "query = '''from(bucket: \"energie\")\n",
    "  |> range(start: -7d)\n",
    "  |> filter(fn: (r) => r[\"_measurement\"] == \"solarmanpv\")\n",
    "  |> filter(fn: (r) => r[\"_field\"] == \"Puissance de l'onduleur à stockage d'énergie\")\n",
    "  |> aggregateWindow(every: 1d, fn: mean)'''\n",
    "\n",
    "\n",
    "result = client.query_api().query_data_frame(org=ORG, query=query)\n",
    "result.columns = ['result', 'table', 'start', 'stop', 'time', 'value', 'field',\n",
    "       'measurement', 'host', 'topic']\n",
    "result.head()"
   ]
  },
  {
   "cell_type": "code",
   "execution_count": 15,
   "metadata": {},
   "outputs": [
    {
     "data": {},
     "metadata": {},
     "output_type": "display_data"
    },
    {
     "data": {
      "application/vnd.holoviews_exec.v0+json": "",
      "text/html": [
       "<div id='1873'>\n",
       "\n",
       "\n",
       "\n",
       "\n",
       "\n",
       "  <div class=\"bk-root\" id=\"cecb3d4d-05c3-41eb-854d-6ee8317291a8\" data-root-id=\"1873\"></div>\n",
       "</div>\n",
       "<script type=\"application/javascript\">(function(root) {\n",
       "  function embed_document(root) {\n",
       "    var docs_json = {\"e380f345-564d-4e0e-9a29-10c655759852\":{\"defs\":[],\"roots\":{\"references\":[{\"attributes\":{\"factors\":[\"2021-04-04 00:00:00\",\"2021-04-05 00:00:00\",\"2021-04-06 00:00:00\",\"2021-04-07 00:00:00\",\"2021-04-08 00:00:00\",\"2021-04-09 00:00:00\",\"2021-04-10 00:00:00\",\"2021-04-10 09:05:08\"],\"tags\":[[[\"time\",\"time\",null]]]},\"id\":\"1875\",\"type\":\"FactorRange\"},{\"attributes\":{\"callback\":null,\"renderers\":[{\"id\":\"1913\"}],\"tags\":[\"hv_created\"],\"tooltips\":[[\"time\",\"@{time}\"],[\"value\",\"@{value}\"]]},\"id\":\"1877\",\"type\":\"HoverTool\"},{\"attributes\":{\"bottom_units\":\"screen\",\"fill_alpha\":0.5,\"fill_color\":\"lightgrey\",\"left_units\":\"screen\",\"level\":\"overlay\",\"line_alpha\":1.0,\"line_color\":\"black\",\"line_dash\":[4,4],\"line_width\":2,\"right_units\":\"screen\",\"syncable\":false,\"top_units\":\"screen\"},\"id\":\"1899\",\"type\":\"BoxAnnotation\"},{\"attributes\":{\"fill_alpha\":{\"value\":0.2},\"fill_color\":{\"value\":\"#30a2da\"},\"line_alpha\":{\"value\":0.2},\"top\":{\"field\":\"value\"},\"width\":{\"value\":0.8},\"x\":{\"field\":\"time\"}},\"id\":\"1912\",\"type\":\"VBar\"},{\"attributes\":{\"bottom\":{\"value\":0},\"fill_alpha\":{\"value\":1.0},\"fill_color\":{\"value\":\"#30a2da\"},\"hatch_alpha\":{\"value\":1.0},\"hatch_color\":{\"value\":\"black\"},\"hatch_scale\":{\"value\":12.0},\"hatch_weight\":{\"value\":1.0},\"line_alpha\":{\"value\":1.0},\"line_cap\":{\"value\":\"butt\"},\"line_color\":{\"value\":\"black\"},\"line_dash\":{\"value\":[]},\"line_dash_offset\":{\"value\":0},\"line_join\":{\"value\":\"bevel\"},\"line_width\":{\"value\":1},\"top\":{\"field\":\"value\"},\"width\":{\"value\":0.8},\"x\":{\"field\":\"time\"}},\"id\":\"1915\",\"type\":\"VBar\"},{\"attributes\":{},\"id\":\"1888\",\"type\":\"CategoricalTicker\"},{\"attributes\":{\"text_color\":\"black\",\"text_font_size\":\"12pt\"},\"id\":\"1879\",\"type\":\"Title\"},{\"attributes\":{},\"id\":\"1916\",\"type\":\"CategoricalTickFormatter\"},{\"attributes\":{\"data\":{\"time\":[\"2021-04-04 00:00:00\",\"2021-04-05 00:00:00\",\"2021-04-06 00:00:00\",\"2021-04-07 00:00:00\",\"2021-04-08 00:00:00\",\"2021-04-09 00:00:00\",\"2021-04-10 00:00:00\",\"2021-04-10 09:05:08\"],\"value\":{\"__ndarray__\":\"RpN512K4hUBVVVVVVaCCQMy7SioTm4VApA8mZTpwgEBxCIdwCDeIQEoFZPlCeIdAglOZsA3ae0DyZYMmX1Z5QA==\",\"dtype\":\"float64\",\"order\":\"little\",\"shape\":[8]}},\"selected\":{\"id\":\"1908\"},\"selection_policy\":{\"id\":\"1930\"}},\"id\":\"1907\",\"type\":\"ColumnDataSource\"},{\"attributes\":{\"end\":811.8272099581835,\"reset_end\":811.8272099581835,\"reset_start\":0.0,\"tags\":[[[\"value\",\"value\",null]]]},\"id\":\"1876\",\"type\":\"Range1d\"},{\"attributes\":{},\"id\":\"1883\",\"type\":\"CategoricalScale\"},{\"attributes\":{},\"id\":\"1917\",\"type\":\"AllLabels\"},{\"attributes\":{\"below\":[{\"id\":\"1887\"}],\"center\":[{\"id\":\"1889\"},{\"id\":\"1893\"}],\"height\":300,\"left\":[{\"id\":\"1890\"}],\"margin\":[5,5,5,5],\"min_border_bottom\":10,\"min_border_left\":10,\"min_border_right\":10,\"min_border_top\":10,\"renderers\":[{\"id\":\"1913\"}],\"sizing_mode\":\"fixed\",\"title\":{\"id\":\"1879\"},\"toolbar\":{\"id\":\"1900\"},\"width\":700,\"x_range\":{\"id\":\"1875\"},\"x_scale\":{\"id\":\"1883\"},\"y_range\":{\"id\":\"1876\"},\"y_scale\":{\"id\":\"1885\"}},\"id\":\"1878\",\"subtype\":\"Figure\",\"type\":\"Plot\"},{\"attributes\":{\"axis_label\":\"time\",\"formatter\":{\"id\":\"1916\"},\"major_label_orientation\":0.7853981633974483,\"major_label_policy\":{\"id\":\"1917\"},\"ticker\":{\"id\":\"1888\"}},\"id\":\"1887\",\"type\":\"CategoricalAxis\"},{\"attributes\":{},\"id\":\"1919\",\"type\":\"BasicTickFormatter\"},{\"attributes\":{\"fill_color\":{\"value\":\"#30a2da\"},\"top\":{\"field\":\"value\"},\"width\":{\"value\":0.8},\"x\":{\"field\":\"time\"}},\"id\":\"1910\",\"type\":\"VBar\"},{\"attributes\":{},\"id\":\"1920\",\"type\":\"AllLabels\"},{\"attributes\":{},\"id\":\"1885\",\"type\":\"LinearScale\"},{\"attributes\":{\"axis\":{\"id\":\"1890\"},\"dimension\":1,\"grid_line_color\":null,\"ticker\":null},\"id\":\"1893\",\"type\":\"Grid\"},{\"attributes\":{},\"id\":\"1895\",\"type\":\"PanTool\"},{\"attributes\":{\"axis\":{\"id\":\"1887\"},\"grid_line_color\":null,\"ticker\":null},\"id\":\"1889\",\"type\":\"Grid\"},{\"attributes\":{\"fill_alpha\":{\"value\":0.1},\"fill_color\":{\"value\":\"#30a2da\"},\"line_alpha\":{\"value\":0.1},\"top\":{\"field\":\"value\"},\"width\":{\"value\":0.8},\"x\":{\"field\":\"time\"}},\"id\":\"1911\",\"type\":\"VBar\"},{\"attributes\":{\"axis_label\":\"value\",\"formatter\":{\"id\":\"1919\"},\"major_label_policy\":{\"id\":\"1920\"},\"ticker\":{\"id\":\"1891\"}},\"id\":\"1890\",\"type\":\"LinearAxis\"},{\"attributes\":{},\"id\":\"1891\",\"type\":\"BasicTicker\"},{\"attributes\":{},\"id\":\"1896\",\"type\":\"WheelZoomTool\"},{\"attributes\":{\"margin\":[5,5,5,5],\"name\":\"HSpacer02759\",\"sizing_mode\":\"stretch_width\"},\"id\":\"1942\",\"type\":\"Spacer\"},{\"attributes\":{\"active_multi\":null,\"tools\":[{\"id\":\"1877\"},{\"id\":\"1894\"},{\"id\":\"1895\"},{\"id\":\"1896\"},{\"id\":\"1897\"},{\"id\":\"1898\"}]},\"id\":\"1900\",\"type\":\"Toolbar\"},{\"attributes\":{\"margin\":[5,5,5,5],\"name\":\"HSpacer02758\",\"sizing_mode\":\"stretch_width\"},\"id\":\"1874\",\"type\":\"Spacer\"},{\"attributes\":{},\"id\":\"1894\",\"type\":\"SaveTool\"},{\"attributes\":{\"overlay\":{\"id\":\"1899\"}},\"id\":\"1897\",\"type\":\"BoxZoomTool\"},{\"attributes\":{},\"id\":\"1898\",\"type\":\"ResetTool\"},{\"attributes\":{},\"id\":\"1908\",\"type\":\"Selection\"},{\"attributes\":{\"children\":[{\"id\":\"1874\"},{\"id\":\"1878\"},{\"id\":\"1942\"}],\"margin\":[0,0,0,0],\"name\":\"Row02754\",\"tags\":[\"embedded\"]},\"id\":\"1873\",\"type\":\"Row\"},{\"attributes\":{\"data_source\":{\"id\":\"1907\"},\"glyph\":{\"id\":\"1910\"},\"hover_glyph\":null,\"muted_glyph\":{\"id\":\"1912\"},\"nonselection_glyph\":{\"id\":\"1911\"},\"selection_glyph\":{\"id\":\"1915\"},\"view\":{\"id\":\"1914\"}},\"id\":\"1913\",\"type\":\"GlyphRenderer\"},{\"attributes\":{},\"id\":\"1930\",\"type\":\"UnionRenderers\"},{\"attributes\":{\"source\":{\"id\":\"1907\"}},\"id\":\"1914\",\"type\":\"CDSView\"}],\"root_ids\":[\"1873\"]},\"title\":\"Bokeh Application\",\"version\":\"2.3.1\"}};\n",
       "    var render_items = [{\"docid\":\"e380f345-564d-4e0e-9a29-10c655759852\",\"root_ids\":[\"1873\"],\"roots\":{\"1873\":\"cecb3d4d-05c3-41eb-854d-6ee8317291a8\"}}];\n",
       "    root.Bokeh.embed.embed_items_notebook(docs_json, render_items);\n",
       "  }\n",
       "  if (root.Bokeh !== undefined && root.Bokeh.Panel !== undefined) {\n",
       "    embed_document(root);\n",
       "  } else {\n",
       "    var attempts = 0;\n",
       "    var timer = setInterval(function(root) {\n",
       "      if (root.Bokeh !== undefined && root.Bokeh.Panel !== undefined) {\n",
       "        clearInterval(timer);\n",
       "        embed_document(root);\n",
       "      } else if (document.readyState == \"complete\") {\n",
       "        attempts++;\n",
       "        if (attempts > 100) {\n",
       "          clearInterval(timer);\n",
       "          console.log(\"Bokeh: ERROR: Unable to run BokehJS code because BokehJS library is missing\");\n",
       "        }\n",
       "      }\n",
       "    }, 10, root)\n",
       "  }\n",
       "})(window);</script>"
      ],
      "text/plain": [
       ":Bars   [time]   (value)"
      ]
     },
     "execution_count": 15,
     "metadata": {
      "application/vnd.holoviews_exec.v0+json": {
       "id": "1873"
      }
     },
     "output_type": "execute_result"
    }
   ],
   "source": [
    "#hide \n",
    "# https://www.influxdata.com/blog/streaming-time-series-with-jupyter-and-influxdb/\n",
    "energie_hvplot = result.hvplot.bar(x=\"time\", y=\"value\", rot=45)\n",
    "energie_hvplot"
   ]
  },
  {
   "cell_type": "code",
   "execution_count": 16,
   "metadata": {},
   "outputs": [],
   "source": [
    "#hide\n",
    "\n",
    "filename = '../_includes/energie_hvplot.html'\n",
    "\n",
    "    \n",
    "export_plot_fastpages(energie_hvplot, filename)"
   ]
  },
  {
   "cell_type": "raw",
   "metadata": {},
   "source": [
    "{% include energie_hvplot.html %}"
   ]
  },
  {
   "cell_type": "markdown",
   "metadata": {},
   "source": [
    "\n",
    "\n"
   ]
  }
 ],
 "metadata": {
  "kernelspec": {
   "display_name": "Python 3",
   "language": "python",
   "name": "python3"
  },
  "language_info": {
   "codemirror_mode": {
    "name": "ipython",
    "version": 3
   },
   "file_extension": ".py",
   "mimetype": "text/x-python",
   "name": "python",
   "nbconvert_exporter": "python",
   "pygments_lexer": "ipython3",
   "version": "3.8.5"
  },
  "toc": {
   "base_numbering": 1,
   "nav_menu": {},
   "number_sections": true,
   "sideBar": true,
   "skip_h1_title": false,
   "title_cell": "Table of Contents",
   "title_sidebar": "Contents",
   "toc_cell": false,
   "toc_position": {},
   "toc_section_display": true,
   "toc_window_display": false
  }
 },
 "nbformat": 4,
 "nbformat_minor": 4
}
